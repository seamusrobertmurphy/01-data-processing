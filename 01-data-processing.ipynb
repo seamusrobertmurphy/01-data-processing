{
  "nbformat": 4,
  "nbformat_minor": 0,
  "metadata": {
    "colab": {
      "provenance": [],
      "mount_file_id": "1YAVDDVDRLyer6iszu1fNGHscLS0vgXaQ",
      "authorship_tag": "ABX9TyOo8TL9et+WB7YvFR3Wihc8",
      "include_colab_link": true
    },
    "kernelspec": {
      "name": "python3",
      "display_name": "Python 3"
    },
    "language_info": {
      "name": "python"
    },
    "widgets": {
      "application/vnd.jupyter.widget-state+json": {
        "de3c25afb9714362964684bfb1e1acbd": {
          "model_module": "jupyter-leaflet",
          "model_name": "LeafletMapModel",
          "model_module_version": "^0.20",
          "state": {
            "_dom_classes": [],
            "_model_module": "jupyter-leaflet",
            "_model_module_version": "^0.20",
            "_model_name": "LeafletMapModel",
            "_view_count": null,
            "_view_module": "jupyter-leaflet",
            "_view_module_version": "^0.20",
            "_view_name": "LeafletMapView",
            "bottom": 16828,
            "bounce_at_zoom_limits": true,
            "box_zoom": true,
            "center": [
              -1.5818302639606454,
              -83.79825367448933
            ],
            "close_popup_on_click": true,
            "controls": [
              "IPY_MODEL_6ddd941a95eb4e3f8cd97f7103c409dd",
              "IPY_MODEL_8a8cdf2c24ab4c86876a3caa8e9acdff",
              "IPY_MODEL_91990e88a8394e26a9f530b153a2d99d",
              "IPY_MODEL_907eead4ba784791bfe9caa39209e9b9",
              "IPY_MODEL_2bb4cb09b54c41668e32d1bb3181ee7c",
              "IPY_MODEL_7391a1c8d06d4276be3dcb9faa84a647",
              "IPY_MODEL_aa675fda42314bac84d2694c9312e144",
              "IPY_MODEL_340ab44b2f60416a8fd476daa0691ae7"
            ],
            "crs": {
              "name": "EPSG3857",
              "custom": false
            },
            "default_style": "IPY_MODEL_74fb48ae70b346ecb4807f15273bba3a",
            "double_click_zoom": true,
            "dragging": true,
            "dragging_style": "IPY_MODEL_1cbde49cf0634e638b5edd4d7a4492d9",
            "east": -75.70682301042682,
            "fullscreen": false,
            "inertia": true,
            "inertia_deceleration": 3000,
            "inertia_max_speed": 1500,
            "interpolation": "bilinear",
            "keyboard": true,
            "keyboard_pan_offset": 80,
            "keyboard_zoom_offset": 1,
            "layers": [
              "IPY_MODEL_3935a524f8804d2c953922b1bc3f04bc",
              "IPY_MODEL_b16794ce37d94cd78cd2c014e1ace6be",
              "IPY_MODEL_ed59f4ff39f14143974f96e8301593a4",
              "IPY_MODEL_332e87a70a5f43bd8deb8fbcfcd8000e",
              "IPY_MODEL_9ce6842daf0846febe42ed1ec23d90a8",
              "IPY_MODEL_6a9a1e10273142de885d945f7471a536",
              "IPY_MODEL_84f56d9080324bb5b0ec8e204ebce345"
            ],
            "layout": "IPY_MODEL_a578b0b36bfd4899a17051b5f6be0c7b",
            "left": 8019.996732206484,
            "max_zoom": 24,
            "min_zoom": null,
            "modisdate": "2025-08-28",
            "north": 1.7136116598836224,
            "options": [
              "bounce_at_zoom_limits",
              "box_zoom",
              "center",
              "close_popup_on_click",
              "double_click_zoom",
              "dragging",
              "fullscreen",
              "inertia",
              "inertia_deceleration",
              "inertia_max_speed",
              "interpolation",
              "keyboard",
              "keyboard_pan_offset",
              "keyboard_zoom_offset",
              "max_zoom",
              "min_zoom",
              "prefer_canvas",
              "scroll_wheel_zoom",
              "tap",
              "tap_tolerance",
              "touch_zoom",
              "world_copy_jump",
              "zoom",
              "zoom_animation_threshold",
              "zoom_delta",
              "zoom_snap"
            ],
            "panes": {},
            "prefer_canvas": false,
            "right": 9492.996732206484,
            "scroll_wheel_zoom": true,
            "south": -4.872047700241915,
            "style": "IPY_MODEL_74fb48ae70b346ecb4807f15273bba3a",
            "tap": true,
            "tap_tolerance": 15,
            "top": 16228,
            "touch_zoom": true,
            "west": -91.88968433855183,
            "window_url": "https://dxay90d0xfu-496ff2e9c6d22116-0-colab.googleusercontent.com/outputframe.html?vrz=colab_20250828-060111_RC00_800399456",
            "world_copy_jump": false,
            "zoom": 7,
            "zoom_animation_threshold": 4,
            "zoom_delta": 1,
            "zoom_snap": 1
          }
        },
        "6ddd941a95eb4e3f8cd97f7103c409dd": {
          "model_module": "jupyter-leaflet",
          "model_name": "LeafletWidgetControlModel",
          "model_module_version": "^0.20",
          "state": {
            "_model_module": "jupyter-leaflet",
            "_model_module_version": "^0.20",
            "_model_name": "LeafletWidgetControlModel",
            "_view_count": null,
            "_view_module": "jupyter-leaflet",
            "_view_module_version": "^0.20",
            "_view_name": "LeafletWidgetControlView",
            "max_height": null,
            "max_width": null,
            "min_height": null,
            "min_width": null,
            "options": [
              "position",
              "transparent_bg"
            ],
            "position": "topleft",
            "transparent_bg": false,
            "widget": "IPY_MODEL_65ace8bb39c94666811a278343ba5721"
          }
        },
        "8a8cdf2c24ab4c86876a3caa8e9acdff": {
          "model_module": "jupyter-leaflet",
          "model_name": "LeafletZoomControlModel",
          "model_module_version": "^0.20",
          "state": {
            "_model_module": "jupyter-leaflet",
            "_model_module_version": "^0.20",
            "_model_name": "LeafletZoomControlModel",
            "_view_count": null,
            "_view_module": "jupyter-leaflet",
            "_view_module_version": "^0.20",
            "_view_name": "LeafletZoomControlView",
            "options": [
              "position",
              "zoom_in_text",
              "zoom_in_title",
              "zoom_out_text",
              "zoom_out_title"
            ],
            "position": "topleft",
            "zoom_in_text": "+",
            "zoom_in_title": "Zoom in",
            "zoom_out_text": "-",
            "zoom_out_title": "Zoom out"
          }
        },
        "91990e88a8394e26a9f530b153a2d99d": {
          "model_module": "jupyter-leaflet",
          "model_name": "LeafletScaleControlModel",
          "model_module_version": "^0.20",
          "state": {
            "_model_module": "jupyter-leaflet",
            "_model_module_version": "^0.20",
            "_model_name": "LeafletScaleControlModel",
            "_view_count": null,
            "_view_module": "jupyter-leaflet",
            "_view_module_version": "^0.20",
            "_view_name": "LeafletScaleControlView",
            "imperial": true,
            "max_width": 100,
            "metric": true,
            "options": [
              "imperial",
              "max_width",
              "metric",
              "position",
              "update_when_idle"
            ],
            "position": "bottomleft",
            "update_when_idle": false
          }
        },
        "907eead4ba784791bfe9caa39209e9b9": {
          "model_module": "jupyter-leaflet",
          "model_name": "LeafletFullScreenControlModel",
          "model_module_version": "^0.20",
          "state": {
            "_model_module": "jupyter-leaflet",
            "_model_module_version": "^0.20",
            "_model_name": "LeafletFullScreenControlModel",
            "_view_count": null,
            "_view_module": "jupyter-leaflet",
            "_view_module_version": "^0.20",
            "_view_name": "LeafletFullScreenControlView",
            "options": [
              "position"
            ],
            "position": "topleft"
          }
        },
        "2bb4cb09b54c41668e32d1bb3181ee7c": {
          "model_module": "jupyter-leaflet",
          "model_name": "LeafletMeasureControlModel",
          "model_module_version": "^0.20",
          "state": {
            "_custom_units": {},
            "_model_module": "jupyter-leaflet",
            "_model_module_version": "^0.20",
            "_model_name": "LeafletMeasureControlModel",
            "_view_count": null,
            "_view_module": "jupyter-leaflet",
            "_view_module_version": "^0.20",
            "_view_name": "LeafletMeasureControlView",
            "active_color": "orange",
            "capture_z_index": 10000,
            "completed_color": "#C8F2BE",
            "options": [
              "active_color",
              "capture_z_index",
              "completed_color",
              "popup_options",
              "position",
              "primary_area_unit",
              "primary_length_unit",
              "secondary_area_unit",
              "secondary_length_unit"
            ],
            "popup_options": {
              "className": "leaflet-measure-resultpopup",
              "autoPanPadding": [
                10,
                10
              ]
            },
            "position": "bottomleft",
            "primary_area_unit": "acres",
            "primary_length_unit": "kilometers",
            "secondary_area_unit": null,
            "secondary_length_unit": null
          }
        },
        "7391a1c8d06d4276be3dcb9faa84a647": {
          "model_module": "jupyter-leaflet",
          "model_name": "LeafletAttributionControlModel",
          "model_module_version": "^0.20",
          "state": {
            "_model_module": "jupyter-leaflet",
            "_model_module_version": "^0.20",
            "_model_name": "LeafletAttributionControlModel",
            "_view_count": null,
            "_view_module": "jupyter-leaflet",
            "_view_module_version": "^0.20",
            "_view_name": "LeafletAttributionControlView",
            "options": [
              "position",
              "prefix"
            ],
            "position": "bottomright",
            "prefix": "ipyleaflet"
          }
        },
        "aa675fda42314bac84d2694c9312e144": {
          "model_module": "jupyter-leaflet",
          "model_name": "LeafletDrawControlModel",
          "model_module_version": "^0.20",
          "state": {
            "_model_module": "jupyter-leaflet",
            "_model_module_version": "^0.20",
            "_model_name": "LeafletDrawControlModel",
            "_view_count": null,
            "_view_module": "jupyter-leaflet",
            "_view_module_version": "^0.20",
            "_view_name": "LeafletDrawControlView",
            "circle": {
              "shapeOptions": {
                "color": "#3388ff"
              }
            },
            "circlemarker": {},
            "data": [],
            "edit": true,
            "marker": {
              "shapeOptions": {
                "color": "#3388ff"
              }
            },
            "options": [
              "position"
            ],
            "polygon": {
              "shapeOptions": {}
            },
            "polyline": {
              "shapeOptions": {}
            },
            "position": "topleft",
            "rectangle": {
              "shapeOptions": {
                "color": "#3388ff"
              }
            },
            "remove": true
          }
        },
        "340ab44b2f60416a8fd476daa0691ae7": {
          "model_module": "jupyter-leaflet",
          "model_name": "LeafletWidgetControlModel",
          "model_module_version": "^0.20",
          "state": {
            "_model_module": "jupyter-leaflet",
            "_model_module_version": "^0.20",
            "_model_name": "LeafletWidgetControlModel",
            "_view_count": null,
            "_view_module": "jupyter-leaflet",
            "_view_module_version": "^0.20",
            "_view_name": "LeafletWidgetControlView",
            "max_height": null,
            "max_width": null,
            "min_height": null,
            "min_width": null,
            "options": [
              "position",
              "transparent_bg"
            ],
            "position": "topright",
            "transparent_bg": false,
            "widget": "IPY_MODEL_44bfbaa9c1314a6f8a3dbb960ae4f776"
          }
        },
        "74fb48ae70b346ecb4807f15273bba3a": {
          "model_module": "jupyter-leaflet",
          "model_name": "LeafletMapStyleModel",
          "model_module_version": "^0.20",
          "state": {
            "_model_module": "jupyter-leaflet",
            "_model_module_version": "^0.20",
            "_model_name": "LeafletMapStyleModel",
            "_view_count": null,
            "_view_module": "@jupyter-widgets/base",
            "_view_module_version": "1.2.0",
            "_view_name": "StyleView",
            "cursor": "grab"
          }
        },
        "1cbde49cf0634e638b5edd4d7a4492d9": {
          "model_module": "jupyter-leaflet",
          "model_name": "LeafletMapStyleModel",
          "model_module_version": "^0.20",
          "state": {
            "_model_module": "jupyter-leaflet",
            "_model_module_version": "^0.20",
            "_model_name": "LeafletMapStyleModel",
            "_view_count": null,
            "_view_module": "@jupyter-widgets/base",
            "_view_module_version": "1.2.0",
            "_view_name": "StyleView",
            "cursor": "move"
          }
        },
        "3935a524f8804d2c953922b1bc3f04bc": {
          "model_module": "jupyter-leaflet",
          "model_name": "LeafletTileLayerModel",
          "model_module_version": "^0.20",
          "state": {
            "_model_module": "jupyter-leaflet",
            "_model_module_version": "^0.20",
            "_model_name": "LeafletTileLayerModel",
            "_view_count": null,
            "_view_module": "jupyter-leaflet",
            "_view_module_version": "^0.20",
            "_view_name": "LeafletTileLayerView",
            "attribution": "&copy; <a href=\"https://www.openstreetmap.org/copyright\">OpenStreetMap</a> contributors",
            "base": true,
            "bottom": true,
            "bounds": null,
            "detect_retina": false,
            "loading": false,
            "max_native_zoom": null,
            "max_zoom": 19,
            "min_native_zoom": null,
            "min_zoom": 1,
            "name": "OpenStreetMap.Mapnik",
            "no_wrap": false,
            "opacity": 1,
            "options": [
              "attribution",
              "bounds",
              "detect_retina",
              "max_native_zoom",
              "max_zoom",
              "min_native_zoom",
              "min_zoom",
              "no_wrap",
              "pm_ignore",
              "tile_size",
              "tms",
              "zoom_offset"
            ],
            "pane": "",
            "pm_ignore": true,
            "popup": null,
            "popup_max_height": null,
            "popup_max_width": 300,
            "popup_min_width": 50,
            "show_loading": false,
            "snap_ignore": true,
            "subitems": [],
            "tile_size": 256,
            "tms": false,
            "url": "https://tile.openstreetmap.org/{z}/{x}/{y}.png",
            "visible": true,
            "zoom_offset": 0
          }
        },
        "b16794ce37d94cd78cd2c014e1ace6be": {
          "model_module": "jupyter-leaflet",
          "model_name": "LeafletTileLayerModel",
          "model_module_version": "^0.20",
          "state": {
            "_model_module": "jupyter-leaflet",
            "_model_module_version": "^0.20",
            "_model_name": "LeafletTileLayerModel",
            "_view_count": null,
            "_view_module": "jupyter-leaflet",
            "_view_module_version": "^0.20",
            "_view_name": "LeafletTileLayerView",
            "attribution": "Google",
            "base": false,
            "bottom": true,
            "bounds": null,
            "detect_retina": false,
            "loading": false,
            "max_native_zoom": null,
            "max_zoom": 22,
            "min_native_zoom": null,
            "min_zoom": 0,
            "name": "Google Maps",
            "no_wrap": false,
            "opacity": 1,
            "options": [
              "attribution",
              "bounds",
              "detect_retina",
              "max_native_zoom",
              "max_zoom",
              "min_native_zoom",
              "min_zoom",
              "no_wrap",
              "pm_ignore",
              "tile_size",
              "tms",
              "zoom_offset"
            ],
            "pane": "",
            "pm_ignore": true,
            "popup": null,
            "popup_max_height": null,
            "popup_max_width": 300,
            "popup_min_width": 50,
            "show_loading": false,
            "snap_ignore": true,
            "subitems": [],
            "tile_size": 256,
            "tms": false,
            "url": "https://mt1.google.com/vt/lyrs=m&x={x}&y={y}&z={z}",
            "visible": true,
            "zoom_offset": 0
          }
        },
        "ed59f4ff39f14143974f96e8301593a4": {
          "model_module": "jupyter-leaflet",
          "model_name": "LeafletTileLayerModel",
          "model_module_version": "^0.20",
          "state": {
            "_model_module": "jupyter-leaflet",
            "_model_module_version": "^0.20",
            "_model_name": "LeafletTileLayerModel",
            "_view_count": null,
            "_view_module": "jupyter-leaflet",
            "_view_module_version": "^0.20",
            "_view_name": "LeafletTileLayerView",
            "attribution": "Tiles (C) Esri -- Source: Esri, i-cubed, USDA, USGS, AEX, GeoEye, Getmapping, Aerogrid, IGN, IGP, UPR-EGP, and the GIS User Community",
            "base": false,
            "bottom": true,
            "bounds": null,
            "detect_retina": false,
            "loading": false,
            "max_native_zoom": null,
            "max_zoom": 22,
            "min_native_zoom": null,
            "min_zoom": 0,
            "name": "Esri.WorldImagery",
            "no_wrap": false,
            "opacity": 1,
            "options": [
              "attribution",
              "bounds",
              "detect_retina",
              "max_native_zoom",
              "max_zoom",
              "min_native_zoom",
              "min_zoom",
              "no_wrap",
              "pm_ignore",
              "tile_size",
              "tms",
              "zoom_offset"
            ],
            "pane": "",
            "pm_ignore": true,
            "popup": null,
            "popup_max_height": null,
            "popup_max_width": 300,
            "popup_min_width": 50,
            "show_loading": false,
            "snap_ignore": true,
            "subitems": [],
            "tile_size": 256,
            "tms": false,
            "url": "https://server.arcgisonline.com/ArcGIS/rest/services/World_Imagery/MapServer/tile/{z}/{y}/{x}",
            "visible": true,
            "zoom_offset": 0
          }
        },
        "332e87a70a5f43bd8deb8fbcfcd8000e": {
          "model_module": "jupyter-leaflet",
          "model_name": "LeafletTileLayerModel",
          "model_module_version": "^0.20",
          "state": {
            "_model_module": "jupyter-leaflet",
            "_model_module_version": "^0.20",
            "_model_name": "LeafletTileLayerModel",
            "_view_count": null,
            "_view_module": "jupyter-leaflet",
            "_view_module_version": "^0.20",
            "_view_name": "LeafletTileLayerView",
            "attribution": "Google Earth Engine",
            "base": false,
            "bottom": true,
            "bounds": null,
            "detect_retina": false,
            "loading": false,
            "max_native_zoom": null,
            "max_zoom": 24,
            "min_native_zoom": null,
            "min_zoom": 0,
            "name": "Country",
            "no_wrap": false,
            "opacity": 1,
            "options": [
              "attribution",
              "bounds",
              "detect_retina",
              "max_native_zoom",
              "max_zoom",
              "min_native_zoom",
              "min_zoom",
              "no_wrap",
              "pm_ignore",
              "tile_size",
              "tms",
              "zoom_offset"
            ],
            "pane": "",
            "pm_ignore": true,
            "popup": null,
            "popup_max_height": null,
            "popup_max_width": 300,
            "popup_min_width": 50,
            "show_loading": false,
            "snap_ignore": true,
            "subitems": [],
            "tile_size": 256,
            "tms": false,
            "url": "https://earthengine.googleapis.com/v1/projects/murphys-deforisk/maps/267853752c0657559597b1df92fe9cf2-77670f7277b136694e634b8a228fbea9/tiles/{z}/{x}/{y}",
            "visible": true,
            "zoom_offset": 0
          }
        },
        "9ce6842daf0846febe42ed1ec23d90a8": {
          "model_module": "jupyter-leaflet",
          "model_name": "LeafletTileLayerModel",
          "model_module_version": "^0.20",
          "state": {
            "_model_module": "jupyter-leaflet",
            "_model_module_version": "^0.20",
            "_model_name": "LeafletTileLayerModel",
            "_view_count": null,
            "_view_module": "jupyter-leaflet",
            "_view_module_version": "^0.20",
            "_view_name": "LeafletTileLayerView",
            "attribution": "Google Earth Engine",
            "base": false,
            "bottom": true,
            "bounds": null,
            "detect_retina": false,
            "loading": false,
            "max_native_zoom": null,
            "max_zoom": 24,
            "min_native_zoom": null,
            "min_zoom": 0,
            "name": "States",
            "no_wrap": false,
            "opacity": 1,
            "options": [
              "attribution",
              "bounds",
              "detect_retina",
              "max_native_zoom",
              "max_zoom",
              "min_native_zoom",
              "min_zoom",
              "no_wrap",
              "pm_ignore",
              "tile_size",
              "tms",
              "zoom_offset"
            ],
            "pane": "",
            "pm_ignore": true,
            "popup": null,
            "popup_max_height": null,
            "popup_max_width": 300,
            "popup_min_width": 50,
            "show_loading": false,
            "snap_ignore": true,
            "subitems": [],
            "tile_size": 256,
            "tms": false,
            "url": "https://earthengine.googleapis.com/v1/projects/murphys-deforisk/maps/c9182d3149b596fc8757110cc95b68f0-315083a43edba66c56118d3667ee628b/tiles/{z}/{x}/{y}",
            "visible": true,
            "zoom_offset": 0
          }
        },
        "6a9a1e10273142de885d945f7471a536": {
          "model_module": "jupyter-leaflet",
          "model_name": "LeafletLayerGroupModel",
          "model_module_version": "^0.20",
          "state": {
            "_model_module": "jupyter-leaflet",
            "_model_module_version": "^0.20",
            "_model_name": "LeafletLayerGroupModel",
            "_view_count": null,
            "_view_module": "jupyter-leaflet",
            "_view_module_version": "^0.20",
            "_view_name": "LeafletLayerGroupView",
            "base": false,
            "bottom": false,
            "layers": [
              "IPY_MODEL_01fcc86faaad4472a2237a3d43bdb459",
              "IPY_MODEL_381f4f7ae690443da07484e2146d81c9",
              "IPY_MODEL_df14e0d29b6f4b61a445c114412c91e8",
              "IPY_MODEL_cae8ca02fa804df7bfef7a196a39f8da",
              "IPY_MODEL_d94dcd17b5104136a48b0c60ecd7ef7b",
              "IPY_MODEL_3bcb516e538f42b4b1f1350a20b4f910",
              "IPY_MODEL_4dedf238763847a5a5160c82f0d55680",
              "IPY_MODEL_aea49e0c388a43a88bf43b5cdd501537",
              "IPY_MODEL_7122a1c7517a4a048c038aab93c3cecb",
              "IPY_MODEL_e1168fca13ba459d87ac03a287f29442",
              "IPY_MODEL_e15caba3f05e49feb4aa1c836b8c15f8",
              "IPY_MODEL_bbb13e22b2e74fa99a0df327e6dce54c",
              "IPY_MODEL_39eb440f6ca145bda402ac6c4a5a23dd",
              "IPY_MODEL_ece3e505b994467599acc04546e042e6",
              "IPY_MODEL_03e96a220d954a618e8e5450def5d76b",
              "IPY_MODEL_9d5c9b7456084d6d93374d37dc1e5c9b",
              "IPY_MODEL_ffe10f1368d54f9c82a4be4834d52bca",
              "IPY_MODEL_77110fc3ab154e3b8be0a22b63b8140b",
              "IPY_MODEL_e802e2cb6bfe4ebe8151a5dd97b9e718",
              "IPY_MODEL_61af404c77e04fba91f5ccb4e6c1c4df",
              "IPY_MODEL_c78494ae9ddd492fb84729179bb06cbf",
              "IPY_MODEL_56e7e8874fb04e0e967ea35cb6e97c82",
              "IPY_MODEL_9811c26504034f8c92e06d792fc1246b",
              "IPY_MODEL_467ad15516f945e4986f24a1bf44e2b0",
              "IPY_MODEL_1d1ddd34012e4f4e822726bf7d6d7495"
            ],
            "name": "Labels",
            "options": [
              "pm_ignore"
            ],
            "pane": "",
            "pm_ignore": true,
            "popup": null,
            "popup_max_height": null,
            "popup_max_width": 300,
            "popup_min_width": 50,
            "snap_ignore": true,
            "subitems": []
          }
        },
        "84f56d9080324bb5b0ec8e204ebce345": {
          "model_module": "jupyter-leaflet",
          "model_name": "LeafletLayerGroupModel",
          "model_module_version": "^0.20",
          "state": {
            "_model_module": "jupyter-leaflet",
            "_model_module_version": "^0.20",
            "_model_name": "LeafletLayerGroupModel",
            "_view_count": null,
            "_view_module": "jupyter-leaflet",
            "_view_module_version": "^0.20",
            "_view_name": "LeafletLayerGroupView",
            "base": false,
            "bottom": false,
            "layers": [
              "IPY_MODEL_56eb0ece9a104fdbbfec7606067d5ee9"
            ],
            "name": "Labels",
            "options": [
              "pm_ignore"
            ],
            "pane": "",
            "pm_ignore": true,
            "popup": null,
            "popup_max_height": null,
            "popup_max_width": 300,
            "popup_min_width": 50,
            "snap_ignore": true,
            "subitems": []
          }
        },
        "a578b0b36bfd4899a17051b5f6be0c7b": {
          "model_module": "@jupyter-widgets/base",
          "model_name": "LayoutModel",
          "model_module_version": "1.2.0",
          "state": {
            "_model_module": "@jupyter-widgets/base",
            "_model_module_version": "1.2.0",
            "_model_name": "LayoutModel",
            "_view_count": null,
            "_view_module": "@jupyter-widgets/base",
            "_view_module_version": "1.2.0",
            "_view_name": "LayoutView",
            "align_content": null,
            "align_items": null,
            "align_self": null,
            "border": null,
            "bottom": null,
            "display": null,
            "flex": null,
            "flex_flow": null,
            "grid_area": null,
            "grid_auto_columns": null,
            "grid_auto_flow": null,
            "grid_auto_rows": null,
            "grid_column": null,
            "grid_gap": null,
            "grid_row": null,
            "grid_template_areas": null,
            "grid_template_columns": null,
            "grid_template_rows": null,
            "height": "600px",
            "justify_content": null,
            "justify_items": null,
            "left": null,
            "margin": null,
            "max_height": null,
            "max_width": null,
            "min_height": null,
            "min_width": null,
            "object_fit": null,
            "object_position": null,
            "order": null,
            "overflow": null,
            "overflow_x": null,
            "overflow_y": null,
            "padding": null,
            "right": null,
            "top": null,
            "visibility": null,
            "width": null
          }
        },
        "a1bf0aadb26046c28f3b610859cb1e9c": {
          "model_module": "jupyter-leaflet",
          "model_name": "LeafletMapStyleModel",
          "model_module_version": "^0.20",
          "state": {
            "_model_module": "jupyter-leaflet",
            "_model_module_version": "^0.20",
            "_model_name": "LeafletMapStyleModel",
            "_view_count": null,
            "_view_module": "@jupyter-widgets/base",
            "_view_module_version": "1.2.0",
            "_view_name": "StyleView",
            "cursor": "grab"
          }
        },
        "65ace8bb39c94666811a278343ba5721": {
          "model_module": "@jupyter-widgets/controls",
          "model_name": "HBoxModel",
          "model_module_version": "1.5.0",
          "state": {
            "_dom_classes": [],
            "_model_module": "@jupyter-widgets/controls",
            "_model_module_version": "1.5.0",
            "_model_name": "HBoxModel",
            "_view_count": null,
            "_view_module": "@jupyter-widgets/controls",
            "_view_module_version": "1.5.0",
            "_view_name": "HBoxView",
            "box_style": "",
            "children": [
              "IPY_MODEL_8aa79a3c7af54d1bbad105493755e40f"
            ],
            "layout": "IPY_MODEL_17ecddfda37b4a878208453265a70ee4"
          }
        },
        "44bfbaa9c1314a6f8a3dbb960ae4f776": {
          "model_module": "@jupyter-widgets/controls",
          "model_name": "VBoxModel",
          "model_module_version": "1.5.0",
          "state": {
            "_dom_classes": [],
            "_model_module": "@jupyter-widgets/controls",
            "_model_module_version": "1.5.0",
            "_model_name": "VBoxModel",
            "_view_count": null,
            "_view_module": "@jupyter-widgets/controls",
            "_view_module_version": "1.5.0",
            "_view_name": "VBoxView",
            "box_style": "",
            "children": [
              "IPY_MODEL_c1c97d7cb9984c289c64e51daefcc6d0"
            ],
            "layout": "IPY_MODEL_cc8d915b8d5f4b20918e0067886c7573"
          }
        },
        "01fcc86faaad4472a2237a3d43bdb459": {
          "model_module": "jupyter-leaflet",
          "model_name": "LeafletMarkerModel",
          "model_module_version": "^0.20",
          "state": {
            "_model_module": "jupyter-leaflet",
            "_model_module_version": "^0.20",
            "_model_name": "LeafletMarkerModel",
            "_view_count": null,
            "_view_module": "jupyter-leaflet",
            "_view_module_version": "^0.20",
            "_view_name": "LeafletMarkerView",
            "alt": "",
            "base": false,
            "bottom": false,
            "draggable": true,
            "icon": "IPY_MODEL_a9fac0122f524eef88281b504414b7d8",
            "keyboard": true,
            "location": [
              -0.6564715832209803,
              -77.82173076923884
            ],
            "name": "",
            "opacity": 1,
            "options": [
              "alt",
              "draggable",
              "keyboard",
              "pm_ignore",
              "rise_offset",
              "rise_on_hover",
              "rotation_angle",
              "rotation_origin",
              "title",
              "z_index_offset"
            ],
            "pane": "",
            "pm_ignore": true,
            "popup": null,
            "popup_max_height": null,
            "popup_max_width": 300,
            "popup_min_width": 50,
            "rise_offset": 250,
            "rise_on_hover": false,
            "rotation_angle": 0,
            "rotation_origin": "",
            "snap_ignore": true,
            "subitems": [],
            "title": "",
            "visible": true,
            "z_index_offset": 0
          }
        },
        "381f4f7ae690443da07484e2146d81c9": {
          "model_module": "jupyter-leaflet",
          "model_name": "LeafletMarkerModel",
          "model_module_version": "^0.20",
          "state": {
            "_model_module": "jupyter-leaflet",
            "_model_module_version": "^0.20",
            "_model_name": "LeafletMarkerModel",
            "_view_count": null,
            "_view_module": "jupyter-leaflet",
            "_view_module_version": "^0.20",
            "_view_name": "LeafletMarkerView",
            "alt": "",
            "base": false,
            "bottom": false,
            "draggable": true,
            "icon": "IPY_MODEL_4140d42fdd2f452fb5953e1b915fde7f",
            "keyboard": true,
            "location": [
              -0.7885570440949881,
              -76.36814700905674
            ],
            "name": "",
            "opacity": 1,
            "options": [
              "alt",
              "draggable",
              "keyboard",
              "pm_ignore",
              "rise_offset",
              "rise_on_hover",
              "rotation_angle",
              "rotation_origin",
              "title",
              "z_index_offset"
            ],
            "pane": "",
            "pm_ignore": true,
            "popup": null,
            "popup_max_height": null,
            "popup_max_width": 300,
            "popup_min_width": 50,
            "rise_offset": 250,
            "rise_on_hover": false,
            "rotation_angle": 0,
            "rotation_origin": "",
            "snap_ignore": true,
            "subitems": [],
            "title": "",
            "visible": true,
            "z_index_offset": 0
          }
        },
        "df14e0d29b6f4b61a445c114412c91e8": {
          "model_module": "jupyter-leaflet",
          "model_name": "LeafletMarkerModel",
          "model_module_version": "^0.20",
          "state": {
            "_model_module": "jupyter-leaflet",
            "_model_module_version": "^0.20",
            "_model_name": "LeafletMarkerModel",
            "_view_count": null,
            "_view_module": "jupyter-leaflet",
            "_view_module_version": "^0.20",
            "_view_name": "LeafletMarkerView",
            "alt": "",
            "base": false,
            "bottom": false,
            "draggable": true,
            "icon": "IPY_MODEL_d73f5bad0bab4b46b8d6501a72aafe97",
            "keyboard": true,
            "location": [
              -2.101382582821763,
              -79.88938183391565
            ],
            "name": "",
            "opacity": 1,
            "options": [
              "alt",
              "draggable",
              "keyboard",
              "pm_ignore",
              "rise_offset",
              "rise_on_hover",
              "rotation_angle",
              "rotation_origin",
              "title",
              "z_index_offset"
            ],
            "pane": "",
            "pm_ignore": true,
            "popup": null,
            "popup_max_height": null,
            "popup_max_width": 300,
            "popup_min_width": 50,
            "rise_offset": 250,
            "rise_on_hover": false,
            "rotation_angle": 0,
            "rotation_origin": "",
            "snap_ignore": true,
            "subitems": [],
            "title": "",
            "visible": true,
            "z_index_offset": 0
          }
        },
        "cae8ca02fa804df7bfef7a196a39f8da": {
          "model_module": "jupyter-leaflet",
          "model_name": "LeafletMarkerModel",
          "model_module_version": "^0.20",
          "state": {
            "_model_module": "jupyter-leaflet",
            "_model_module_version": "^0.20",
            "_model_name": "LeafletMarkerModel",
            "_view_count": null,
            "_view_module": "jupyter-leaflet",
            "_view_module_version": "^0.20",
            "_view_name": "LeafletMarkerView",
            "alt": "",
            "base": false,
            "bottom": false,
            "draggable": true,
            "icon": "IPY_MODEL_1482315834bb48a49fa6b727a4922e71",
            "keyboard": true,
            "location": [
              -0.10920290247962576,
              -78.5921878882348
            ],
            "name": "",
            "opacity": 1,
            "options": [
              "alt",
              "draggable",
              "keyboard",
              "pm_ignore",
              "rise_offset",
              "rise_on_hover",
              "rotation_angle",
              "rotation_origin",
              "title",
              "z_index_offset"
            ],
            "pane": "",
            "pm_ignore": true,
            "popup": null,
            "popup_max_height": null,
            "popup_max_width": 300,
            "popup_min_width": 50,
            "rise_offset": 250,
            "rise_on_hover": false,
            "rotation_angle": 0,
            "rotation_origin": "",
            "snap_ignore": true,
            "subitems": [],
            "title": "",
            "visible": true,
            "z_index_offset": 0
          }
        },
        "d94dcd17b5104136a48b0c60ecd7ef7b": {
          "model_module": "jupyter-leaflet",
          "model_name": "LeafletMarkerModel",
          "model_module_version": "^0.20",
          "state": {
            "_model_module": "jupyter-leaflet",
            "_model_module_version": "^0.20",
            "_model_name": "LeafletMarkerModel",
            "_view_count": null,
            "_view_module": "jupyter-leaflet",
            "_view_module_version": "^0.20",
            "_view_name": "LeafletMarkerView",
            "alt": "",
            "base": false,
            "bottom": false,
            "draggable": true,
            "icon": "IPY_MODEL_0d8702f767f3460aaf01583aa0f20e7e",
            "keyboard": true,
            "location": [
              -2.1393639527525248,
              -80.57778843448581
            ],
            "name": "",
            "opacity": 1,
            "options": [
              "alt",
              "draggable",
              "keyboard",
              "pm_ignore",
              "rise_offset",
              "rise_on_hover",
              "rotation_angle",
              "rotation_origin",
              "title",
              "z_index_offset"
            ],
            "pane": "",
            "pm_ignore": true,
            "popup": null,
            "popup_max_height": null,
            "popup_max_width": 300,
            "popup_min_width": 50,
            "rise_offset": 250,
            "rise_on_hover": false,
            "rotation_angle": 0,
            "rotation_origin": "",
            "snap_ignore": true,
            "subitems": [],
            "title": "",
            "visible": true,
            "z_index_offset": 0
          }
        },
        "3bcb516e538f42b4b1f1350a20b4f910": {
          "model_module": "jupyter-leaflet",
          "model_name": "LeafletMarkerModel",
          "model_module_version": "^0.20",
          "state": {
            "_model_module": "jupyter-leaflet",
            "_model_module_version": "^0.20",
            "_model_name": "LeafletMarkerModel",
            "_view_count": null,
            "_view_module": "jupyter-leaflet",
            "_view_module_version": "^0.20",
            "_view_name": "LeafletMarkerView",
            "alt": "",
            "base": false,
            "bottom": false,
            "draggable": true,
            "icon": "IPY_MODEL_e6047c7dfb8a4245a236475ba00b1f9e",
            "keyboard": true,
            "location": [
              -0.30606375710242434,
              -79.17681643366285
            ],
            "name": "",
            "opacity": 1,
            "options": [
              "alt",
              "draggable",
              "keyboard",
              "pm_ignore",
              "rise_offset",
              "rise_on_hover",
              "rotation_angle",
              "rotation_origin",
              "title",
              "z_index_offset"
            ],
            "pane": "",
            "pm_ignore": true,
            "popup": null,
            "popup_max_height": null,
            "popup_max_width": 300,
            "popup_min_width": 50,
            "rise_offset": 250,
            "rise_on_hover": false,
            "rotation_angle": 0,
            "rotation_origin": "",
            "snap_ignore": true,
            "subitems": [],
            "title": "",
            "visible": true,
            "z_index_offset": 0
          }
        },
        "4dedf238763847a5a5160c82f0d55680": {
          "model_module": "jupyter-leaflet",
          "model_name": "LeafletMarkerModel",
          "model_module_version": "^0.20",
          "state": {
            "_model_module": "jupyter-leaflet",
            "_model_module_version": "^0.20",
            "_model_name": "LeafletMarkerModel",
            "_view_count": null,
            "_view_module": "jupyter-leaflet",
            "_view_module_version": "^0.20",
            "_view_name": "LeafletMarkerView",
            "alt": "",
            "base": false,
            "bottom": false,
            "draggable": true,
            "icon": "IPY_MODEL_f9efe9b5676e4d7489040c484c6d164d",
            "keyboard": true,
            "location": [
              -3.0090580623954377,
              -79.16224857811794
            ],
            "name": "",
            "opacity": 1,
            "options": [
              "alt",
              "draggable",
              "keyboard",
              "pm_ignore",
              "rise_offset",
              "rise_on_hover",
              "rotation_angle",
              "rotation_origin",
              "title",
              "z_index_offset"
            ],
            "pane": "",
            "pm_ignore": true,
            "popup": null,
            "popup_max_height": null,
            "popup_max_width": 300,
            "popup_min_width": 50,
            "rise_offset": 250,
            "rise_on_hover": false,
            "rotation_angle": 0,
            "rotation_origin": "",
            "snap_ignore": true,
            "subitems": [],
            "title": "",
            "visible": true,
            "z_index_offset": 0
          }
        },
        "aea49e0c388a43a88bf43b5cdd501537": {
          "model_module": "jupyter-leaflet",
          "model_name": "LeafletMarkerModel",
          "model_module_version": "^0.20",
          "state": {
            "_model_module": "jupyter-leaflet",
            "_model_module_version": "^0.20",
            "_model_name": "LeafletMarkerModel",
            "_view_count": null,
            "_view_module": "jupyter-leaflet",
            "_view_module_version": "^0.20",
            "_view_name": "LeafletMarkerView",
            "alt": "",
            "base": false,
            "bottom": false,
            "draggable": true,
            "icon": "IPY_MODEL_aabbfdf8abf3474aa694cec8ef16df2e",
            "keyboard": true,
            "location": [
              -1.5934301301410085,
              -79.10493315083691
            ],
            "name": "",
            "opacity": 1,
            "options": [
              "alt",
              "draggable",
              "keyboard",
              "pm_ignore",
              "rise_offset",
              "rise_on_hover",
              "rotation_angle",
              "rotation_origin",
              "title",
              "z_index_offset"
            ],
            "pane": "",
            "pm_ignore": true,
            "popup": null,
            "popup_max_height": null,
            "popup_max_width": 300,
            "popup_min_width": 50,
            "rise_offset": 250,
            "rise_on_hover": false,
            "rotation_angle": 0,
            "rotation_origin": "",
            "snap_ignore": true,
            "subitems": [],
            "title": "",
            "visible": true,
            "z_index_offset": 0
          }
        },
        "7122a1c7517a4a048c038aab93c3cecb": {
          "model_module": "jupyter-leaflet",
          "model_name": "LeafletMarkerModel",
          "model_module_version": "^0.20",
          "state": {
            "_model_module": "jupyter-leaflet",
            "_model_module_version": "^0.20",
            "_model_name": "LeafletMarkerModel",
            "_view_count": null,
            "_view_module": "jupyter-leaflet",
            "_view_module_version": "^0.20",
            "_view_name": "LeafletMarkerView",
            "alt": "",
            "base": false,
            "bottom": false,
            "draggable": true,
            "icon": "IPY_MODEL_9fd95256423545f2baad4ece5462cbde",
            "keyboard": true,
            "location": [
              -2.54139181848853,
              -79.01482851161285
            ],
            "name": "",
            "opacity": 1,
            "options": [
              "alt",
              "draggable",
              "keyboard",
              "pm_ignore",
              "rise_offset",
              "rise_on_hover",
              "rotation_angle",
              "rotation_origin",
              "title",
              "z_index_offset"
            ],
            "pane": "",
            "pm_ignore": true,
            "popup": null,
            "popup_max_height": null,
            "popup_max_width": 300,
            "popup_min_width": 50,
            "rise_offset": 250,
            "rise_on_hover": false,
            "rotation_angle": 0,
            "rotation_origin": "",
            "snap_ignore": true,
            "subitems": [],
            "title": "",
            "visible": true,
            "z_index_offset": 0
          }
        },
        "e1168fca13ba459d87ac03a287f29442": {
          "model_module": "jupyter-leaflet",
          "model_name": "LeafletMarkerModel",
          "model_module_version": "^0.20",
          "state": {
            "_model_module": "jupyter-leaflet",
            "_model_module_version": "^0.20",
            "_model_name": "LeafletMarkerModel",
            "_view_count": null,
            "_view_module": "jupyter-leaflet",
            "_view_module_version": "^0.20",
            "_view_name": "LeafletMarkerView",
            "alt": "",
            "base": false,
            "bottom": false,
            "draggable": true,
            "icon": "IPY_MODEL_d3a41f3a940a438eb4587f305845c97e",
            "keyboard": true,
            "location": [
              0.7452403172526003,
              -78.05973822296511
            ],
            "name": "",
            "opacity": 1,
            "options": [
              "alt",
              "draggable",
              "keyboard",
              "pm_ignore",
              "rise_offset",
              "rise_on_hover",
              "rotation_angle",
              "rotation_origin",
              "title",
              "z_index_offset"
            ],
            "pane": "",
            "pm_ignore": true,
            "popup": null,
            "popup_max_height": null,
            "popup_max_width": 300,
            "popup_min_width": 50,
            "rise_offset": 250,
            "rise_on_hover": false,
            "rotation_angle": 0,
            "rotation_origin": "",
            "snap_ignore": true,
            "subitems": [],
            "title": "",
            "visible": true,
            "z_index_offset": 0
          }
        },
        "e15caba3f05e49feb4aa1c836b8c15f8": {
          "model_module": "jupyter-leaflet",
          "model_name": "LeafletMarkerModel",
          "model_module_version": "^0.20",
          "state": {
            "_model_module": "jupyter-leaflet",
            "_model_module_version": "^0.20",
            "_model_name": "LeafletMarkerModel",
            "_view_count": null,
            "_view_module": "jupyter-leaflet",
            "_view_module_version": "^0.20",
            "_view_name": "LeafletMarkerView",
            "alt": "",
            "base": false,
            "bottom": false,
            "draggable": true,
            "icon": "IPY_MODEL_9c5830c97c564d8db7a4ae01a2e17f3a",
            "keyboard": true,
            "location": [
              -1.9738890117431949,
              -78.71834337703342
            ],
            "name": "",
            "opacity": 1,
            "options": [
              "alt",
              "draggable",
              "keyboard",
              "pm_ignore",
              "rise_offset",
              "rise_on_hover",
              "rotation_angle",
              "rotation_origin",
              "title",
              "z_index_offset"
            ],
            "pane": "",
            "pm_ignore": true,
            "popup": null,
            "popup_max_height": null,
            "popup_max_width": 300,
            "popup_min_width": 50,
            "rise_offset": 250,
            "rise_on_hover": false,
            "rotation_angle": 0,
            "rotation_origin": "",
            "snap_ignore": true,
            "subitems": [],
            "title": "",
            "visible": true,
            "z_index_offset": 0
          }
        },
        "bbb13e22b2e74fa99a0df327e6dce54c": {
          "model_module": "jupyter-leaflet",
          "model_name": "LeafletMarkerModel",
          "model_module_version": "^0.20",
          "state": {
            "_model_module": "jupyter-leaflet",
            "_model_module_version": "^0.20",
            "_model_name": "LeafletMarkerModel",
            "_view_count": null,
            "_view_module": "jupyter-leaflet",
            "_view_module_version": "^0.20",
            "_view_name": "LeafletMarkerView",
            "alt": "",
            "base": false,
            "bottom": false,
            "draggable": true,
            "icon": "IPY_MODEL_4645d695ce9c4980b374a80f1a27673d",
            "keyboard": true,
            "location": [
              -0.8605392196251197,
              -78.86185219481405
            ],
            "name": "",
            "opacity": 1,
            "options": [
              "alt",
              "draggable",
              "keyboard",
              "pm_ignore",
              "rise_offset",
              "rise_on_hover",
              "rotation_angle",
              "rotation_origin",
              "title",
              "z_index_offset"
            ],
            "pane": "",
            "pm_ignore": true,
            "popup": null,
            "popup_max_height": null,
            "popup_max_width": 300,
            "popup_min_width": 50,
            "rise_offset": 250,
            "rise_on_hover": false,
            "rotation_angle": 0,
            "rotation_origin": "",
            "snap_ignore": true,
            "subitems": [],
            "title": "",
            "visible": true,
            "z_index_offset": 0
          }
        },
        "39eb440f6ca145bda402ac6c4a5a23dd": {
          "model_module": "jupyter-leaflet",
          "model_name": "LeafletMarkerModel",
          "model_module_version": "^0.20",
          "state": {
            "_model_module": "jupyter-leaflet",
            "_model_module_version": "^0.20",
            "_model_name": "LeafletMarkerModel",
            "_view_count": null,
            "_view_module": "jupyter-leaflet",
            "_view_module_version": "^0.20",
            "_view_name": "LeafletMarkerView",
            "alt": "",
            "base": false,
            "bottom": false,
            "draggable": true,
            "icon": "IPY_MODEL_41cae1b5bc384b3faa5a19e289299854",
            "keyboard": true,
            "location": [
              -3.5124341029144777,
              -79.82710042755313
            ],
            "name": "",
            "opacity": 1,
            "options": [
              "alt",
              "draggable",
              "keyboard",
              "pm_ignore",
              "rise_offset",
              "rise_on_hover",
              "rotation_angle",
              "rotation_origin",
              "title",
              "z_index_offset"
            ],
            "pane": "",
            "pm_ignore": true,
            "popup": null,
            "popup_max_height": null,
            "popup_max_width": 300,
            "popup_min_width": 50,
            "rise_offset": 250,
            "rise_on_hover": false,
            "rotation_angle": 0,
            "rotation_origin": "",
            "snap_ignore": true,
            "subitems": [],
            "title": "",
            "visible": true,
            "z_index_offset": 0
          }
        },
        "ece3e505b994467599acc04546e042e6": {
          "model_module": "jupyter-leaflet",
          "model_name": "LeafletMarkerModel",
          "model_module_version": "^0.20",
          "state": {
            "_model_module": "jupyter-leaflet",
            "_model_module_version": "^0.20",
            "_model_name": "LeafletMarkerModel",
            "_view_count": null,
            "_view_module": "jupyter-leaflet",
            "_view_module_version": "^0.20",
            "_view_name": "LeafletMarkerView",
            "alt": "",
            "base": false,
            "bottom": false,
            "draggable": true,
            "icon": "IPY_MODEL_b5c37089232243f7b6dc2314d444dd25",
            "keyboard": true,
            "location": [
              0.6850922003675898,
              -79.22583230765382
            ],
            "name": "",
            "opacity": 1,
            "options": [
              "alt",
              "draggable",
              "keyboard",
              "pm_ignore",
              "rise_offset",
              "rise_on_hover",
              "rotation_angle",
              "rotation_origin",
              "title",
              "z_index_offset"
            ],
            "pane": "",
            "pm_ignore": true,
            "popup": null,
            "popup_max_height": null,
            "popup_max_width": 300,
            "popup_min_width": 50,
            "rise_offset": 250,
            "rise_on_hover": false,
            "rotation_angle": 0,
            "rotation_origin": "",
            "snap_ignore": true,
            "subitems": [],
            "title": "",
            "visible": true,
            "z_index_offset": 0
          }
        },
        "03e96a220d954a618e8e5450def5d76b": {
          "model_module": "jupyter-leaflet",
          "model_name": "LeafletMarkerModel",
          "model_module_version": "^0.20",
          "state": {
            "_model_module": "jupyter-leaflet",
            "_model_module_version": "^0.20",
            "_model_name": "LeafletMarkerModel",
            "_view_count": null,
            "_view_module": "jupyter-leaflet",
            "_view_module_version": "^0.20",
            "_view_name": "LeafletMarkerView",
            "alt": "",
            "base": false,
            "bottom": false,
            "draggable": true,
            "icon": "IPY_MODEL_0cfcab6e33e446f980626f2e04163a50",
            "keyboard": true,
            "location": [
              -0.5496570566020645,
              -90.8991054805462
            ],
            "name": "",
            "opacity": 1,
            "options": [
              "alt",
              "draggable",
              "keyboard",
              "pm_ignore",
              "rise_offset",
              "rise_on_hover",
              "rotation_angle",
              "rotation_origin",
              "title",
              "z_index_offset"
            ],
            "pane": "",
            "pm_ignore": true,
            "popup": null,
            "popup_max_height": null,
            "popup_max_width": 300,
            "popup_min_width": 50,
            "rise_offset": 250,
            "rise_on_hover": false,
            "rotation_angle": 0,
            "rotation_origin": "",
            "snap_ignore": true,
            "subitems": [],
            "title": "",
            "visible": true,
            "z_index_offset": 0
          }
        },
        "9d5c9b7456084d6d93374d37dc1e5c9b": {
          "model_module": "jupyter-leaflet",
          "model_name": "LeafletMarkerModel",
          "model_module_version": "^0.20",
          "state": {
            "_model_module": "jupyter-leaflet",
            "_model_module_version": "^0.20",
            "_model_name": "LeafletMarkerModel",
            "_view_count": null,
            "_view_module": "jupyter-leaflet",
            "_view_module_version": "^0.20",
            "_view_name": "LeafletMarkerView",
            "alt": "",
            "base": false,
            "bottom": false,
            "draggable": true,
            "icon": "IPY_MODEL_04253ce2879a4766a5db5924b2068060",
            "keyboard": true,
            "location": [
              0.4077045930630125,
              -78.34303618755419
            ],
            "name": "",
            "opacity": 1,
            "options": [
              "alt",
              "draggable",
              "keyboard",
              "pm_ignore",
              "rise_offset",
              "rise_on_hover",
              "rotation_angle",
              "rotation_origin",
              "title",
              "z_index_offset"
            ],
            "pane": "",
            "pm_ignore": true,
            "popup": null,
            "popup_max_height": null,
            "popup_max_width": 300,
            "popup_min_width": 50,
            "rise_offset": 250,
            "rise_on_hover": false,
            "rotation_angle": 0,
            "rotation_origin": "",
            "snap_ignore": true,
            "subitems": [],
            "title": "",
            "visible": true,
            "z_index_offset": 0
          }
        },
        "ffe10f1368d54f9c82a4be4834d52bca": {
          "model_module": "jupyter-leaflet",
          "model_name": "LeafletMarkerModel",
          "model_module_version": "^0.20",
          "state": {
            "_model_module": "jupyter-leaflet",
            "_model_module_version": "^0.20",
            "_model_name": "LeafletMarkerModel",
            "_view_count": null,
            "_view_module": "jupyter-leaflet",
            "_view_module_version": "^0.20",
            "_view_name": "LeafletMarkerView",
            "alt": "",
            "base": false,
            "bottom": false,
            "draggable": true,
            "icon": "IPY_MODEL_2d7cab932e5647f590afe01206012ab5",
            "keyboard": true,
            "location": [
              -4.088236566199175,
              -79.65410978883685
            ],
            "name": "",
            "opacity": 1,
            "options": [
              "alt",
              "draggable",
              "keyboard",
              "pm_ignore",
              "rise_offset",
              "rise_on_hover",
              "rotation_angle",
              "rotation_origin",
              "title",
              "z_index_offset"
            ],
            "pane": "",
            "pm_ignore": true,
            "popup": null,
            "popup_max_height": null,
            "popup_max_width": 300,
            "popup_min_width": 50,
            "rise_offset": 250,
            "rise_on_hover": false,
            "rotation_angle": 0,
            "rotation_origin": "",
            "snap_ignore": true,
            "subitems": [],
            "title": "",
            "visible": true,
            "z_index_offset": 0
          }
        },
        "77110fc3ab154e3b8be0a22b63b8140b": {
          "model_module": "jupyter-leaflet",
          "model_name": "LeafletMarkerModel",
          "model_module_version": "^0.20",
          "state": {
            "_model_module": "jupyter-leaflet",
            "_model_module_version": "^0.20",
            "_model_name": "LeafletMarkerModel",
            "_view_count": null,
            "_view_module": "jupyter-leaflet",
            "_view_module_version": "^0.20",
            "_view_name": "LeafletMarkerView",
            "alt": "",
            "base": false,
            "bottom": false,
            "draggable": true,
            "icon": "IPY_MODEL_6192f2fc56df4f8bb1fbf133bd3ec453",
            "keyboard": true,
            "location": [
              -1.3462835211629476,
              -79.49077905872417
            ],
            "name": "",
            "opacity": 1,
            "options": [
              "alt",
              "draggable",
              "keyboard",
              "pm_ignore",
              "rise_offset",
              "rise_on_hover",
              "rotation_angle",
              "rotation_origin",
              "title",
              "z_index_offset"
            ],
            "pane": "",
            "pm_ignore": true,
            "popup": null,
            "popup_max_height": null,
            "popup_max_width": 300,
            "popup_min_width": 50,
            "rise_offset": 250,
            "rise_on_hover": false,
            "rotation_angle": 0,
            "rotation_origin": "",
            "snap_ignore": true,
            "subitems": [],
            "title": "",
            "visible": true,
            "z_index_offset": 0
          }
        },
        "e802e2cb6bfe4ebe8151a5dd97b9e718": {
          "model_module": "jupyter-leaflet",
          "model_name": "LeafletMarkerModel",
          "model_module_version": "^0.20",
          "state": {
            "_model_module": "jupyter-leaflet",
            "_model_module_version": "^0.20",
            "_model_name": "LeafletMarkerModel",
            "_view_count": null,
            "_view_module": "jupyter-leaflet",
            "_view_module_version": "^0.20",
            "_view_name": "LeafletMarkerView",
            "alt": "",
            "base": false,
            "bottom": false,
            "draggable": true,
            "icon": "IPY_MODEL_4d2975899a50438081f3819f0779e781",
            "keyboard": true,
            "location": [
              -0.7568194826129406,
              -80.15066534353153
            ],
            "name": "",
            "opacity": 1,
            "options": [
              "alt",
              "draggable",
              "keyboard",
              "pm_ignore",
              "rise_offset",
              "rise_on_hover",
              "rotation_angle",
              "rotation_origin",
              "title",
              "z_index_offset"
            ],
            "pane": "",
            "pm_ignore": true,
            "popup": null,
            "popup_max_height": null,
            "popup_max_width": 300,
            "popup_min_width": 50,
            "rise_offset": 250,
            "rise_on_hover": false,
            "rotation_angle": 0,
            "rotation_origin": "",
            "snap_ignore": true,
            "subitems": [],
            "title": "",
            "visible": true,
            "z_index_offset": 0
          }
        },
        "61af404c77e04fba91f5ccb4e6c1c4df": {
          "model_module": "jupyter-leaflet",
          "model_name": "LeafletMarkerModel",
          "model_module_version": "^0.20",
          "state": {
            "_model_module": "jupyter-leaflet",
            "_model_module_version": "^0.20",
            "_model_name": "LeafletMarkerModel",
            "_view_count": null,
            "_view_module": "jupyter-leaflet",
            "_view_module_version": "^0.20",
            "_view_name": "LeafletMarkerView",
            "alt": "",
            "base": false,
            "bottom": false,
            "draggable": true,
            "icon": "IPY_MODEL_1c0251d77cda420cb6b7ae42528fc720",
            "keyboard": true,
            "location": [
              -2.568530981070908,
              -78.00593406826832
            ],
            "name": "",
            "opacity": 1,
            "options": [
              "alt",
              "draggable",
              "keyboard",
              "pm_ignore",
              "rise_offset",
              "rise_on_hover",
              "rotation_angle",
              "rotation_origin",
              "title",
              "z_index_offset"
            ],
            "pane": "",
            "pm_ignore": true,
            "popup": null,
            "popup_max_height": null,
            "popup_max_width": 300,
            "popup_min_width": 50,
            "rise_offset": 250,
            "rise_on_hover": false,
            "rotation_angle": 0,
            "rotation_origin": "",
            "snap_ignore": true,
            "subitems": [],
            "title": "",
            "visible": true,
            "z_index_offset": 0
          }
        },
        "c78494ae9ddd492fb84729179bb06cbf": {
          "model_module": "jupyter-leaflet",
          "model_name": "LeafletMarkerModel",
          "model_module_version": "^0.20",
          "state": {
            "_model_module": "jupyter-leaflet",
            "_model_module_version": "^0.20",
            "_model_name": "LeafletMarkerModel",
            "_view_count": null,
            "_view_module": "jupyter-leaflet",
            "_view_module_version": "^0.20",
            "_view_name": "LeafletMarkerView",
            "alt": "",
            "base": false,
            "bottom": false,
            "draggable": true,
            "icon": "IPY_MODEL_054ef6b72afd44d8a6c1af7032f766d0",
            "keyboard": true,
            "location": [
              -1.7184091413126,
              -76.8788529666178
            ],
            "name": "",
            "opacity": 1,
            "options": [
              "alt",
              "draggable",
              "keyboard",
              "pm_ignore",
              "rise_offset",
              "rise_on_hover",
              "rotation_angle",
              "rotation_origin",
              "title",
              "z_index_offset"
            ],
            "pane": "",
            "pm_ignore": true,
            "popup": null,
            "popup_max_height": null,
            "popup_max_width": 300,
            "popup_min_width": 50,
            "rise_offset": 250,
            "rise_on_hover": false,
            "rotation_angle": 0,
            "rotation_origin": "",
            "snap_ignore": true,
            "subitems": [],
            "title": "",
            "visible": true,
            "z_index_offset": 0
          }
        },
        "56e7e8874fb04e0e967ea35cb6e97c82": {
          "model_module": "jupyter-leaflet",
          "model_name": "LeafletMarkerModel",
          "model_module_version": "^0.20",
          "state": {
            "_model_module": "jupyter-leaflet",
            "_model_module_version": "^0.20",
            "_model_name": "LeafletMarkerModel",
            "_view_count": null,
            "_view_module": "jupyter-leaflet",
            "_view_module_version": "^0.20",
            "_view_name": "LeafletMarkerView",
            "alt": "",
            "base": false,
            "bottom": false,
            "draggable": true,
            "icon": "IPY_MODEL_6297d6fd33304f99aa4d4b156259897b",
            "keyboard": true,
            "location": [
              -0.008905491831131297,
              -76.59374289011133
            ],
            "name": "",
            "opacity": 1,
            "options": [
              "alt",
              "draggable",
              "keyboard",
              "pm_ignore",
              "rise_offset",
              "rise_on_hover",
              "rotation_angle",
              "rotation_origin",
              "title",
              "z_index_offset"
            ],
            "pane": "",
            "pm_ignore": true,
            "popup": null,
            "popup_max_height": null,
            "popup_max_width": 300,
            "popup_min_width": 50,
            "rise_offset": 250,
            "rise_on_hover": false,
            "rotation_angle": 0,
            "rotation_origin": "",
            "snap_ignore": true,
            "subitems": [],
            "title": "",
            "visible": true,
            "z_index_offset": 0
          }
        },
        "9811c26504034f8c92e06d792fc1246b": {
          "model_module": "jupyter-leaflet",
          "model_name": "LeafletMarkerModel",
          "model_module_version": "^0.20",
          "state": {
            "_model_module": "jupyter-leaflet",
            "_model_module_version": "^0.20",
            "_model_name": "LeafletMarkerModel",
            "_view_count": null,
            "_view_module": "jupyter-leaflet",
            "_view_module_version": "^0.20",
            "_view_name": "LeafletMarkerView",
            "alt": "",
            "base": false,
            "bottom": false,
            "draggable": true,
            "icon": "IPY_MODEL_5acad468803f4e94a65698d4d0f6fdc4",
            "keyboard": true,
            "location": [
              -1.2947206411468337,
              -78.50730919967826
            ],
            "name": "",
            "opacity": 1,
            "options": [
              "alt",
              "draggable",
              "keyboard",
              "pm_ignore",
              "rise_offset",
              "rise_on_hover",
              "rotation_angle",
              "rotation_origin",
              "title",
              "z_index_offset"
            ],
            "pane": "",
            "pm_ignore": true,
            "popup": null,
            "popup_max_height": null,
            "popup_max_width": 300,
            "popup_min_width": 50,
            "rise_offset": 250,
            "rise_on_hover": false,
            "rotation_angle": 0,
            "rotation_origin": "",
            "snap_ignore": true,
            "subitems": [],
            "title": "",
            "visible": true,
            "z_index_offset": 0
          }
        },
        "467ad15516f945e4986f24a1bf44e2b0": {
          "model_module": "jupyter-leaflet",
          "model_name": "LeafletMarkerModel",
          "model_module_version": "^0.20",
          "state": {
            "_model_module": "jupyter-leaflet",
            "_model_module_version": "^0.20",
            "_model_name": "LeafletMarkerModel",
            "_view_count": null,
            "_view_module": "jupyter-leaflet",
            "_view_module_version": "^0.20",
            "_view_name": "LeafletMarkerView",
            "alt": "",
            "base": false,
            "bottom": false,
            "draggable": true,
            "icon": "IPY_MODEL_41982bb51b97457eb56db476c56d09ab",
            "keyboard": true,
            "location": [
              -4.160202271461702,
              -78.88944178656317
            ],
            "name": "",
            "opacity": 1,
            "options": [
              "alt",
              "draggable",
              "keyboard",
              "pm_ignore",
              "rise_offset",
              "rise_on_hover",
              "rotation_angle",
              "rotation_origin",
              "title",
              "z_index_offset"
            ],
            "pane": "",
            "pm_ignore": true,
            "popup": null,
            "popup_max_height": null,
            "popup_max_width": 300,
            "popup_min_width": 50,
            "rise_offset": 250,
            "rise_on_hover": false,
            "rotation_angle": 0,
            "rotation_origin": "",
            "snap_ignore": true,
            "subitems": [],
            "title": "",
            "visible": true,
            "z_index_offset": 0
          }
        },
        "1d1ddd34012e4f4e822726bf7d6d7495": {
          "model_module": "jupyter-leaflet",
          "model_name": "LeafletMarkerModel",
          "model_module_version": "^0.20",
          "state": {
            "_model_module": "jupyter-leaflet",
            "_model_module_version": "^0.20",
            "_model_name": "LeafletMarkerModel",
            "_view_count": null,
            "_view_module": "jupyter-leaflet",
            "_view_module_version": "^0.20",
            "_view_name": "LeafletMarkerView",
            "alt": "",
            "base": false,
            "bottom": false,
            "draggable": true,
            "icon": "IPY_MODEL_de34968cb8aa446b8552c99d494ca592",
            "keyboard": true,
            "location": [
              -0.8854485491370189,
              -79.43649441257178
            ],
            "name": "",
            "opacity": 1,
            "options": [
              "alt",
              "draggable",
              "keyboard",
              "pm_ignore",
              "rise_offset",
              "rise_on_hover",
              "rotation_angle",
              "rotation_origin",
              "title",
              "z_index_offset"
            ],
            "pane": "",
            "pm_ignore": true,
            "popup": null,
            "popup_max_height": null,
            "popup_max_width": 300,
            "popup_min_width": 50,
            "rise_offset": 250,
            "rise_on_hover": false,
            "rotation_angle": 0,
            "rotation_origin": "",
            "snap_ignore": true,
            "subitems": [],
            "title": "",
            "visible": true,
            "z_index_offset": 0
          }
        },
        "56eb0ece9a104fdbbfec7606067d5ee9": {
          "model_module": "jupyter-leaflet",
          "model_name": "LeafletMarkerModel",
          "model_module_version": "^0.20",
          "state": {
            "_model_module": "jupyter-leaflet",
            "_model_module_version": "^0.20",
            "_model_name": "LeafletMarkerModel",
            "_view_count": null,
            "_view_module": "jupyter-leaflet",
            "_view_module_version": "^0.20",
            "_view_name": "LeafletMarkerView",
            "alt": "",
            "base": false,
            "bottom": false,
            "draggable": true,
            "icon": "IPY_MODEL_6bf5a5a771fe4c9ab82023f082292302",
            "keyboard": true,
            "location": [
              -1.432800372103166,
              -78.76612016462705
            ],
            "name": "",
            "opacity": 1,
            "options": [
              "alt",
              "draggable",
              "keyboard",
              "pm_ignore",
              "rise_offset",
              "rise_on_hover",
              "rotation_angle",
              "rotation_origin",
              "title",
              "z_index_offset"
            ],
            "pane": "",
            "pm_ignore": true,
            "popup": null,
            "popup_max_height": null,
            "popup_max_width": 300,
            "popup_min_width": 50,
            "rise_offset": 250,
            "rise_on_hover": false,
            "rotation_angle": 0,
            "rotation_origin": "",
            "snap_ignore": true,
            "subitems": [],
            "title": "",
            "visible": true,
            "z_index_offset": 0
          }
        },
        "8aa79a3c7af54d1bbad105493755e40f": {
          "model_module": "@jupyter-widgets/controls",
          "model_name": "ToggleButtonModel",
          "model_module_version": "1.5.0",
          "state": {
            "_dom_classes": [],
            "_model_module": "@jupyter-widgets/controls",
            "_model_module_version": "1.5.0",
            "_model_name": "ToggleButtonModel",
            "_view_count": null,
            "_view_module": "@jupyter-widgets/controls",
            "_view_module_version": "1.5.0",
            "_view_name": "ToggleButtonView",
            "button_style": "",
            "description": "",
            "description_tooltip": null,
            "disabled": false,
            "icon": "globe",
            "layout": "IPY_MODEL_bdff5c3073744272832db85edc1b572e",
            "style": "IPY_MODEL_548d796edc1046238c6444dcd3b82443",
            "tooltip": "Search location/data",
            "value": false
          }
        },
        "17ecddfda37b4a878208453265a70ee4": {
          "model_module": "@jupyter-widgets/base",
          "model_name": "LayoutModel",
          "model_module_version": "1.2.0",
          "state": {
            "_model_module": "@jupyter-widgets/base",
            "_model_module_version": "1.2.0",
            "_model_name": "LayoutModel",
            "_view_count": null,
            "_view_module": "@jupyter-widgets/base",
            "_view_module_version": "1.2.0",
            "_view_name": "LayoutView",
            "align_content": null,
            "align_items": null,
            "align_self": null,
            "border": null,
            "bottom": null,
            "display": null,
            "flex": null,
            "flex_flow": null,
            "grid_area": null,
            "grid_auto_columns": null,
            "grid_auto_flow": null,
            "grid_auto_rows": null,
            "grid_column": null,
            "grid_gap": null,
            "grid_row": null,
            "grid_template_areas": null,
            "grid_template_columns": null,
            "grid_template_rows": null,
            "height": null,
            "justify_content": null,
            "justify_items": null,
            "left": null,
            "margin": null,
            "max_height": null,
            "max_width": null,
            "min_height": null,
            "min_width": null,
            "object_fit": null,
            "object_position": null,
            "order": null,
            "overflow": null,
            "overflow_x": null,
            "overflow_y": null,
            "padding": null,
            "right": null,
            "top": null,
            "visibility": null,
            "width": null
          }
        },
        "c1c97d7cb9984c289c64e51daefcc6d0": {
          "model_module": "@jupyter-widgets/controls",
          "model_name": "ToggleButtonModel",
          "model_module_version": "1.5.0",
          "state": {
            "_dom_classes": [],
            "_model_module": "@jupyter-widgets/controls",
            "_model_module_version": "1.5.0",
            "_model_name": "ToggleButtonModel",
            "_view_count": null,
            "_view_module": "@jupyter-widgets/controls",
            "_view_module_version": "1.5.0",
            "_view_name": "ToggleButtonView",
            "button_style": "",
            "description": "",
            "description_tooltip": null,
            "disabled": false,
            "icon": "wrench",
            "layout": "IPY_MODEL_1aade336e56e4646bc3e594b86020bb9",
            "style": "IPY_MODEL_e693aff61d514e1b97b52ff918b1ea2e",
            "tooltip": "Toolbar",
            "value": false
          }
        },
        "cc8d915b8d5f4b20918e0067886c7573": {
          "model_module": "@jupyter-widgets/base",
          "model_name": "LayoutModel",
          "model_module_version": "1.2.0",
          "state": {
            "_model_module": "@jupyter-widgets/base",
            "_model_module_version": "1.2.0",
            "_model_name": "LayoutModel",
            "_view_count": null,
            "_view_module": "@jupyter-widgets/base",
            "_view_module_version": "1.2.0",
            "_view_name": "LayoutView",
            "align_content": null,
            "align_items": null,
            "align_self": null,
            "border": null,
            "bottom": null,
            "display": null,
            "flex": null,
            "flex_flow": null,
            "grid_area": null,
            "grid_auto_columns": null,
            "grid_auto_flow": null,
            "grid_auto_rows": null,
            "grid_column": null,
            "grid_gap": null,
            "grid_row": null,
            "grid_template_areas": null,
            "grid_template_columns": null,
            "grid_template_rows": null,
            "height": null,
            "justify_content": null,
            "justify_items": null,
            "left": null,
            "margin": null,
            "max_height": null,
            "max_width": null,
            "min_height": null,
            "min_width": null,
            "object_fit": null,
            "object_position": null,
            "order": null,
            "overflow": null,
            "overflow_x": null,
            "overflow_y": null,
            "padding": null,
            "right": null,
            "top": null,
            "visibility": null,
            "width": null
          }
        },
        "a9fac0122f524eef88281b504414b7d8": {
          "model_module": "jupyter-leaflet",
          "model_name": "LeafletDivIconModel",
          "model_module_version": "^0.20",
          "state": {
            "_model_module": "jupyter-leaflet",
            "_model_module_version": "^0.20",
            "_model_name": "LeafletDivIconModel",
            "_view_count": null,
            "_view_module": "jupyter-leaflet",
            "_view_module_version": "^0.20",
            "_view_name": "LeafletDivIconView",
            "base": false,
            "bg_pos": [
              0,
              0
            ],
            "bottom": false,
            "html": "<div style=\"font-size: 8pt;color:white;font-family:arial;font-weight: bold\">Napo</div>",
            "icon_anchor": [
              8,
              8
            ],
            "icon_size": [
              1,
              1
            ],
            "name": "",
            "options": [
              "bg_pos",
              "html",
              "icon_anchor",
              "icon_size",
              "pm_ignore",
              "popup_anchor"
            ],
            "pane": "",
            "pm_ignore": true,
            "popup": null,
            "popup_anchor": [
              0,
              0
            ],
            "popup_max_height": null,
            "popup_max_width": 300,
            "popup_min_width": 50,
            "snap_ignore": true,
            "subitems": []
          }
        },
        "4140d42fdd2f452fb5953e1b915fde7f": {
          "model_module": "jupyter-leaflet",
          "model_name": "LeafletDivIconModel",
          "model_module_version": "^0.20",
          "state": {
            "_model_module": "jupyter-leaflet",
            "_model_module_version": "^0.20",
            "_model_name": "LeafletDivIconModel",
            "_view_count": null,
            "_view_module": "jupyter-leaflet",
            "_view_module_version": "^0.20",
            "_view_name": "LeafletDivIconView",
            "base": false,
            "bg_pos": [
              0,
              0
            ],
            "bottom": false,
            "html": "<div style=\"font-size: 8pt;color:white;font-family:arial;font-weight: bold\">Orellana</div>",
            "icon_anchor": [
              8,
              8
            ],
            "icon_size": [
              1,
              1
            ],
            "name": "",
            "options": [
              "bg_pos",
              "html",
              "icon_anchor",
              "icon_size",
              "pm_ignore",
              "popup_anchor"
            ],
            "pane": "",
            "pm_ignore": true,
            "popup": null,
            "popup_anchor": [
              0,
              0
            ],
            "popup_max_height": null,
            "popup_max_width": 300,
            "popup_min_width": 50,
            "snap_ignore": true,
            "subitems": []
          }
        },
        "d73f5bad0bab4b46b8d6501a72aafe97": {
          "model_module": "jupyter-leaflet",
          "model_name": "LeafletDivIconModel",
          "model_module_version": "^0.20",
          "state": {
            "_model_module": "jupyter-leaflet",
            "_model_module_version": "^0.20",
            "_model_name": "LeafletDivIconModel",
            "_view_count": null,
            "_view_module": "jupyter-leaflet",
            "_view_module_version": "^0.20",
            "_view_name": "LeafletDivIconView",
            "base": false,
            "bg_pos": [
              0,
              0
            ],
            "bottom": false,
            "html": "<div style=\"font-size: 8pt;color:white;font-family:arial;font-weight: bold\">Guayas</div>",
            "icon_anchor": [
              8,
              8
            ],
            "icon_size": [
              1,
              1
            ],
            "name": "",
            "options": [
              "bg_pos",
              "html",
              "icon_anchor",
              "icon_size",
              "pm_ignore",
              "popup_anchor"
            ],
            "pane": "",
            "pm_ignore": true,
            "popup": null,
            "popup_anchor": [
              0,
              0
            ],
            "popup_max_height": null,
            "popup_max_width": 300,
            "popup_min_width": 50,
            "snap_ignore": true,
            "subitems": []
          }
        },
        "1482315834bb48a49fa6b727a4922e71": {
          "model_module": "jupyter-leaflet",
          "model_name": "LeafletDivIconModel",
          "model_module_version": "^0.20",
          "state": {
            "_model_module": "jupyter-leaflet",
            "_model_module_version": "^0.20",
            "_model_name": "LeafletDivIconModel",
            "_view_count": null,
            "_view_module": "jupyter-leaflet",
            "_view_module_version": "^0.20",
            "_view_name": "LeafletDivIconView",
            "base": false,
            "bg_pos": [
              0,
              0
            ],
            "bottom": false,
            "html": "<div style=\"font-size: 8pt;color:white;font-family:arial;font-weight: bold\">Pichincha</div>",
            "icon_anchor": [
              8,
              8
            ],
            "icon_size": [
              1,
              1
            ],
            "name": "",
            "options": [
              "bg_pos",
              "html",
              "icon_anchor",
              "icon_size",
              "pm_ignore",
              "popup_anchor"
            ],
            "pane": "",
            "pm_ignore": true,
            "popup": null,
            "popup_anchor": [
              0,
              0
            ],
            "popup_max_height": null,
            "popup_max_width": 300,
            "popup_min_width": 50,
            "snap_ignore": true,
            "subitems": []
          }
        },
        "0d8702f767f3460aaf01583aa0f20e7e": {
          "model_module": "jupyter-leaflet",
          "model_name": "LeafletDivIconModel",
          "model_module_version": "^0.20",
          "state": {
            "_model_module": "jupyter-leaflet",
            "_model_module_version": "^0.20",
            "_model_name": "LeafletDivIconModel",
            "_view_count": null,
            "_view_module": "jupyter-leaflet",
            "_view_module_version": "^0.20",
            "_view_name": "LeafletDivIconView",
            "base": false,
            "bg_pos": [
              0,
              0
            ],
            "bottom": false,
            "html": "<div style=\"font-size: 8pt;color:white;font-family:arial;font-weight: bold\">Santa Elena</div>",
            "icon_anchor": [
              8,
              8
            ],
            "icon_size": [
              1,
              1
            ],
            "name": "",
            "options": [
              "bg_pos",
              "html",
              "icon_anchor",
              "icon_size",
              "pm_ignore",
              "popup_anchor"
            ],
            "pane": "",
            "pm_ignore": true,
            "popup": null,
            "popup_anchor": [
              0,
              0
            ],
            "popup_max_height": null,
            "popup_max_width": 300,
            "popup_min_width": 50,
            "snap_ignore": true,
            "subitems": []
          }
        },
        "e6047c7dfb8a4245a236475ba00b1f9e": {
          "model_module": "jupyter-leaflet",
          "model_name": "LeafletDivIconModel",
          "model_module_version": "^0.20",
          "state": {
            "_model_module": "jupyter-leaflet",
            "_model_module_version": "^0.20",
            "_model_name": "LeafletDivIconModel",
            "_view_count": null,
            "_view_module": "jupyter-leaflet",
            "_view_module_version": "^0.20",
            "_view_name": "LeafletDivIconView",
            "base": false,
            "bg_pos": [
              0,
              0
            ],
            "bottom": false,
            "html": "<div style=\"font-size: 8pt;color:white;font-family:arial;font-weight: bold\">Santo Domingo de los Tsachilas</div>",
            "icon_anchor": [
              8,
              8
            ],
            "icon_size": [
              1,
              1
            ],
            "name": "",
            "options": [
              "bg_pos",
              "html",
              "icon_anchor",
              "icon_size",
              "pm_ignore",
              "popup_anchor"
            ],
            "pane": "",
            "pm_ignore": true,
            "popup": null,
            "popup_anchor": [
              0,
              0
            ],
            "popup_max_height": null,
            "popup_max_width": 300,
            "popup_min_width": 50,
            "snap_ignore": true,
            "subitems": []
          }
        },
        "f9efe9b5676e4d7489040c484c6d164d": {
          "model_module": "jupyter-leaflet",
          "model_name": "LeafletDivIconModel",
          "model_module_version": "^0.20",
          "state": {
            "_model_module": "jupyter-leaflet",
            "_model_module_version": "^0.20",
            "_model_name": "LeafletDivIconModel",
            "_view_count": null,
            "_view_module": "jupyter-leaflet",
            "_view_module_version": "^0.20",
            "_view_name": "LeafletDivIconView",
            "base": false,
            "bg_pos": [
              0,
              0
            ],
            "bottom": false,
            "html": "<div style=\"font-size: 8pt;color:white;font-family:arial;font-weight: bold\">Azuay</div>",
            "icon_anchor": [
              8,
              8
            ],
            "icon_size": [
              1,
              1
            ],
            "name": "",
            "options": [
              "bg_pos",
              "html",
              "icon_anchor",
              "icon_size",
              "pm_ignore",
              "popup_anchor"
            ],
            "pane": "",
            "pm_ignore": true,
            "popup": null,
            "popup_anchor": [
              0,
              0
            ],
            "popup_max_height": null,
            "popup_max_width": 300,
            "popup_min_width": 50,
            "snap_ignore": true,
            "subitems": []
          }
        },
        "aabbfdf8abf3474aa694cec8ef16df2e": {
          "model_module": "jupyter-leaflet",
          "model_name": "LeafletDivIconModel",
          "model_module_version": "^0.20",
          "state": {
            "_model_module": "jupyter-leaflet",
            "_model_module_version": "^0.20",
            "_model_name": "LeafletDivIconModel",
            "_view_count": null,
            "_view_module": "jupyter-leaflet",
            "_view_module_version": "^0.20",
            "_view_name": "LeafletDivIconView",
            "base": false,
            "bg_pos": [
              0,
              0
            ],
            "bottom": false,
            "html": "<div style=\"font-size: 8pt;color:white;font-family:arial;font-weight: bold\">Bolivar</div>",
            "icon_anchor": [
              8,
              8
            ],
            "icon_size": [
              1,
              1
            ],
            "name": "",
            "options": [
              "bg_pos",
              "html",
              "icon_anchor",
              "icon_size",
              "pm_ignore",
              "popup_anchor"
            ],
            "pane": "",
            "pm_ignore": true,
            "popup": null,
            "popup_anchor": [
              0,
              0
            ],
            "popup_max_height": null,
            "popup_max_width": 300,
            "popup_min_width": 50,
            "snap_ignore": true,
            "subitems": []
          }
        },
        "9fd95256423545f2baad4ece5462cbde": {
          "model_module": "jupyter-leaflet",
          "model_name": "LeafletDivIconModel",
          "model_module_version": "^0.20",
          "state": {
            "_model_module": "jupyter-leaflet",
            "_model_module_version": "^0.20",
            "_model_name": "LeafletDivIconModel",
            "_view_count": null,
            "_view_module": "jupyter-leaflet",
            "_view_module_version": "^0.20",
            "_view_name": "LeafletDivIconView",
            "base": false,
            "bg_pos": [
              0,
              0
            ],
            "bottom": false,
            "html": "<div style=\"font-size: 8pt;color:white;font-family:arial;font-weight: bold\">Canar</div>",
            "icon_anchor": [
              8,
              8
            ],
            "icon_size": [
              1,
              1
            ],
            "name": "",
            "options": [
              "bg_pos",
              "html",
              "icon_anchor",
              "icon_size",
              "pm_ignore",
              "popup_anchor"
            ],
            "pane": "",
            "pm_ignore": true,
            "popup": null,
            "popup_anchor": [
              0,
              0
            ],
            "popup_max_height": null,
            "popup_max_width": 300,
            "popup_min_width": 50,
            "snap_ignore": true,
            "subitems": []
          }
        },
        "d3a41f3a940a438eb4587f305845c97e": {
          "model_module": "jupyter-leaflet",
          "model_name": "LeafletDivIconModel",
          "model_module_version": "^0.20",
          "state": {
            "_model_module": "jupyter-leaflet",
            "_model_module_version": "^0.20",
            "_model_name": "LeafletDivIconModel",
            "_view_count": null,
            "_view_module": "jupyter-leaflet",
            "_view_module_version": "^0.20",
            "_view_name": "LeafletDivIconView",
            "base": false,
            "bg_pos": [
              0,
              0
            ],
            "bottom": false,
            "html": "<div style=\"font-size: 8pt;color:white;font-family:arial;font-weight: bold\">Carchi</div>",
            "icon_anchor": [
              8,
              8
            ],
            "icon_size": [
              1,
              1
            ],
            "name": "",
            "options": [
              "bg_pos",
              "html",
              "icon_anchor",
              "icon_size",
              "pm_ignore",
              "popup_anchor"
            ],
            "pane": "",
            "pm_ignore": true,
            "popup": null,
            "popup_anchor": [
              0,
              0
            ],
            "popup_max_height": null,
            "popup_max_width": 300,
            "popup_min_width": 50,
            "snap_ignore": true,
            "subitems": []
          }
        },
        "9c5830c97c564d8db7a4ae01a2e17f3a": {
          "model_module": "jupyter-leaflet",
          "model_name": "LeafletDivIconModel",
          "model_module_version": "^0.20",
          "state": {
            "_model_module": "jupyter-leaflet",
            "_model_module_version": "^0.20",
            "_model_name": "LeafletDivIconModel",
            "_view_count": null,
            "_view_module": "jupyter-leaflet",
            "_view_module_version": "^0.20",
            "_view_name": "LeafletDivIconView",
            "base": false,
            "bg_pos": [
              0,
              0
            ],
            "bottom": false,
            "html": "<div style=\"font-size: 8pt;color:white;font-family:arial;font-weight: bold\">Chimborazo</div>",
            "icon_anchor": [
              8,
              8
            ],
            "icon_size": [
              1,
              1
            ],
            "name": "",
            "options": [
              "bg_pos",
              "html",
              "icon_anchor",
              "icon_size",
              "pm_ignore",
              "popup_anchor"
            ],
            "pane": "",
            "pm_ignore": true,
            "popup": null,
            "popup_anchor": [
              0,
              0
            ],
            "popup_max_height": null,
            "popup_max_width": 300,
            "popup_min_width": 50,
            "snap_ignore": true,
            "subitems": []
          }
        },
        "4645d695ce9c4980b374a80f1a27673d": {
          "model_module": "jupyter-leaflet",
          "model_name": "LeafletDivIconModel",
          "model_module_version": "^0.20",
          "state": {
            "_model_module": "jupyter-leaflet",
            "_model_module_version": "^0.20",
            "_model_name": "LeafletDivIconModel",
            "_view_count": null,
            "_view_module": "jupyter-leaflet",
            "_view_module_version": "^0.20",
            "_view_name": "LeafletDivIconView",
            "base": false,
            "bg_pos": [
              0,
              0
            ],
            "bottom": false,
            "html": "<div style=\"font-size: 8pt;color:white;font-family:arial;font-weight: bold\">Cotopaxi</div>",
            "icon_anchor": [
              8,
              8
            ],
            "icon_size": [
              1,
              1
            ],
            "name": "",
            "options": [
              "bg_pos",
              "html",
              "icon_anchor",
              "icon_size",
              "pm_ignore",
              "popup_anchor"
            ],
            "pane": "",
            "pm_ignore": true,
            "popup": null,
            "popup_anchor": [
              0,
              0
            ],
            "popup_max_height": null,
            "popup_max_width": 300,
            "popup_min_width": 50,
            "snap_ignore": true,
            "subitems": []
          }
        },
        "41cae1b5bc384b3faa5a19e289299854": {
          "model_module": "jupyter-leaflet",
          "model_name": "LeafletDivIconModel",
          "model_module_version": "^0.20",
          "state": {
            "_model_module": "jupyter-leaflet",
            "_model_module_version": "^0.20",
            "_model_name": "LeafletDivIconModel",
            "_view_count": null,
            "_view_module": "jupyter-leaflet",
            "_view_module_version": "^0.20",
            "_view_name": "LeafletDivIconView",
            "base": false,
            "bg_pos": [
              0,
              0
            ],
            "bottom": false,
            "html": "<div style=\"font-size: 8pt;color:white;font-family:arial;font-weight: bold\">El Oro</div>",
            "icon_anchor": [
              8,
              8
            ],
            "icon_size": [
              1,
              1
            ],
            "name": "",
            "options": [
              "bg_pos",
              "html",
              "icon_anchor",
              "icon_size",
              "pm_ignore",
              "popup_anchor"
            ],
            "pane": "",
            "pm_ignore": true,
            "popup": null,
            "popup_anchor": [
              0,
              0
            ],
            "popup_max_height": null,
            "popup_max_width": 300,
            "popup_min_width": 50,
            "snap_ignore": true,
            "subitems": []
          }
        },
        "b5c37089232243f7b6dc2314d444dd25": {
          "model_module": "jupyter-leaflet",
          "model_name": "LeafletDivIconModel",
          "model_module_version": "^0.20",
          "state": {
            "_model_module": "jupyter-leaflet",
            "_model_module_version": "^0.20",
            "_model_name": "LeafletDivIconModel",
            "_view_count": null,
            "_view_module": "jupyter-leaflet",
            "_view_module_version": "^0.20",
            "_view_name": "LeafletDivIconView",
            "base": false,
            "bg_pos": [
              0,
              0
            ],
            "bottom": false,
            "html": "<div style=\"font-size: 8pt;color:white;font-family:arial;font-weight: bold\">Esmeraldas</div>",
            "icon_anchor": [
              8,
              8
            ],
            "icon_size": [
              1,
              1
            ],
            "name": "",
            "options": [
              "bg_pos",
              "html",
              "icon_anchor",
              "icon_size",
              "pm_ignore",
              "popup_anchor"
            ],
            "pane": "",
            "pm_ignore": true,
            "popup": null,
            "popup_anchor": [
              0,
              0
            ],
            "popup_max_height": null,
            "popup_max_width": 300,
            "popup_min_width": 50,
            "snap_ignore": true,
            "subitems": []
          }
        },
        "0cfcab6e33e446f980626f2e04163a50": {
          "model_module": "jupyter-leaflet",
          "model_name": "LeafletDivIconModel",
          "model_module_version": "^0.20",
          "state": {
            "_model_module": "jupyter-leaflet",
            "_model_module_version": "^0.20",
            "_model_name": "LeafletDivIconModel",
            "_view_count": null,
            "_view_module": "jupyter-leaflet",
            "_view_module_version": "^0.20",
            "_view_name": "LeafletDivIconView",
            "base": false,
            "bg_pos": [
              0,
              0
            ],
            "bottom": false,
            "html": "<div style=\"font-size: 8pt;color:white;font-family:arial;font-weight: bold\">Galapagos</div>",
            "icon_anchor": [
              8,
              8
            ],
            "icon_size": [
              1,
              1
            ],
            "name": "",
            "options": [
              "bg_pos",
              "html",
              "icon_anchor",
              "icon_size",
              "pm_ignore",
              "popup_anchor"
            ],
            "pane": "",
            "pm_ignore": true,
            "popup": null,
            "popup_anchor": [
              0,
              0
            ],
            "popup_max_height": null,
            "popup_max_width": 300,
            "popup_min_width": 50,
            "snap_ignore": true,
            "subitems": []
          }
        },
        "04253ce2879a4766a5db5924b2068060": {
          "model_module": "jupyter-leaflet",
          "model_name": "LeafletDivIconModel",
          "model_module_version": "^0.20",
          "state": {
            "_model_module": "jupyter-leaflet",
            "_model_module_version": "^0.20",
            "_model_name": "LeafletDivIconModel",
            "_view_count": null,
            "_view_module": "jupyter-leaflet",
            "_view_module_version": "^0.20",
            "_view_name": "LeafletDivIconView",
            "base": false,
            "bg_pos": [
              0,
              0
            ],
            "bottom": false,
            "html": "<div style=\"font-size: 8pt;color:white;font-family:arial;font-weight: bold\">Imbabura</div>",
            "icon_anchor": [
              8,
              8
            ],
            "icon_size": [
              1,
              1
            ],
            "name": "",
            "options": [
              "bg_pos",
              "html",
              "icon_anchor",
              "icon_size",
              "pm_ignore",
              "popup_anchor"
            ],
            "pane": "",
            "pm_ignore": true,
            "popup": null,
            "popup_anchor": [
              0,
              0
            ],
            "popup_max_height": null,
            "popup_max_width": 300,
            "popup_min_width": 50,
            "snap_ignore": true,
            "subitems": []
          }
        },
        "2d7cab932e5647f590afe01206012ab5": {
          "model_module": "jupyter-leaflet",
          "model_name": "LeafletDivIconModel",
          "model_module_version": "^0.20",
          "state": {
            "_model_module": "jupyter-leaflet",
            "_model_module_version": "^0.20",
            "_model_name": "LeafletDivIconModel",
            "_view_count": null,
            "_view_module": "jupyter-leaflet",
            "_view_module_version": "^0.20",
            "_view_name": "LeafletDivIconView",
            "base": false,
            "bg_pos": [
              0,
              0
            ],
            "bottom": false,
            "html": "<div style=\"font-size: 8pt;color:white;font-family:arial;font-weight: bold\">Loja</div>",
            "icon_anchor": [
              8,
              8
            ],
            "icon_size": [
              1,
              1
            ],
            "name": "",
            "options": [
              "bg_pos",
              "html",
              "icon_anchor",
              "icon_size",
              "pm_ignore",
              "popup_anchor"
            ],
            "pane": "",
            "pm_ignore": true,
            "popup": null,
            "popup_anchor": [
              0,
              0
            ],
            "popup_max_height": null,
            "popup_max_width": 300,
            "popup_min_width": 50,
            "snap_ignore": true,
            "subitems": []
          }
        },
        "6192f2fc56df4f8bb1fbf133bd3ec453": {
          "model_module": "jupyter-leaflet",
          "model_name": "LeafletDivIconModel",
          "model_module_version": "^0.20",
          "state": {
            "_model_module": "jupyter-leaflet",
            "_model_module_version": "^0.20",
            "_model_name": "LeafletDivIconModel",
            "_view_count": null,
            "_view_module": "jupyter-leaflet",
            "_view_module_version": "^0.20",
            "_view_name": "LeafletDivIconView",
            "base": false,
            "bg_pos": [
              0,
              0
            ],
            "bottom": false,
            "html": "<div style=\"font-size: 8pt;color:white;font-family:arial;font-weight: bold\">Los Rios</div>",
            "icon_anchor": [
              8,
              8
            ],
            "icon_size": [
              1,
              1
            ],
            "name": "",
            "options": [
              "bg_pos",
              "html",
              "icon_anchor",
              "icon_size",
              "pm_ignore",
              "popup_anchor"
            ],
            "pane": "",
            "pm_ignore": true,
            "popup": null,
            "popup_anchor": [
              0,
              0
            ],
            "popup_max_height": null,
            "popup_max_width": 300,
            "popup_min_width": 50,
            "snap_ignore": true,
            "subitems": []
          }
        },
        "4d2975899a50438081f3819f0779e781": {
          "model_module": "jupyter-leaflet",
          "model_name": "LeafletDivIconModel",
          "model_module_version": "^0.20",
          "state": {
            "_model_module": "jupyter-leaflet",
            "_model_module_version": "^0.20",
            "_model_name": "LeafletDivIconModel",
            "_view_count": null,
            "_view_module": "jupyter-leaflet",
            "_view_module_version": "^0.20",
            "_view_name": "LeafletDivIconView",
            "base": false,
            "bg_pos": [
              0,
              0
            ],
            "bottom": false,
            "html": "<div style=\"font-size: 8pt;color:white;font-family:arial;font-weight: bold\">Manabi</div>",
            "icon_anchor": [
              8,
              8
            ],
            "icon_size": [
              1,
              1
            ],
            "name": "",
            "options": [
              "bg_pos",
              "html",
              "icon_anchor",
              "icon_size",
              "pm_ignore",
              "popup_anchor"
            ],
            "pane": "",
            "pm_ignore": true,
            "popup": null,
            "popup_anchor": [
              0,
              0
            ],
            "popup_max_height": null,
            "popup_max_width": 300,
            "popup_min_width": 50,
            "snap_ignore": true,
            "subitems": []
          }
        },
        "1c0251d77cda420cb6b7ae42528fc720": {
          "model_module": "jupyter-leaflet",
          "model_name": "LeafletDivIconModel",
          "model_module_version": "^0.20",
          "state": {
            "_model_module": "jupyter-leaflet",
            "_model_module_version": "^0.20",
            "_model_name": "LeafletDivIconModel",
            "_view_count": null,
            "_view_module": "jupyter-leaflet",
            "_view_module_version": "^0.20",
            "_view_name": "LeafletDivIconView",
            "base": false,
            "bg_pos": [
              0,
              0
            ],
            "bottom": false,
            "html": "<div style=\"font-size: 8pt;color:white;font-family:arial;font-weight: bold\">Morona Santiago</div>",
            "icon_anchor": [
              8,
              8
            ],
            "icon_size": [
              1,
              1
            ],
            "name": "",
            "options": [
              "bg_pos",
              "html",
              "icon_anchor",
              "icon_size",
              "pm_ignore",
              "popup_anchor"
            ],
            "pane": "",
            "pm_ignore": true,
            "popup": null,
            "popup_anchor": [
              0,
              0
            ],
            "popup_max_height": null,
            "popup_max_width": 300,
            "popup_min_width": 50,
            "snap_ignore": true,
            "subitems": []
          }
        },
        "054ef6b72afd44d8a6c1af7032f766d0": {
          "model_module": "jupyter-leaflet",
          "model_name": "LeafletDivIconModel",
          "model_module_version": "^0.20",
          "state": {
            "_model_module": "jupyter-leaflet",
            "_model_module_version": "^0.20",
            "_model_name": "LeafletDivIconModel",
            "_view_count": null,
            "_view_module": "jupyter-leaflet",
            "_view_module_version": "^0.20",
            "_view_name": "LeafletDivIconView",
            "base": false,
            "bg_pos": [
              0,
              0
            ],
            "bottom": false,
            "html": "<div style=\"font-size: 8pt;color:white;font-family:arial;font-weight: bold\">Pastaza</div>",
            "icon_anchor": [
              8,
              8
            ],
            "icon_size": [
              1,
              1
            ],
            "name": "",
            "options": [
              "bg_pos",
              "html",
              "icon_anchor",
              "icon_size",
              "pm_ignore",
              "popup_anchor"
            ],
            "pane": "",
            "pm_ignore": true,
            "popup": null,
            "popup_anchor": [
              0,
              0
            ],
            "popup_max_height": null,
            "popup_max_width": 300,
            "popup_min_width": 50,
            "snap_ignore": true,
            "subitems": []
          }
        },
        "6297d6fd33304f99aa4d4b156259897b": {
          "model_module": "jupyter-leaflet",
          "model_name": "LeafletDivIconModel",
          "model_module_version": "^0.20",
          "state": {
            "_model_module": "jupyter-leaflet",
            "_model_module_version": "^0.20",
            "_model_name": "LeafletDivIconModel",
            "_view_count": null,
            "_view_module": "jupyter-leaflet",
            "_view_module_version": "^0.20",
            "_view_name": "LeafletDivIconView",
            "base": false,
            "bg_pos": [
              0,
              0
            ],
            "bottom": false,
            "html": "<div style=\"font-size: 8pt;color:white;font-family:arial;font-weight: bold\">Sucumbios</div>",
            "icon_anchor": [
              8,
              8
            ],
            "icon_size": [
              1,
              1
            ],
            "name": "",
            "options": [
              "bg_pos",
              "html",
              "icon_anchor",
              "icon_size",
              "pm_ignore",
              "popup_anchor"
            ],
            "pane": "",
            "pm_ignore": true,
            "popup": null,
            "popup_anchor": [
              0,
              0
            ],
            "popup_max_height": null,
            "popup_max_width": 300,
            "popup_min_width": 50,
            "snap_ignore": true,
            "subitems": []
          }
        },
        "5acad468803f4e94a65698d4d0f6fdc4": {
          "model_module": "jupyter-leaflet",
          "model_name": "LeafletDivIconModel",
          "model_module_version": "^0.20",
          "state": {
            "_model_module": "jupyter-leaflet",
            "_model_module_version": "^0.20",
            "_model_name": "LeafletDivIconModel",
            "_view_count": null,
            "_view_module": "jupyter-leaflet",
            "_view_module_version": "^0.20",
            "_view_name": "LeafletDivIconView",
            "base": false,
            "bg_pos": [
              0,
              0
            ],
            "bottom": false,
            "html": "<div style=\"font-size: 8pt;color:white;font-family:arial;font-weight: bold\">Tungurahua</div>",
            "icon_anchor": [
              8,
              8
            ],
            "icon_size": [
              1,
              1
            ],
            "name": "",
            "options": [
              "bg_pos",
              "html",
              "icon_anchor",
              "icon_size",
              "pm_ignore",
              "popup_anchor"
            ],
            "pane": "",
            "pm_ignore": true,
            "popup": null,
            "popup_anchor": [
              0,
              0
            ],
            "popup_max_height": null,
            "popup_max_width": 300,
            "popup_min_width": 50,
            "snap_ignore": true,
            "subitems": []
          }
        },
        "41982bb51b97457eb56db476c56d09ab": {
          "model_module": "jupyter-leaflet",
          "model_name": "LeafletDivIconModel",
          "model_module_version": "^0.20",
          "state": {
            "_model_module": "jupyter-leaflet",
            "_model_module_version": "^0.20",
            "_model_name": "LeafletDivIconModel",
            "_view_count": null,
            "_view_module": "jupyter-leaflet",
            "_view_module_version": "^0.20",
            "_view_name": "LeafletDivIconView",
            "base": false,
            "bg_pos": [
              0,
              0
            ],
            "bottom": false,
            "html": "<div style=\"font-size: 8pt;color:white;font-family:arial;font-weight: bold\">Zamora Chinchipe</div>",
            "icon_anchor": [
              8,
              8
            ],
            "icon_size": [
              1,
              1
            ],
            "name": "",
            "options": [
              "bg_pos",
              "html",
              "icon_anchor",
              "icon_size",
              "pm_ignore",
              "popup_anchor"
            ],
            "pane": "",
            "pm_ignore": true,
            "popup": null,
            "popup_anchor": [
              0,
              0
            ],
            "popup_max_height": null,
            "popup_max_width": 300,
            "popup_min_width": 50,
            "snap_ignore": true,
            "subitems": []
          }
        },
        "de34968cb8aa446b8552c99d494ca592": {
          "model_module": "jupyter-leaflet",
          "model_name": "LeafletDivIconModel",
          "model_module_version": "^0.20",
          "state": {
            "_model_module": "jupyter-leaflet",
            "_model_module_version": "^0.20",
            "_model_name": "LeafletDivIconModel",
            "_view_count": null,
            "_view_module": "jupyter-leaflet",
            "_view_module_version": "^0.20",
            "_view_name": "LeafletDivIconView",
            "base": false,
            "bg_pos": [
              0,
              0
            ],
            "bottom": false,
            "html": "<div style=\"font-size: 8pt;color:white;font-family:arial;font-weight: bold\">Zona No Delimitada</div>",
            "icon_anchor": [
              8,
              8
            ],
            "icon_size": [
              1,
              1
            ],
            "name": "",
            "options": [
              "bg_pos",
              "html",
              "icon_anchor",
              "icon_size",
              "pm_ignore",
              "popup_anchor"
            ],
            "pane": "",
            "pm_ignore": true,
            "popup": null,
            "popup_anchor": [
              0,
              0
            ],
            "popup_max_height": null,
            "popup_max_width": 300,
            "popup_min_width": 50,
            "snap_ignore": true,
            "subitems": []
          }
        },
        "6bf5a5a771fe4c9ab82023f082292302": {
          "model_module": "jupyter-leaflet",
          "model_name": "LeafletDivIconModel",
          "model_module_version": "^0.20",
          "state": {
            "_model_module": "jupyter-leaflet",
            "_model_module_version": "^0.20",
            "_model_name": "LeafletDivIconModel",
            "_view_count": null,
            "_view_module": "jupyter-leaflet",
            "_view_module_version": "^0.20",
            "_view_name": "LeafletDivIconView",
            "base": false,
            "bg_pos": [
              0,
              0
            ],
            "bottom": false,
            "html": "<div style=\"font-size: 10pt;color:white;font-family:arial;font-weight: normal\">Ecuador</div>",
            "icon_anchor": [
              10,
              10
            ],
            "icon_size": [
              1,
              1
            ],
            "name": "",
            "options": [
              "bg_pos",
              "html",
              "icon_anchor",
              "icon_size",
              "pm_ignore",
              "popup_anchor"
            ],
            "pane": "",
            "pm_ignore": true,
            "popup": null,
            "popup_anchor": [
              0,
              0
            ],
            "popup_max_height": null,
            "popup_max_width": 300,
            "popup_min_width": 50,
            "snap_ignore": true,
            "subitems": []
          }
        },
        "bdff5c3073744272832db85edc1b572e": {
          "model_module": "@jupyter-widgets/base",
          "model_name": "LayoutModel",
          "model_module_version": "1.2.0",
          "state": {
            "_model_module": "@jupyter-widgets/base",
            "_model_module_version": "1.2.0",
            "_model_name": "LayoutModel",
            "_view_count": null,
            "_view_module": "@jupyter-widgets/base",
            "_view_module_version": "1.2.0",
            "_view_name": "LayoutView",
            "align_content": null,
            "align_items": null,
            "align_self": null,
            "border": null,
            "bottom": null,
            "display": null,
            "flex": null,
            "flex_flow": null,
            "grid_area": null,
            "grid_auto_columns": null,
            "grid_auto_flow": null,
            "grid_auto_rows": null,
            "grid_column": null,
            "grid_gap": null,
            "grid_row": null,
            "grid_template_areas": null,
            "grid_template_columns": null,
            "grid_template_rows": null,
            "height": "28px",
            "justify_content": null,
            "justify_items": null,
            "left": null,
            "margin": null,
            "max_height": null,
            "max_width": null,
            "min_height": null,
            "min_width": null,
            "object_fit": null,
            "object_position": null,
            "order": null,
            "overflow": null,
            "overflow_x": null,
            "overflow_y": null,
            "padding": "0px 0px 0px 4px",
            "right": null,
            "top": null,
            "visibility": null,
            "width": "28px"
          }
        },
        "548d796edc1046238c6444dcd3b82443": {
          "model_module": "@jupyter-widgets/controls",
          "model_name": "DescriptionStyleModel",
          "model_module_version": "1.5.0",
          "state": {
            "_model_module": "@jupyter-widgets/controls",
            "_model_module_version": "1.5.0",
            "_model_name": "DescriptionStyleModel",
            "_view_count": null,
            "_view_module": "@jupyter-widgets/base",
            "_view_module_version": "1.2.0",
            "_view_name": "StyleView",
            "description_width": ""
          }
        },
        "1aade336e56e4646bc3e594b86020bb9": {
          "model_module": "@jupyter-widgets/base",
          "model_name": "LayoutModel",
          "model_module_version": "1.2.0",
          "state": {
            "_model_module": "@jupyter-widgets/base",
            "_model_module_version": "1.2.0",
            "_model_name": "LayoutModel",
            "_view_count": null,
            "_view_module": "@jupyter-widgets/base",
            "_view_module_version": "1.2.0",
            "_view_name": "LayoutView",
            "align_content": null,
            "align_items": null,
            "align_self": null,
            "border": null,
            "bottom": null,
            "display": null,
            "flex": null,
            "flex_flow": null,
            "grid_area": null,
            "grid_auto_columns": null,
            "grid_auto_flow": null,
            "grid_auto_rows": null,
            "grid_column": null,
            "grid_gap": null,
            "grid_row": null,
            "grid_template_areas": null,
            "grid_template_columns": null,
            "grid_template_rows": null,
            "height": "28px",
            "justify_content": null,
            "justify_items": null,
            "left": null,
            "margin": null,
            "max_height": null,
            "max_width": null,
            "min_height": null,
            "min_width": null,
            "object_fit": null,
            "object_position": null,
            "order": null,
            "overflow": null,
            "overflow_x": null,
            "overflow_y": null,
            "padding": "0px 0px 0px 4px",
            "right": null,
            "top": null,
            "visibility": null,
            "width": "28px"
          }
        },
        "e693aff61d514e1b97b52ff918b1ea2e": {
          "model_module": "@jupyter-widgets/controls",
          "model_name": "DescriptionStyleModel",
          "model_module_version": "1.5.0",
          "state": {
            "_model_module": "@jupyter-widgets/controls",
            "_model_module_version": "1.5.0",
            "_model_name": "DescriptionStyleModel",
            "_view_count": null,
            "_view_module": "@jupyter-widgets/base",
            "_view_module_version": "1.2.0",
            "_view_name": "StyleView",
            "description_width": ""
          }
        }
      }
    }
  },
  "cells": [
    {
      "cell_type": "markdown",
      "metadata": {
        "id": "view-in-github",
        "colab_type": "text"
      },
      "source": [
        "<a href=\"https://colab.research.google.com/github/seamusrobertmurphy/01-data-processing/blob/main/01-data-processing.ipynb\" target=\"_parent\"><img src=\"https://colab.research.google.com/assets/colab-badge.svg\" alt=\"Open In Colab\"/></a>"
      ]
    },
    {
      "cell_type": "markdown",
      "source": [
        "### Environment setup"
      ],
      "metadata": {
        "id": "Zs-XkMfnTPG8"
      }
    },
    {
      "cell_type": "code",
      "execution_count": 1,
      "metadata": {
        "id": "8MIGUKfTznMD",
        "collapsed": true,
        "colab": {
          "base_uri": "https://localhost:8080/"
        },
        "outputId": "d5821fdb-656a-42ea-e00e-953530dccc8e"
      },
      "outputs": [
        {
          "output_type": "stream",
          "name": "stdout",
          "text": [
            "/bin/bash: -c: line 1: syntax error near unexpected token `'/content/drive''\n",
            "/bin/bash: -c: line 1: `drive.mount('/content/drive')'\n"
          ]
        }
      ],
      "source": [
        "!pip install leafmap geemap==0.16.4 geopandas numpy session_info\n",
        "import ee, json, geemap, ipyleaflet, os, numpy, backports, session_info\n",
        "from google.colab import drive\n",
        "from google.colab import files\n",
        "!drive.mount('/content/drive')"
      ]
    },
    {
      "cell_type": "markdown",
      "source": [
        "### Activate Earth Engine"
      ],
      "metadata": {
        "id": "myJzbBrc2NH4"
      }
    },
    {
      "cell_type": "code",
      "source": [
        "#!ee.Authenticate() # deprecated in certain Colab environments\n",
        "!earthengine authenticate\n",
        "ee.Initialize(project = \"murphys-deforisk\")"
      ],
      "metadata": {
        "collapsed": true,
        "id": "KJyaBbBmWoEj"
      },
      "execution_count": null,
      "outputs": []
    },
    {
      "cell_type": "markdown",
      "source": [
        "### Jurisidictional boundaries"
      ],
      "metadata": {
        "id": "a8jVqmt2TJch"
      }
    },
    {
      "cell_type": "code",
      "source": [
        "country = ee.FeatureCollection('FAO/GAUL/2015/level1').filter(\n",
        "    ee.Filter.equals(\"ADM0_NAME\", \"Ecuador\"))\n",
        "state = ee.FeatureCollection('FAO/GAUL/2015/level1').filter(\n",
        "    ee.Filter.equals(\"ADM0_NAME\", \"Ecuador\"))\n",
        "state_list = state.aggregate_array('Ecuador').distinct().getInfo()"
      ],
      "metadata": {
        "id": "GgtmLpgrakJa",
        "colab": {
          "base_uri": "https://localhost:8080/"
        },
        "outputId": "bff60c14-ea5e-44bf-c058-81c344491861"
      },
      "execution_count": 8,
      "outputs": [
        {
          "output_type": "execute_result",
          "data": {
            "text/plain": [
              "[]"
            ]
          },
          "metadata": {},
          "execution_count": 8
        }
      ]
    },
    {
      "cell_type": "code",
      "source": [
        "red = {\"color\": \"red\", \"width\": 2, \"lineType\": \"solid\", \"fillColor\": \"00000000\"}\n",
        "white = {\"color\": \"white\", \"width\": 1, \"lineType\": \"solid\", \"fillColor\": \"00000000\"}\n",
        "country_label = ee.FeatureCollection([ee.Feature(\n",
        "    country.geometry().centroid(), {'country_name': country.first().get(\"ADM0_NAME\").getInfo()})])\n",
        "\n",
        "Map = geemap.Map()\n",
        "Map.centerObject(country, 6)\n",
        "Map.add_basemap('Esri.WorldImagery')\n",
        "Map.addLayer(country.style(**red), {}, \"Country\")\n",
        "Map.addLayer(state.style(**white), {}, \"States\")\n",
        "Map.add_labels(state,\"ADM1_NAME\",font_color=\"white\", font_size=\"8pt\", font_family=\"arial\",font_weight=\"bold\",)\n",
        "Map.add_labels(country_label, \"country_name\", font_size=\"10pt\", font_color=\"white\", font_family=\"arial\",)\n",
        "Map"
      ],
      "metadata": {
        "colab": {
          "base_uri": "https://localhost:8080/",
          "height": 621,
          "referenced_widgets": [
            "de3c25afb9714362964684bfb1e1acbd",
            "6ddd941a95eb4e3f8cd97f7103c409dd",
            "8a8cdf2c24ab4c86876a3caa8e9acdff",
            "91990e88a8394e26a9f530b153a2d99d",
            "907eead4ba784791bfe9caa39209e9b9",
            "2bb4cb09b54c41668e32d1bb3181ee7c",
            "7391a1c8d06d4276be3dcb9faa84a647",
            "aa675fda42314bac84d2694c9312e144",
            "340ab44b2f60416a8fd476daa0691ae7",
            "74fb48ae70b346ecb4807f15273bba3a",
            "1cbde49cf0634e638b5edd4d7a4492d9",
            "3935a524f8804d2c953922b1bc3f04bc",
            "b16794ce37d94cd78cd2c014e1ace6be",
            "ed59f4ff39f14143974f96e8301593a4",
            "332e87a70a5f43bd8deb8fbcfcd8000e",
            "9ce6842daf0846febe42ed1ec23d90a8",
            "6a9a1e10273142de885d945f7471a536",
            "84f56d9080324bb5b0ec8e204ebce345",
            "a578b0b36bfd4899a17051b5f6be0c7b",
            "a1bf0aadb26046c28f3b610859cb1e9c",
            "65ace8bb39c94666811a278343ba5721",
            "44bfbaa9c1314a6f8a3dbb960ae4f776",
            "01fcc86faaad4472a2237a3d43bdb459",
            "381f4f7ae690443da07484e2146d81c9",
            "df14e0d29b6f4b61a445c114412c91e8",
            "cae8ca02fa804df7bfef7a196a39f8da",
            "d94dcd17b5104136a48b0c60ecd7ef7b",
            "3bcb516e538f42b4b1f1350a20b4f910",
            "4dedf238763847a5a5160c82f0d55680",
            "aea49e0c388a43a88bf43b5cdd501537",
            "7122a1c7517a4a048c038aab93c3cecb",
            "e1168fca13ba459d87ac03a287f29442",
            "e15caba3f05e49feb4aa1c836b8c15f8",
            "bbb13e22b2e74fa99a0df327e6dce54c",
            "39eb440f6ca145bda402ac6c4a5a23dd",
            "ece3e505b994467599acc04546e042e6",
            "03e96a220d954a618e8e5450def5d76b",
            "9d5c9b7456084d6d93374d37dc1e5c9b",
            "ffe10f1368d54f9c82a4be4834d52bca",
            "77110fc3ab154e3b8be0a22b63b8140b",
            "e802e2cb6bfe4ebe8151a5dd97b9e718",
            "61af404c77e04fba91f5ccb4e6c1c4df",
            "c78494ae9ddd492fb84729179bb06cbf",
            "56e7e8874fb04e0e967ea35cb6e97c82",
            "9811c26504034f8c92e06d792fc1246b",
            "467ad15516f945e4986f24a1bf44e2b0",
            "1d1ddd34012e4f4e822726bf7d6d7495",
            "56eb0ece9a104fdbbfec7606067d5ee9",
            "8aa79a3c7af54d1bbad105493755e40f",
            "17ecddfda37b4a878208453265a70ee4",
            "c1c97d7cb9984c289c64e51daefcc6d0",
            "cc8d915b8d5f4b20918e0067886c7573",
            "a9fac0122f524eef88281b504414b7d8",
            "4140d42fdd2f452fb5953e1b915fde7f",
            "d73f5bad0bab4b46b8d6501a72aafe97",
            "1482315834bb48a49fa6b727a4922e71",
            "0d8702f767f3460aaf01583aa0f20e7e",
            "e6047c7dfb8a4245a236475ba00b1f9e",
            "f9efe9b5676e4d7489040c484c6d164d",
            "aabbfdf8abf3474aa694cec8ef16df2e",
            "9fd95256423545f2baad4ece5462cbde",
            "d3a41f3a940a438eb4587f305845c97e",
            "9c5830c97c564d8db7a4ae01a2e17f3a",
            "4645d695ce9c4980b374a80f1a27673d",
            "41cae1b5bc384b3faa5a19e289299854",
            "b5c37089232243f7b6dc2314d444dd25",
            "0cfcab6e33e446f980626f2e04163a50",
            "04253ce2879a4766a5db5924b2068060",
            "2d7cab932e5647f590afe01206012ab5",
            "6192f2fc56df4f8bb1fbf133bd3ec453",
            "4d2975899a50438081f3819f0779e781",
            "1c0251d77cda420cb6b7ae42528fc720",
            "054ef6b72afd44d8a6c1af7032f766d0",
            "6297d6fd33304f99aa4d4b156259897b",
            "5acad468803f4e94a65698d4d0f6fdc4",
            "41982bb51b97457eb56db476c56d09ab",
            "de34968cb8aa446b8552c99d494ca592",
            "6bf5a5a771fe4c9ab82023f082292302",
            "bdff5c3073744272832db85edc1b572e",
            "548d796edc1046238c6444dcd3b82443",
            "1aade336e56e4646bc3e594b86020bb9",
            "e693aff61d514e1b97b52ff918b1ea2e"
          ]
        },
        "id": "6K7u7Ox57ZQb",
        "outputId": "42f36269-56d2-4652-fe36-1c17bfd58af5"
      },
      "execution_count": 16,
      "outputs": [
        {
          "output_type": "display_data",
          "data": {
            "text/plain": [
              "Map(center=[-1.432800372103166, -78.76612016462705], controls=(WidgetControl(options=['position', 'transparent…"
            ],
            "application/vnd.jupyter.widget-view+json": {
              "version_major": 2,
              "version_minor": 0,
              "model_id": "de3c25afb9714362964684bfb1e1acbd"
            }
          },
          "metadata": {
            "application/vnd.jupyter.widget-view+json": {
              "colab": {
                "custom_widget_manager": {
                  "url": "https://ssl.gstatic.com/colaboratory-static/widgets/colab-cdn-widget-manager/2b70e893a8ba7c0f/manager.min.js"
                }
              }
            }
          }
        }
      ]
    },
    {
      "cell_type": "markdown",
      "source": [
        "The ImageCollection Landsat 8 Surface Reflectance Tier 1 have been atmospherically corrected using LaSRC and includes a cloud, shadow, water and snow mask produced using CFMASK, as well as a per-pixel saturation mask."
      ],
      "metadata": {
        "id": "bZw_9pqzTCXk"
      }
    },
    {
      "source": [
        "# derive masking, scaling, and ndvi function\n",
        "def maskL8sr(image):\n",
        "    qaMask = image.select('QA_PIXEL').bitwiseAnd(int('11111', 2)).eq(0)\n",
        "    saturationMask = image.select('QA_RADSAT').eq(0)\n",
        "    opticalBands = image.select('SR_B.').multiply(0.0000275).add(-0.2)\n",
        "    thermalBands = image.select('ST_B.*').multiply(0.00341802).add(149.0)\n",
        "    ndvi = image.normalizedDifference(['SR_B5', 'SR_B4']).rename('NDVI').toFloat()\n",
        "    image = image.addBands(opticalBands, None, True) \\\n",
        "                 .addBands(thermalBands, None, True) \\\n",
        "                 .addBands(ndvi)\n",
        "    return image.select(\n",
        "        ['SR_B2', 'SR_B3', 'SR_B4', 'SR_B5', 'SR_B6', 'SR_B7', 'NDVI'],\n",
        "        ['BLUE', 'GREEN', 'RED', 'NIR08', 'SWIR16', 'SWIR22', 'NDVI']\n",
        "    ).updateMask(qaMask).updateMask(saturationMask)\n",
        "\n",
        "# create collections for 2014 and 2024\n",
        "collection_2014 = ee.ImageCollection('LANDSAT/LC08/C02/T1_L2') \\\n",
        "                    .filterDate('2014-01-01', '2015-07-01') \\\n",
        "                    .filterBounds(state) \\\n",
        "                    .map(maskL8sr)\n",
        "\n",
        "collection_2024 = ee.ImageCollection('LANDSAT/LC08/C02/T1_L2') \\\n",
        "                    .filterDate('2024-01-01', '2025-07-01') \\\n",
        "                    .filterBounds(state) \\\n",
        "                    .map(maskL8sr)\n",
        "\n",
        "# median composites for 2014 and 2024\n",
        "composite_2014 = collection_2014.select(['BLUE', 'GREEN', 'RED', 'NIR08', 'SWIR16', 'SWIR22', 'NDVI']).median().clip(state).toFloat()\n",
        "composite_2024 = collection_2024.select(['BLUE', 'GREEN', 'RED', 'NIR08', 'SWIR16', 'SWIR22', 'NDVI']).median().clip(state).toFloat()\n",
        "\n",
        "\n",
        "# visualization\n",
        "ndviVis = {'min': 0.2, 'max': 0.8, 'palette': ['red', 'yellow', 'green']}\n",
        "rgbVis = {'bands': ['RED', 'GREEN', 'BLUE'],'min': 0, 'max': 0.3, 'gamma': 1.4}\n",
        "Map = geemap.Map()\n",
        "Map.centerObject(state, 8)\n",
        "Map.addLayer(composite_2014.select('NDVI'), ndviVis, 'NDVI 2014')\n",
        "Map.addLayer(composite_2024.select('NDVI'), ndviVis, 'NDVI 2024')\n",
        "Map.addLayer(composite_2014.select(['RED', 'GREEN', 'BLUE']), rgbVis, 'RGB 2014')\n",
        "Map.addLayer(composite_2024.select(['RED', 'GREEN', 'BLUE']), rgbVis, 'RGB 2024')\n",
        "Map.addLayer(state, {}, 'Area of Interest')\n",
        "Map.addLayerControl()\n",
        "Map"
      ],
      "cell_type": "code",
      "metadata": {
        "id": "Qa1K0i17v8ea"
      },
      "execution_count": null,
      "outputs": []
    },
    {
      "source": [
        "# confirm dates, scene IDs, band names of images\n",
        "firstImage_2014 = collection_2014.first()\n",
        "sceneId_2014 = firstImage_2014.get('system:index').getInfo()\n",
        "print(f\"Scene ID for collection_2014: {sceneId_2014}\")\n",
        "\n",
        "firstImage_2019 = collection_2019.first()\n",
        "sceneId_2019 = firstImage_2019.get('system:index').getInfo()\n",
        "print(f\"Scene ID for collection_2019: {sceneId_2019}\")\n",
        "\n",
        "firstImage_2024 = collection_2024.first()\n",
        "sceneId_2024 = firstImage_2024.get('system:index').getInfo()\n",
        "print(f\"Scene ID for collection_2024: {sceneId_2024}\")\n",
        "\n",
        "bandNames_2014 = composite_2014.bandNames().getInfo()\n",
        "print(f\"Band names: {bandNames_2014}\")\n",
        "\n",
        "bandNames_2019 = composite_2019.bandNames().getInfo()\n",
        "print(f\"Band names: {bandNames_2019}\")\n",
        "\n",
        "bandNames_2024 = composite_2024.bandNames().getInfo()\n",
        "print(f\"Band names: {bandNames_2024}\")"
      ],
      "cell_type": "code",
      "metadata": {
        "colab": {
          "base_uri": "https://localhost:8080/"
        },
        "id": "fHa1ZiPpdIil",
        "outputId": "b0559678-43e7-4be5-b43d-1d79370d411d"
      },
      "execution_count": null,
      "outputs": [
        {
          "output_type": "stream",
          "name": "stdout",
          "text": [
            "Scene ID for collection_2014: LC08_198055_20140104\n",
            "Scene ID for collection_2019: LC08_198055_20190102\n",
            "Scene ID for collection_2024: LC08_198055_20240116\n",
            "Band names: ['BLUE', 'GREEN', 'RED', 'NIR08', 'SWIR16', 'SWIR22', 'NDVI']\n",
            "Band names: ['BLUE', 'GREEN', 'RED', 'NIR08', 'SWIR16', 'SWIR22', 'NDVI']\n",
            "Band names: ['BLUE', 'GREEN', 'RED', 'NIR08', 'SWIR16', 'SWIR22', 'NDVI']\n"
          ]
        }
      ]
    },
    {
      "cell_type": "markdown",
      "source": [
        "### Export to Drive\n",
        "\n",
        "Caution, running the following chunk will export 12GB of duplicate rasters to a drive folder."
      ],
      "metadata": {
        "id": "Y_Nl_o3vGd3Z"
      }
    },
    {
      "source": [
        "from datetime import datetime\n",
        "\n",
        "# extract pathrow and date from scene ID\n",
        "def get_pathrow_date(image_collection):\n",
        "  first_image = image_collection.first()\n",
        "  scene_id = first_image.get('system:index').getInfo()\n",
        "  parts = scene_id.split('_')\n",
        "  pathrow = parts[1]\n",
        "  date_str = parts[2]\n",
        "  date_obj = datetime.strptime(date_str, '%Y%m%d')\n",
        "  date = date_obj.strftime('%Y-%m-%d')\n",
        "  return pathrow, date\n",
        "\n",
        "# define export parameters\n",
        "def define_export_params(image, pathrow, date, band_name):\n",
        "  description = f'composite_{date}_{band_name if isinstance(band_name, str) else \"RGB\"}_export'[:100]\n",
        "  return {\n",
        "    'image': image.select(band_name),\n",
        "    'description': description,\n",
        "    'folder': 'VT0007-deforestation-map',\n",
        "    'fileNamePrefix': f'LANDSAT_TM-ETM-OLI_{pathrow}_{band_name if isinstance(band_name, str) else \"RGB\"}_{date}',\n",
        "    'scale': 30,\n",
        "    'region': state.geometry(),\n",
        "    'maxPixels': 1e13,\n",
        "    'fileFormat': 'GeoTIFF',\n",
        "    'formatOptions': {'cloudOptimized': True}\n",
        "  }\n",
        "\n",
        "# get pathrow and date for each collection\n",
        "pathrow_2014, date_2014 = get_pathrow_date(collection_2014)\n",
        "pathrow_2019, date_2019 = get_pathrow_date(collection_2019)\n",
        "pathrow_2024, date_2024 = get_pathrow_date(collection_2024)\n",
        "\n",
        "# get band names\n",
        "bandNames_2014 = composite_2014.bandNames().getInfo()\n",
        "bandNames_2019 = composite_2019.bandNames().getInfo()\n",
        "bandNames_2024 = composite_2024.bandNames().getInfo()\n",
        "\n",
        "# export to cloud bucket\n",
        "for band_name in bandNames_2014:\n",
        "    export_params_2014 = define_export_params(composite_2014, pathrow_2014, date_2014, band_name)\n",
        "    task_2014 = ee.batch.Export.image.toDrive(**export_params_2014)\n",
        "    task_2014.start()\n",
        "    print(f\"Exporting 2014 image for band {band_name}. Task ID: {task_2014.id}\")\n",
        "\n",
        "for band_name in bandNames_2019:\n",
        "    export_params_2019 = define_export_params(composite_2019, pathrow_2019, date_2019, band_name)\n",
        "    task_2019 = ee.batch.Export.image.toDrive(**export_params_2019)\n",
        "    task_2019.start()\n",
        "    print(f\"Exporting 2019 image for band {band_name}. Task ID: {task_2019.id}\")\n",
        "\n",
        "for band_name in bandNames_2024:\n",
        "    export_params_2024 = define_export_params(composite_2024, pathrow_2024, date_2024, band_name)\n",
        "    task_2024 = ee.batch.Export.image.toDrive(**export_params_2024)\n",
        "    task_2024.start()\n",
        "    print(f\"Exporting 2024 image for band {band_name}. Task ID: {task_2024.id}\")\n",
        "\n",
        "export_params_2014_rgb = define_export_params(composite_2014, pathrow_2014, date_2014, ['RED', 'GREEN', 'BLUE'])\n",
        "export_params_2014_rgb['image'] = composite_2014.visualize(**rgbVis)\n",
        "task_2014_rgb = ee.batch.Export.image.toDrive(**export_params_2014_rgb)\n",
        "task_2014_rgb.start()\n",
        "print(f\"Exporting 2014 RGB image. Task ID: {task_2014_rgb.id}\")\n",
        "\n",
        "export_params_2019_rgb = define_export_params(composite_2019, pathrow_2019, date_2019, ['RED', 'GREEN', 'BLUE'])\n",
        "export_params_2019_rgb['image'] = composite_2019.visualize(**rgbVis)\n",
        "task_2019_rgb = ee.batch.Export.image.toDrive(**export_params_2019_rgb)\n",
        "task_2019_rgb.start()\n",
        "print(f\"Exporting 2019 RGB image. Task ID: {task_2019_rgb.id}\")\n",
        "\n",
        "export_params_2024_rgb['image'] = composite_2024.visualize(**rgbVis)\n",
        "task_2024_rgb = ee.batch.Export.image.toDrive(**export_params_2024_rgb)\n",
        "task_2024_rgb.start()\n",
        "print(f\"Exporting 2024 RGB image. Task ID: {task_2024_rgb.id}\")"
      ],
      "cell_type": "code",
      "metadata": {
        "colab": {
          "base_uri": "https://localhost:8080/"
        },
        "id": "DfcF8OJk7Tcz",
        "outputId": "b480106f-22b6-4232-8fb3-b11714e188cd"
      },
      "execution_count": null,
      "outputs": [
        {
          "output_type": "stream",
          "name": "stdout",
          "text": [
            "Exporting 2014 RGB image. Task ID: IIMNP6IZ4ALUYMXEILXGCRND\n"
          ]
        }
      ]
    },
    {
      "cell_type": "code",
      "source": [
        "session_info.show()"
      ],
      "metadata": {
        "colab": {
          "base_uri": "https://localhost:8080/",
          "height": 34
        },
        "id": "Y63WMj73ZiZW",
        "outputId": "5493c6bc-4e8e-480a-8671-a40435bbea97"
      },
      "execution_count": null,
      "outputs": [
        {
          "output_type": "execute_result",
          "data": {
            "text/plain": [
              "<IPython.core.display.HTML object>"
            ],
            "text/html": [
              "<details>\n",
              "<summary>Click to view session information</summary>\n",
              "<pre>\n",
              "-----\n",
              "backports           NA\n",
              "ee                  1.4.3\n",
              "geemap              0.16.4\n",
              "google              NA\n",
              "ipyleaflet          0.19.2\n",
              "numpy               1.26.4\n",
              "session_info        1.0.0\n",
              "-----\n",
              "</pre>\n",
              "<details>\n",
              "<summary>Click to view modules imported as dependencies</summary>\n",
              "<pre>\n",
              "OpenSSL                     24.2.1\n",
              "PIL                         11.0.0\n",
              "anyio                       NA\n",
              "arrow                       1.3.0\n",
              "attr                        24.3.0\n",
              "attrs                       24.3.0\n",
              "babel                       2.16.0\n",
              "backcall                    0.2.0\n",
              "bottleneck                  1.4.2\n",
              "box                         7.3.0\n",
              "bqplot                      0.12.43\n",
              "branca                      0.8.1\n",
              "cachetools                  5.5.0\n",
              "certifi                     2024.12.14\n",
              "chardet                     5.2.0\n",
              "charset_normalizer          3.4.0\n",
              "cloudpickle                 3.1.0\n",
              "cryptography                43.0.3\n",
              "cycler                      0.12.1\n",
              "cython_runtime              NA\n",
              "dateutil                    2.8.2\n",
              "debugpy                     1.8.0\n",
              "decorator                   4.4.2\n",
              "defusedxml                  0.7.1\n",
              "entrypoints                 0.4\n",
              "fastjsonschema              NA\n",
              "folium                      0.19.2\n",
              "fqdn                        NA\n",
              "gi                          3.42.1\n",
              "gio                         NA\n",
              "glib                        NA\n",
              "gobject                     NA\n",
              "google_auth_httplib2        NA\n",
              "googleapiclient             NA\n",
              "gtk                         NA\n",
              "httplib2                    0.22.0\n",
              "idna                        3.10\n",
              "importlib_metadata          NA\n",
              "ipyevents                   2.0.1\n",
              "ipyfilechooser              0.6.0\n",
              "ipykernel                   5.5.6\n",
              "ipyparallel                 8.8.0\n",
              "ipython_genutils            0.2.0\n",
              "ipytree                     0.2.2\n",
              "ipywidgets                  7.7.1\n",
              "isoduration                 NA\n",
              "jaraco                      NA\n",
              "jinja2                      3.1.4\n",
              "json5                       0.10.0\n",
              "jsonpointer                 3.0.0\n",
              "jsonschema                  4.23.0\n",
              "jsonschema_specifications   NA\n",
              "jupyter_events              0.11.0\n",
              "jupyter_server              2.15.0\n",
              "jupyterlab_server           2.27.3\n",
              "kiwisolver                  1.4.7\n",
              "markupsafe                  3.0.2\n",
              "matplotlib                  3.8.0\n",
              "matplotlib_inline           0.1.7\n",
              "more_itertools              10.5.0\n",
              "mpl_toolkits                NA\n",
              "msgpack                     1.1.0\n",
              "nbformat                    5.10.4\n",
              "numexpr                     2.10.2\n",
              "oauth2client                4.1.3\n",
              "overrides                   NA\n",
              "packaging                   24.2\n",
              "pandas                      2.2.2\n",
              "pexpect                     4.9.0\n",
              "pickleshare                 0.7.5\n",
              "pkg_resources               NA\n",
              "platformdirs                4.3.6\n",
              "portpicker                  NA\n",
              "prometheus_client           NA\n",
              "prompt_toolkit              3.0.48\n",
              "psutil                      5.9.5\n",
              "ptyprocess                  0.7.0\n",
              "pyarrow                     17.0.0\n",
              "pyasn1                      0.6.1\n",
              "pyasn1_modules              0.4.1\n",
              "pydev_ipython               NA\n",
              "pydevconsole                NA\n",
              "pydevd                      2.9.5\n",
              "pydevd_file_utils           NA\n",
              "pydevd_plugins              NA\n",
              "pydevd_tracing              NA\n",
              "pygments                    2.18.0\n",
              "pyparsing                   3.2.0\n",
              "pythonjsonlogger            NA\n",
              "pytz                        2024.2\n",
              "referencing                 NA\n",
              "requests                    2.32.3\n",
              "rfc3339_validator           0.1.4\n",
              "rfc3986_validator           0.1.1\n",
              "rpds                        NA\n",
              "rsa                         4.9\n",
              "scooby                      0.10.0\n",
              "send2trash                  NA\n",
              "setuptools                  75.1.0\n",
              "sitecustomize               NA\n",
              "six                         1.17.0\n",
              "sniffio                     1.3.1\n",
              "socks                       1.7.1\n",
              "sphinxcontrib               NA\n",
              "storemagic                  NA\n",
              "toml                        0.10.2\n",
              "tomli                       2.2.1\n",
              "tornado                     6.3.3\n",
              "traitlets                   5.7.1\n",
              "traittypes                  0.2.1\n",
              "uri_template                NA\n",
              "uritemplate                 4.1.1\n",
              "urllib3                     2.2.3\n",
              "wcwidth                     0.2.13\n",
              "webcolors                   NA\n",
              "websocket                   1.8.0\n",
              "xyzservices                 2024.9.0\n",
              "yaml                        6.0.2\n",
              "zipp                        NA\n",
              "zmq                         24.0.1\n",
              "zoneinfo                    NA\n",
              "</pre>\n",
              "</details> <!-- seems like this ends pre, so might as well be explicit -->\n",
              "<pre>\n",
              "-----\n",
              "IPython             7.34.0\n",
              "jupyter_client      6.1.12\n",
              "jupyter_core        5.7.2\n",
              "jupyterlab          4.3.4\n",
              "notebook            6.5.5\n",
              "-----\n",
              "Python 3.10.12 (main, Nov  6 2024, 20:22:13) [GCC 11.4.0]\n",
              "Linux-6.1.85+-x86_64-with-glibc2.35\n",
              "-----\n",
              "Session information updated at 2024-12-29 13:58\n",
              "</pre>\n",
              "</details>"
            ]
          },
          "metadata": {},
          "execution_count": 13
        }
      ]
    }
  ]
}