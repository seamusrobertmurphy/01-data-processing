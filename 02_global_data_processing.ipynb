{
  "nbformat": 4,
  "nbformat_minor": 0,
  "metadata": {
    "colab": {
      "provenance": [],
      "mount_file_id": "1SmaweeXLIpQSX_APUM1IeBLt8teN0YfC",
      "authorship_tag": "ABX9TyOJy6+j2dqY6+bablvBUl5J",
      "include_colab_link": true
    },
    "kernelspec": {
      "name": "python3",
      "display_name": "Python 3"
    },
    "language_info": {
      "name": "python"
    },
    "widgets": {
      "application/vnd.jupyter.widget-state+json": {
        "ad5a84b3292742a59069f0f7af747f74": {
          "model_module": "jupyter-leaflet",
          "model_name": "LeafletMapModel",
          "model_module_version": "^0.19",
          "state": {
            "_dom_classes": [],
            "_model_module": "jupyter-leaflet",
            "_model_module_version": "^0.19",
            "_model_name": "LeafletMapModel",
            "_view_count": null,
            "_view_module": "jupyter-leaflet",
            "_view_module_version": "^0.19",
            "_view_name": "LeafletMapView",
            "bottom": 31943,
            "bounce_at_zoom_limits": true,
            "box_zoom": true,
            "center": [
              6.167881276950619,
              -9.06524451304243
            ],
            "close_popup_on_click": true,
            "controls": [
              "IPY_MODEL_c756f17293624e65bd6b6c9057bb30a3",
              "IPY_MODEL_5b13ef5b70114a6db3168bb8b1548718",
              "IPY_MODEL_7d5443a797d54d0c8c7447116a84d327",
              "IPY_MODEL_75597cfd5d72470eb6a077be57ecb445",
              "IPY_MODEL_6844b2a98ca2462ab19238cdaf1382b8",
              "IPY_MODEL_9a5fa91fbd7f45f2af7078048d9ee5f2",
              "IPY_MODEL_a87801df50054398bfd77f6a5ae342c1",
              "IPY_MODEL_8e82a4963d56486b8b0409874c1a95a9"
            ],
            "crs": {
              "name": "EPSG3857",
              "custom": false
            },
            "default_style": "IPY_MODEL_567a34ab544b4e5ea8fdd7bb8806bc66",
            "double_click_zoom": true,
            "dragging": true,
            "dragging_style": "IPY_MODEL_d934d15e91e44b12b9e04ee4e5b4bdb8",
            "east": -6.608276367187501,
            "fullscreen": false,
            "inertia": true,
            "inertia_deceleration": 3000,
            "inertia_max_speed": 1500,
            "interpolation": "bilinear",
            "keyboard": true,
            "keyboard_pan_offset": 80,
            "keyboard_zoom_offset": 1,
            "layers": [
              "IPY_MODEL_b8fd77f4dd284f4f8dca64f99200fb1d",
              "IPY_MODEL_3907d836b3ca46178a1aadb55643a236",
              "IPY_MODEL_1be32bde82d444b6ae7fbd5365f63a0c",
              "IPY_MODEL_7aba77355f254dcda84e1e031d338cd1",
              "IPY_MODEL_93011991cc62454084be06378acdedc3",
              "IPY_MODEL_67e5fdacc7a748e480bebef5a266ce07",
              "IPY_MODEL_48878f072c6f42e1b504dd4cfde8e2b8"
            ],
            "layout": "IPY_MODEL_2dd31e089d174513809b2b74c2ab3ecc",
            "left": 30670,
            "max_zoom": 24,
            "min_zoom": null,
            "modisdate": "2025-01-24",
            "north": 7.8035208613796225,
            "options": [
              "bounce_at_zoom_limits",
              "box_zoom",
              "center",
              "close_popup_on_click",
              "double_click_zoom",
              "dragging",
              "fullscreen",
              "inertia",
              "inertia_deceleration",
              "inertia_max_speed",
              "interpolation",
              "keyboard",
              "keyboard_pan_offset",
              "keyboard_zoom_offset",
              "max_zoom",
              "min_zoom",
              "prefer_canvas",
              "scroll_wheel_zoom",
              "tap",
              "tap_tolerance",
              "touch_zoom",
              "world_copy_jump",
              "zoom",
              "zoom_animation_threshold",
              "zoom_delta",
              "zoom_snap"
            ],
            "panes": {},
            "prefer_canvas": false,
            "right": 31565,
            "scroll_wheel_zoom": true,
            "south": 4.527142389013066,
            "style": "IPY_MODEL_567a34ab544b4e5ea8fdd7bb8806bc66",
            "tap": true,
            "tap_tolerance": 15,
            "top": 31343,
            "touch_zoom": true,
            "west": -11.524658203125002,
            "window_url": "https://i4gupzig9js-496ff2e9c6d22116-0-colab.googleusercontent.com/outputframe.html?vrz=colab_20250123-060139_RC00_718795096",
            "world_copy_jump": false,
            "zoom": 8,
            "zoom_animation_threshold": 4,
            "zoom_delta": 1,
            "zoom_snap": 1
          }
        },
        "c756f17293624e65bd6b6c9057bb30a3": {
          "model_module": "jupyter-leaflet",
          "model_name": "LeafletWidgetControlModel",
          "model_module_version": "^0.19",
          "state": {
            "_model_module": "jupyter-leaflet",
            "_model_module_version": "^0.19",
            "_model_name": "LeafletWidgetControlModel",
            "_view_count": null,
            "_view_module": "jupyter-leaflet",
            "_view_module_version": "^0.19",
            "_view_name": "LeafletWidgetControlView",
            "max_height": null,
            "max_width": null,
            "min_height": null,
            "min_width": null,
            "options": [
              "position",
              "transparent_bg"
            ],
            "position": "topleft",
            "transparent_bg": false,
            "widget": "IPY_MODEL_1fde9994896e46b9860c62c463545f0f"
          }
        },
        "5b13ef5b70114a6db3168bb8b1548718": {
          "model_module": "jupyter-leaflet",
          "model_name": "LeafletZoomControlModel",
          "model_module_version": "^0.19",
          "state": {
            "_model_module": "jupyter-leaflet",
            "_model_module_version": "^0.19",
            "_model_name": "LeafletZoomControlModel",
            "_view_count": null,
            "_view_module": "jupyter-leaflet",
            "_view_module_version": "^0.19",
            "_view_name": "LeafletZoomControlView",
            "options": [
              "position",
              "zoom_in_text",
              "zoom_in_title",
              "zoom_out_text",
              "zoom_out_title"
            ],
            "position": "topleft",
            "zoom_in_text": "+",
            "zoom_in_title": "Zoom in",
            "zoom_out_text": "-",
            "zoom_out_title": "Zoom out"
          }
        },
        "7d5443a797d54d0c8c7447116a84d327": {
          "model_module": "jupyter-leaflet",
          "model_name": "LeafletScaleControlModel",
          "model_module_version": "^0.19",
          "state": {
            "_model_module": "jupyter-leaflet",
            "_model_module_version": "^0.19",
            "_model_name": "LeafletScaleControlModel",
            "_view_count": null,
            "_view_module": "jupyter-leaflet",
            "_view_module_version": "^0.19",
            "_view_name": "LeafletScaleControlView",
            "imperial": true,
            "max_width": 100,
            "metric": true,
            "options": [
              "imperial",
              "max_width",
              "metric",
              "position",
              "update_when_idle"
            ],
            "position": "bottomleft",
            "update_when_idle": false
          }
        },
        "75597cfd5d72470eb6a077be57ecb445": {
          "model_module": "jupyter-leaflet",
          "model_name": "LeafletFullScreenControlModel",
          "model_module_version": "^0.19",
          "state": {
            "_model_module": "jupyter-leaflet",
            "_model_module_version": "^0.19",
            "_model_name": "LeafletFullScreenControlModel",
            "_view_count": null,
            "_view_module": "jupyter-leaflet",
            "_view_module_version": "^0.19",
            "_view_name": "LeafletFullScreenControlView",
            "options": [
              "position"
            ],
            "position": "topleft"
          }
        },
        "6844b2a98ca2462ab19238cdaf1382b8": {
          "model_module": "jupyter-leaflet",
          "model_name": "LeafletMeasureControlModel",
          "model_module_version": "^0.19",
          "state": {
            "_custom_units": {},
            "_model_module": "jupyter-leaflet",
            "_model_module_version": "^0.19",
            "_model_name": "LeafletMeasureControlModel",
            "_view_count": null,
            "_view_module": "jupyter-leaflet",
            "_view_module_version": "^0.19",
            "_view_name": "LeafletMeasureControlView",
            "active_color": "orange",
            "capture_z_index": 10000,
            "completed_color": "#C8F2BE",
            "options": [
              "active_color",
              "capture_z_index",
              "completed_color",
              "popup_options",
              "position",
              "primary_area_unit",
              "primary_length_unit",
              "secondary_area_unit",
              "secondary_length_unit"
            ],
            "popup_options": {
              "className": "leaflet-measure-resultpopup",
              "autoPanPadding": [
                10,
                10
              ]
            },
            "position": "bottomleft",
            "primary_area_unit": "acres",
            "primary_length_unit": "kilometers",
            "secondary_area_unit": null,
            "secondary_length_unit": null
          }
        },
        "9a5fa91fbd7f45f2af7078048d9ee5f2": {
          "model_module": "jupyter-leaflet",
          "model_name": "LeafletAttributionControlModel",
          "model_module_version": "^0.19",
          "state": {
            "_model_module": "jupyter-leaflet",
            "_model_module_version": "^0.19",
            "_model_name": "LeafletAttributionControlModel",
            "_view_count": null,
            "_view_module": "jupyter-leaflet",
            "_view_module_version": "^0.19",
            "_view_name": "LeafletAttributionControlView",
            "options": [
              "position",
              "prefix"
            ],
            "position": "bottomright",
            "prefix": "ipyleaflet"
          }
        },
        "a87801df50054398bfd77f6a5ae342c1": {
          "model_module": "jupyter-leaflet",
          "model_name": "LeafletDrawControlModel",
          "model_module_version": "^0.19",
          "state": {
            "_model_module": "jupyter-leaflet",
            "_model_module_version": "^0.19",
            "_model_name": "LeafletDrawControlModel",
            "_view_count": null,
            "_view_module": "jupyter-leaflet",
            "_view_module_version": "^0.19",
            "_view_name": "LeafletDrawControlView",
            "circle": {
              "shapeOptions": {
                "color": "#3388ff"
              }
            },
            "circlemarker": {},
            "data": [],
            "edit": true,
            "marker": {
              "shapeOptions": {
                "color": "#3388ff"
              }
            },
            "options": [
              "position"
            ],
            "polygon": {
              "shapeOptions": {}
            },
            "polyline": {
              "shapeOptions": {}
            },
            "position": "topleft",
            "rectangle": {
              "shapeOptions": {
                "color": "#3388ff"
              }
            },
            "remove": true
          }
        },
        "8e82a4963d56486b8b0409874c1a95a9": {
          "model_module": "jupyter-leaflet",
          "model_name": "LeafletWidgetControlModel",
          "model_module_version": "^0.19",
          "state": {
            "_model_module": "jupyter-leaflet",
            "_model_module_version": "^0.19",
            "_model_name": "LeafletWidgetControlModel",
            "_view_count": null,
            "_view_module": "jupyter-leaflet",
            "_view_module_version": "^0.19",
            "_view_name": "LeafletWidgetControlView",
            "max_height": null,
            "max_width": null,
            "min_height": null,
            "min_width": null,
            "options": [
              "position",
              "transparent_bg"
            ],
            "position": "topright",
            "transparent_bg": false,
            "widget": "IPY_MODEL_58c39c2db7ad4a8abb4db7a82ec45c06"
          }
        },
        "567a34ab544b4e5ea8fdd7bb8806bc66": {
          "model_module": "jupyter-leaflet",
          "model_name": "LeafletMapStyleModel",
          "model_module_version": "^0.19",
          "state": {
            "_model_module": "jupyter-leaflet",
            "_model_module_version": "^0.19",
            "_model_name": "LeafletMapStyleModel",
            "_view_count": null,
            "_view_module": "@jupyter-widgets/base",
            "_view_module_version": "1.2.0",
            "_view_name": "StyleView",
            "cursor": "grab"
          }
        },
        "d934d15e91e44b12b9e04ee4e5b4bdb8": {
          "model_module": "jupyter-leaflet",
          "model_name": "LeafletMapStyleModel",
          "model_module_version": "^0.19",
          "state": {
            "_model_module": "jupyter-leaflet",
            "_model_module_version": "^0.19",
            "_model_name": "LeafletMapStyleModel",
            "_view_count": null,
            "_view_module": "@jupyter-widgets/base",
            "_view_module_version": "1.2.0",
            "_view_name": "StyleView",
            "cursor": "move"
          }
        },
        "b8fd77f4dd284f4f8dca64f99200fb1d": {
          "model_module": "jupyter-leaflet",
          "model_name": "LeafletTileLayerModel",
          "model_module_version": "^0.19",
          "state": {
            "_model_module": "jupyter-leaflet",
            "_model_module_version": "^0.19",
            "_model_name": "LeafletTileLayerModel",
            "_view_count": null,
            "_view_module": "jupyter-leaflet",
            "_view_module_version": "^0.19",
            "_view_name": "LeafletTileLayerView",
            "attribution": "&copy; <a href=\"https://www.openstreetmap.org/copyright\">OpenStreetMap</a> contributors",
            "base": true,
            "bottom": true,
            "bounds": null,
            "detect_retina": false,
            "loading": false,
            "max_native_zoom": null,
            "max_zoom": 19,
            "min_native_zoom": null,
            "min_zoom": 1,
            "name": "OpenStreetMap.Mapnik",
            "no_wrap": false,
            "opacity": 1,
            "options": [
              "attribution",
              "bounds",
              "detect_retina",
              "max_native_zoom",
              "max_zoom",
              "min_native_zoom",
              "min_zoom",
              "no_wrap",
              "tile_size",
              "tms",
              "zoom_offset"
            ],
            "pane": "",
            "popup": null,
            "popup_max_height": null,
            "popup_max_width": 300,
            "popup_min_width": 50,
            "show_loading": false,
            "subitems": [],
            "tile_size": 256,
            "tms": false,
            "url": "https://tile.openstreetmap.org/{z}/{x}/{y}.png",
            "visible": true,
            "zoom_offset": 0
          }
        },
        "3907d836b3ca46178a1aadb55643a236": {
          "model_module": "jupyter-leaflet",
          "model_name": "LeafletTileLayerModel",
          "model_module_version": "^0.19",
          "state": {
            "_model_module": "jupyter-leaflet",
            "_model_module_version": "^0.19",
            "_model_name": "LeafletTileLayerModel",
            "_view_count": null,
            "_view_module": "jupyter-leaflet",
            "_view_module_version": "^0.19",
            "_view_name": "LeafletTileLayerView",
            "attribution": "Google",
            "base": false,
            "bottom": true,
            "bounds": null,
            "detect_retina": false,
            "loading": false,
            "max_native_zoom": null,
            "max_zoom": 22,
            "min_native_zoom": null,
            "min_zoom": 0,
            "name": "Google Maps",
            "no_wrap": false,
            "opacity": 1,
            "options": [
              "attribution",
              "bounds",
              "detect_retina",
              "max_native_zoom",
              "max_zoom",
              "min_native_zoom",
              "min_zoom",
              "no_wrap",
              "tile_size",
              "tms",
              "zoom_offset"
            ],
            "pane": "",
            "popup": null,
            "popup_max_height": null,
            "popup_max_width": 300,
            "popup_min_width": 50,
            "show_loading": false,
            "subitems": [],
            "tile_size": 256,
            "tms": false,
            "url": "https://mt1.google.com/vt/lyrs=m&x={x}&y={y}&z={z}",
            "visible": true,
            "zoom_offset": 0
          }
        },
        "1be32bde82d444b6ae7fbd5365f63a0c": {
          "model_module": "jupyter-leaflet",
          "model_name": "LeafletTileLayerModel",
          "model_module_version": "^0.19",
          "state": {
            "_model_module": "jupyter-leaflet",
            "_model_module_version": "^0.19",
            "_model_name": "LeafletTileLayerModel",
            "_view_count": null,
            "_view_module": "jupyter-leaflet",
            "_view_module_version": "^0.19",
            "_view_name": "LeafletTileLayerView",
            "attribution": "Tiles (C) Esri -- Source: Esri, i-cubed, USDA, USGS, AEX, GeoEye, Getmapping, Aerogrid, IGN, IGP, UPR-EGP, and the GIS User Community",
            "base": false,
            "bottom": true,
            "bounds": null,
            "detect_retina": false,
            "loading": false,
            "max_native_zoom": null,
            "max_zoom": 22,
            "min_native_zoom": null,
            "min_zoom": 0,
            "name": "Esri.WorldImagery",
            "no_wrap": false,
            "opacity": 1,
            "options": [
              "attribution",
              "bounds",
              "detect_retina",
              "max_native_zoom",
              "max_zoom",
              "min_native_zoom",
              "min_zoom",
              "no_wrap",
              "tile_size",
              "tms",
              "zoom_offset"
            ],
            "pane": "",
            "popup": null,
            "popup_max_height": null,
            "popup_max_width": 300,
            "popup_min_width": 50,
            "show_loading": false,
            "subitems": [],
            "tile_size": 256,
            "tms": false,
            "url": "https://server.arcgisonline.com/ArcGIS/rest/services/World_Imagery/MapServer/tile/{z}/{y}/{x}",
            "visible": true,
            "zoom_offset": 0
          }
        },
        "7aba77355f254dcda84e1e031d338cd1": {
          "model_module": "jupyter-leaflet",
          "model_name": "LeafletTileLayerModel",
          "model_module_version": "^0.19",
          "state": {
            "_model_module": "jupyter-leaflet",
            "_model_module_version": "^0.19",
            "_model_name": "LeafletTileLayerModel",
            "_view_count": null,
            "_view_module": "jupyter-leaflet",
            "_view_module_version": "^0.19",
            "_view_name": "LeafletTileLayerView",
            "attribution": "Google Earth Engine",
            "base": false,
            "bottom": true,
            "bounds": null,
            "detect_retina": false,
            "loading": false,
            "max_native_zoom": null,
            "max_zoom": 24,
            "min_native_zoom": null,
            "min_zoom": 0,
            "name": "Country",
            "no_wrap": false,
            "opacity": 1,
            "options": [
              "attribution",
              "bounds",
              "detect_retina",
              "max_native_zoom",
              "max_zoom",
              "min_native_zoom",
              "min_zoom",
              "no_wrap",
              "tile_size",
              "tms",
              "zoom_offset"
            ],
            "pane": "",
            "popup": null,
            "popup_max_height": null,
            "popup_max_width": 300,
            "popup_min_width": 50,
            "show_loading": false,
            "subitems": [],
            "tile_size": 256,
            "tms": false,
            "url": "https://earthengine.googleapis.com/v1/projects/murphys-deforisk/maps/b4bd36c8685a243f394bc3f69e0d96f6-73d7566ef2e8162eecf4e86f50ab2dd5/tiles/{z}/{x}/{y}",
            "visible": true,
            "zoom_offset": 0
          }
        },
        "93011991cc62454084be06378acdedc3": {
          "model_module": "jupyter-leaflet",
          "model_name": "LeafletTileLayerModel",
          "model_module_version": "^0.19",
          "state": {
            "_model_module": "jupyter-leaflet",
            "_model_module_version": "^0.19",
            "_model_name": "LeafletTileLayerModel",
            "_view_count": null,
            "_view_module": "jupyter-leaflet",
            "_view_module_version": "^0.19",
            "_view_name": "LeafletTileLayerView",
            "attribution": "Google Earth Engine",
            "base": false,
            "bottom": true,
            "bounds": null,
            "detect_retina": false,
            "loading": false,
            "max_native_zoom": null,
            "max_zoom": 24,
            "min_native_zoom": null,
            "min_zoom": 0,
            "name": "States",
            "no_wrap": false,
            "opacity": 1,
            "options": [
              "attribution",
              "bounds",
              "detect_retina",
              "max_native_zoom",
              "max_zoom",
              "min_native_zoom",
              "min_zoom",
              "no_wrap",
              "tile_size",
              "tms",
              "zoom_offset"
            ],
            "pane": "",
            "popup": null,
            "popup_max_height": null,
            "popup_max_width": 300,
            "popup_min_width": 50,
            "show_loading": false,
            "subitems": [],
            "tile_size": 256,
            "tms": false,
            "url": "https://earthengine.googleapis.com/v1/projects/murphys-deforisk/maps/b4bd36c8685a243f394bc3f69e0d96f6-ed9fb26315cfec2da3644e0ba90ed4b9/tiles/{z}/{x}/{y}",
            "visible": true,
            "zoom_offset": 0
          }
        },
        "67e5fdacc7a748e480bebef5a266ce07": {
          "model_module": "jupyter-leaflet",
          "model_name": "LeafletLayerGroupModel",
          "model_module_version": "^0.19",
          "state": {
            "_model_module": "jupyter-leaflet",
            "_model_module_version": "^0.19",
            "_model_name": "LeafletLayerGroupModel",
            "_view_count": null,
            "_view_module": "jupyter-leaflet",
            "_view_module_version": "^0.19",
            "_view_name": "LeafletLayerGroupView",
            "base": false,
            "bottom": false,
            "layers": [
              "IPY_MODEL_be1a2fcbea1741e6ab56b395036fb027",
              "IPY_MODEL_729ae2ac6bb54470b5ff3e871b33d1bc",
              "IPY_MODEL_13aa1b0ec2c14a62b40f72d67d3e5880",
              "IPY_MODEL_b01ef67faa8749d4a59dc5e930f76998",
              "IPY_MODEL_9378b6da6f8046a18f6d8e0fdc0bd375",
              "IPY_MODEL_dd8cf74335f544e891bf0b1a96c113b3",
              "IPY_MODEL_7ab99f36a2294b7bb92090aed8ec0a6b",
              "IPY_MODEL_43be806bd8664a678699667ceda3bc1e",
              "IPY_MODEL_1a6dbd7abc9246e98316f5b7331a0512",
              "IPY_MODEL_ccb0d9c2d0f44d55a6ddbad78e899fd5",
              "IPY_MODEL_41d11c9eb7f745f7be789b14cf895f8f",
              "IPY_MODEL_81968b020c5445ab8b88dcb12a7cac4a",
              "IPY_MODEL_14f6d4d99d584901a7688a2df659bba2",
              "IPY_MODEL_0df519f843104aac92172be2d59ae509",
              "IPY_MODEL_0d585525be8446a9aaaca2898a89e442"
            ],
            "name": "Labels",
            "options": [],
            "pane": "",
            "popup": null,
            "popup_max_height": null,
            "popup_max_width": 300,
            "popup_min_width": 50,
            "subitems": []
          }
        },
        "48878f072c6f42e1b504dd4cfde8e2b8": {
          "model_module": "jupyter-leaflet",
          "model_name": "LeafletLayerGroupModel",
          "model_module_version": "^0.19",
          "state": {
            "_model_module": "jupyter-leaflet",
            "_model_module_version": "^0.19",
            "_model_name": "LeafletLayerGroupModel",
            "_view_count": null,
            "_view_module": "jupyter-leaflet",
            "_view_module_version": "^0.19",
            "_view_name": "LeafletLayerGroupView",
            "base": false,
            "bottom": false,
            "layers": [
              "IPY_MODEL_8977f673663e412cbb5427297b451836"
            ],
            "name": "Labels",
            "options": [],
            "pane": "",
            "popup": null,
            "popup_max_height": null,
            "popup_max_width": 300,
            "popup_min_width": 50,
            "subitems": []
          }
        },
        "2dd31e089d174513809b2b74c2ab3ecc": {
          "model_module": "@jupyter-widgets/base",
          "model_name": "LayoutModel",
          "model_module_version": "1.2.0",
          "state": {
            "_model_module": "@jupyter-widgets/base",
            "_model_module_version": "1.2.0",
            "_model_name": "LayoutModel",
            "_view_count": null,
            "_view_module": "@jupyter-widgets/base",
            "_view_module_version": "1.2.0",
            "_view_name": "LayoutView",
            "align_content": null,
            "align_items": null,
            "align_self": null,
            "border": null,
            "bottom": null,
            "display": null,
            "flex": null,
            "flex_flow": null,
            "grid_area": null,
            "grid_auto_columns": null,
            "grid_auto_flow": null,
            "grid_auto_rows": null,
            "grid_column": null,
            "grid_gap": null,
            "grid_row": null,
            "grid_template_areas": null,
            "grid_template_columns": null,
            "grid_template_rows": null,
            "height": "600px",
            "justify_content": null,
            "justify_items": null,
            "left": null,
            "margin": null,
            "max_height": null,
            "max_width": null,
            "min_height": null,
            "min_width": null,
            "object_fit": null,
            "object_position": null,
            "order": null,
            "overflow": null,
            "overflow_x": null,
            "overflow_y": null,
            "padding": null,
            "right": null,
            "top": null,
            "visibility": null,
            "width": null
          }
        },
        "e40acad1471a411983db568fad7c9f42": {
          "model_module": "jupyter-leaflet",
          "model_name": "LeafletMapStyleModel",
          "model_module_version": "^0.19",
          "state": {
            "_model_module": "jupyter-leaflet",
            "_model_module_version": "^0.19",
            "_model_name": "LeafletMapStyleModel",
            "_view_count": null,
            "_view_module": "@jupyter-widgets/base",
            "_view_module_version": "1.2.0",
            "_view_name": "StyleView",
            "cursor": "grab"
          }
        },
        "1fde9994896e46b9860c62c463545f0f": {
          "model_module": "@jupyter-widgets/controls",
          "model_name": "HBoxModel",
          "model_module_version": "1.5.0",
          "state": {
            "_dom_classes": [],
            "_model_module": "@jupyter-widgets/controls",
            "_model_module_version": "1.5.0",
            "_model_name": "HBoxModel",
            "_view_count": null,
            "_view_module": "@jupyter-widgets/controls",
            "_view_module_version": "1.5.0",
            "_view_name": "HBoxView",
            "box_style": "",
            "children": [
              "IPY_MODEL_b45f2b95faa24bf7972f1d9756042e1d"
            ],
            "layout": "IPY_MODEL_a0154569fa1048cf987be37a835d6dbf"
          }
        },
        "58c39c2db7ad4a8abb4db7a82ec45c06": {
          "model_module": "@jupyter-widgets/controls",
          "model_name": "VBoxModel",
          "model_module_version": "1.5.0",
          "state": {
            "_dom_classes": [],
            "_model_module": "@jupyter-widgets/controls",
            "_model_module_version": "1.5.0",
            "_model_name": "VBoxModel",
            "_view_count": null,
            "_view_module": "@jupyter-widgets/controls",
            "_view_module_version": "1.5.0",
            "_view_name": "VBoxView",
            "box_style": "",
            "children": [
              "IPY_MODEL_a9c34985d19941159395ca845733085d"
            ],
            "layout": "IPY_MODEL_445cd9a4f1ba48c183b26435f424dff0"
          }
        },
        "be1a2fcbea1741e6ab56b395036fb027": {
          "model_module": "jupyter-leaflet",
          "model_name": "LeafletMarkerModel",
          "model_module_version": "^0.19",
          "state": {
            "_model_module": "jupyter-leaflet",
            "_model_module_version": "^0.19",
            "_model_name": "LeafletMarkerModel",
            "_view_count": null,
            "_view_module": "jupyter-leaflet",
            "_view_module_version": "^0.19",
            "_view_name": "LeafletMarkerView",
            "alt": "",
            "base": false,
            "bottom": false,
            "draggable": true,
            "icon": "IPY_MODEL_94b8d15743f542d9af2acca93255f0e8",
            "keyboard": true,
            "location": [
              5.937995571598143,
              -8.220682978492977
            ],
            "name": "",
            "opacity": 1,
            "options": [
              "alt",
              "draggable",
              "keyboard",
              "rise_offset",
              "rise_on_hover",
              "rotation_angle",
              "rotation_origin",
              "title",
              "z_index_offset"
            ],
            "pane": "",
            "popup": null,
            "popup_max_height": null,
            "popup_max_width": 300,
            "popup_min_width": 50,
            "rise_offset": 250,
            "rise_on_hover": false,
            "rotation_angle": 0,
            "rotation_origin": "",
            "subitems": [],
            "title": "",
            "visible": true,
            "z_index_offset": 0
          }
        },
        "729ae2ac6bb54470b5ff3e871b33d1bc": {
          "model_module": "jupyter-leaflet",
          "model_name": "LeafletMarkerModel",
          "model_module_version": "^0.19",
          "state": {
            "_model_module": "jupyter-leaflet",
            "_model_module_version": "^0.19",
            "_model_name": "LeafletMarkerModel",
            "_view_count": null,
            "_view_module": "jupyter-leaflet",
            "_view_module_version": "^0.19",
            "_view_name": "LeafletMarkerView",
            "alt": "",
            "base": false,
            "bottom": false,
            "draggable": true,
            "icon": "IPY_MODEL_eda4073996cf44bea9afadbca9dbf9f1",
            "keyboard": true,
            "location": [
              5.276660866454746,
              -7.800788732849215
            ],
            "name": "",
            "opacity": 1,
            "options": [
              "alt",
              "draggable",
              "keyboard",
              "rise_offset",
              "rise_on_hover",
              "rotation_angle",
              "rotation_origin",
              "title",
              "z_index_offset"
            ],
            "pane": "",
            "popup": null,
            "popup_max_height": null,
            "popup_max_width": 300,
            "popup_min_width": 50,
            "rise_offset": 250,
            "rise_on_hover": false,
            "rotation_angle": 0,
            "rotation_origin": "",
            "subitems": [],
            "title": "",
            "visible": true,
            "z_index_offset": 0
          }
        },
        "13aa1b0ec2c14a62b40f72d67d3e5880": {
          "model_module": "jupyter-leaflet",
          "model_name": "LeafletMarkerModel",
          "model_module_version": "^0.19",
          "state": {
            "_model_module": "jupyter-leaflet",
            "_model_module_version": "^0.19",
            "_model_name": "LeafletMarkerModel",
            "_view_count": null,
            "_view_module": "jupyter-leaflet",
            "_view_module_version": "^0.19",
            "_view_name": "LeafletMarkerView",
            "alt": "",
            "base": false,
            "bottom": false,
            "draggable": true,
            "icon": "IPY_MODEL_d3961cac7b6f45be828f9df620202642",
            "keyboard": true,
            "location": [
              7.418294013407644,
              -10.310221743234735
            ],
            "name": "",
            "opacity": 1,
            "options": [
              "alt",
              "draggable",
              "keyboard",
              "rise_offset",
              "rise_on_hover",
              "rotation_angle",
              "rotation_origin",
              "title",
              "z_index_offset"
            ],
            "pane": "",
            "popup": null,
            "popup_max_height": null,
            "popup_max_width": 300,
            "popup_min_width": 50,
            "rise_offset": 250,
            "rise_on_hover": false,
            "rotation_angle": 0,
            "rotation_origin": "",
            "subitems": [],
            "title": "",
            "visible": true,
            "z_index_offset": 0
          }
        },
        "b01ef67faa8749d4a59dc5e930f76998": {
          "model_module": "jupyter-leaflet",
          "model_name": "LeafletMarkerModel",
          "model_module_version": "^0.19",
          "state": {
            "_model_module": "jupyter-leaflet",
            "_model_module_version": "^0.19",
            "_model_name": "LeafletMarkerModel",
            "_view_count": null,
            "_view_module": "jupyter-leaflet",
            "_view_module_version": "^0.19",
            "_view_name": "LeafletMarkerView",
            "alt": "",
            "base": false,
            "bottom": false,
            "draggable": true,
            "icon": "IPY_MODEL_b42276fa629a4837aecd80004732464f",
            "keyboard": true,
            "location": [
              7.992037008213037,
              -9.85570418350325
            ],
            "name": "",
            "opacity": 1,
            "options": [
              "alt",
              "draggable",
              "keyboard",
              "rise_offset",
              "rise_on_hover",
              "rotation_angle",
              "rotation_origin",
              "title",
              "z_index_offset"
            ],
            "pane": "",
            "popup": null,
            "popup_max_height": null,
            "popup_max_width": 300,
            "popup_min_width": 50,
            "rise_offset": 250,
            "rise_on_hover": false,
            "rotation_angle": 0,
            "rotation_origin": "",
            "subitems": [],
            "title": "",
            "visible": true,
            "z_index_offset": 0
          }
        },
        "9378b6da6f8046a18f6d8e0fdc0bd375": {
          "model_module": "jupyter-leaflet",
          "model_name": "LeafletMarkerModel",
          "model_module_version": "^0.19",
          "state": {
            "_model_module": "jupyter-leaflet",
            "_model_module_version": "^0.19",
            "_model_name": "LeafletMarkerModel",
            "_view_count": null,
            "_view_module": "jupyter-leaflet",
            "_view_module_version": "^0.19",
            "_view_name": "LeafletMarkerView",
            "alt": "",
            "base": false,
            "bottom": false,
            "draggable": true,
            "icon": "IPY_MODEL_215189199f284e21957e5dfaf717ff75",
            "keyboard": true,
            "location": [
              6.7322985940487134,
              -10.811534526774649
            ],
            "name": "",
            "opacity": 1,
            "options": [
              "alt",
              "draggable",
              "keyboard",
              "rise_offset",
              "rise_on_hover",
              "rotation_angle",
              "rotation_origin",
              "title",
              "z_index_offset"
            ],
            "pane": "",
            "popup": null,
            "popup_max_height": null,
            "popup_max_width": 300,
            "popup_min_width": 50,
            "rise_offset": 250,
            "rise_on_hover": false,
            "rotation_angle": 0,
            "rotation_origin": "",
            "subitems": [],
            "title": "",
            "visible": true,
            "z_index_offset": 0
          }
        },
        "dd8cf74335f544e891bf0b1a96c113b3": {
          "model_module": "jupyter-leaflet",
          "model_name": "LeafletMarkerModel",
          "model_module_version": "^0.19",
          "state": {
            "_model_module": "jupyter-leaflet",
            "_model_module_version": "^0.19",
            "_model_name": "LeafletMarkerModel",
            "_view_count": null,
            "_view_module": "jupyter-leaflet",
            "_view_module_version": "^0.19",
            "_view_name": "LeafletMarkerView",
            "alt": "",
            "base": false,
            "bottom": false,
            "draggable": true,
            "icon": "IPY_MODEL_013ade72c6e148ea87aa6fadb8f39f9f",
            "keyboard": true,
            "location": [
              6.942416651936952,
              -9.64462806515909
            ],
            "name": "",
            "opacity": 1,
            "options": [
              "alt",
              "draggable",
              "keyboard",
              "rise_offset",
              "rise_on_hover",
              "rotation_angle",
              "rotation_origin",
              "title",
              "z_index_offset"
            ],
            "pane": "",
            "popup": null,
            "popup_max_height": null,
            "popup_max_width": 300,
            "popup_min_width": 50,
            "rise_offset": 250,
            "rise_on_hover": false,
            "rotation_angle": 0,
            "rotation_origin": "",
            "subitems": [],
            "title": "",
            "visible": true,
            "z_index_offset": 0
          }
        },
        "7ab99f36a2294b7bb92090aed8ec0a6b": {
          "model_module": "jupyter-leaflet",
          "model_name": "LeafletMarkerModel",
          "model_module_version": "^0.19",
          "state": {
            "_model_module": "jupyter-leaflet",
            "_model_module_version": "^0.19",
            "_model_name": "LeafletMarkerModel",
            "_view_count": null,
            "_view_module": "jupyter-leaflet",
            "_view_module_version": "^0.19",
            "_view_name": "LeafletMarkerView",
            "alt": "",
            "base": false,
            "bottom": false,
            "draggable": true,
            "icon": "IPY_MODEL_fe4219f03fe5463dac8bfacfb87e378d",
            "keyboard": true,
            "location": [
              6.224756148535231,
              -9.815433692719695
            ],
            "name": "",
            "opacity": 1,
            "options": [
              "alt",
              "draggable",
              "keyboard",
              "rise_offset",
              "rise_on_hover",
              "rotation_angle",
              "rotation_origin",
              "title",
              "z_index_offset"
            ],
            "pane": "",
            "popup": null,
            "popup_max_height": null,
            "popup_max_width": 300,
            "popup_min_width": 50,
            "rise_offset": 250,
            "rise_on_hover": false,
            "rotation_angle": 0,
            "rotation_origin": "",
            "subitems": [],
            "title": "",
            "visible": true,
            "z_index_offset": 0
          }
        },
        "43be806bd8664a678699667ceda3bc1e": {
          "model_module": "jupyter-leaflet",
          "model_name": "LeafletMarkerModel",
          "model_module_version": "^0.19",
          "state": {
            "_model_module": "jupyter-leaflet",
            "_model_module_version": "^0.19",
            "_model_name": "LeafletMarkerModel",
            "_view_count": null,
            "_view_module": "jupyter-leaflet",
            "_view_module_version": "^0.19",
            "_view_name": "LeafletMarkerView",
            "alt": "",
            "base": false,
            "bottom": false,
            "draggable": true,
            "icon": "IPY_MODEL_88f6658f799b4547a209ddd15f1bbbfe",
            "keyboard": true,
            "location": [
              7.080561493454417,
              -11.050002313582004
            ],
            "name": "",
            "opacity": 1,
            "options": [
              "alt",
              "draggable",
              "keyboard",
              "rise_offset",
              "rise_on_hover",
              "rotation_angle",
              "rotation_origin",
              "title",
              "z_index_offset"
            ],
            "pane": "",
            "popup": null,
            "popup_max_height": null,
            "popup_max_width": 300,
            "popup_min_width": 50,
            "rise_offset": 250,
            "rise_on_hover": false,
            "rotation_angle": 0,
            "rotation_origin": "",
            "subitems": [],
            "title": "",
            "visible": true,
            "z_index_offset": 0
          }
        },
        "1a6dbd7abc9246e98316f5b7331a0512": {
          "model_module": "jupyter-leaflet",
          "model_name": "LeafletMarkerModel",
          "model_module_version": "^0.19",
          "state": {
            "_model_module": "jupyter-leaflet",
            "_model_module_version": "^0.19",
            "_model_name": "LeafletMarkerModel",
            "_view_count": null,
            "_view_module": "jupyter-leaflet",
            "_view_module_version": "^0.19",
            "_view_name": "LeafletMarkerView",
            "alt": "",
            "base": false,
            "bottom": false,
            "draggable": true,
            "icon": "IPY_MODEL_d3ab5e77fab94dfab6a1ad6aa30179a4",
            "keyboard": true,
            "location": [
              4.798290206961595,
              -8.20325497203977
            ],
            "name": "",
            "opacity": 1,
            "options": [
              "alt",
              "draggable",
              "keyboard",
              "rise_offset",
              "rise_on_hover",
              "rotation_angle",
              "rotation_origin",
              "title",
              "z_index_offset"
            ],
            "pane": "",
            "popup": null,
            "popup_max_height": null,
            "popup_max_width": 300,
            "popup_min_width": 50,
            "rise_offset": 250,
            "rise_on_hover": false,
            "rotation_angle": 0,
            "rotation_origin": "",
            "subitems": [],
            "title": "",
            "visible": true,
            "z_index_offset": 0
          }
        },
        "ccb0d9c2d0f44d55a6ddbad78e899fd5": {
          "model_module": "jupyter-leaflet",
          "model_name": "LeafletMarkerModel",
          "model_module_version": "^0.19",
          "state": {
            "_model_module": "jupyter-leaflet",
            "_model_module_version": "^0.19",
            "_model_name": "LeafletMarkerModel",
            "_view_count": null,
            "_view_module": "jupyter-leaflet",
            "_view_module_version": "^0.19",
            "_view_name": "LeafletMarkerView",
            "alt": "",
            "base": false,
            "bottom": false,
            "draggable": true,
            "icon": "IPY_MODEL_a0984cc41589491ebafa5fd73c7630c8",
            "keyboard": true,
            "location": [
              6.5211378218502905,
              -10.262960690920389
            ],
            "name": "",
            "opacity": 1,
            "options": [
              "alt",
              "draggable",
              "keyboard",
              "rise_offset",
              "rise_on_hover",
              "rotation_angle",
              "rotation_origin",
              "title",
              "z_index_offset"
            ],
            "pane": "",
            "popup": null,
            "popup_max_height": null,
            "popup_max_width": 300,
            "popup_min_width": 50,
            "rise_offset": 250,
            "rise_on_hover": false,
            "rotation_angle": 0,
            "rotation_origin": "",
            "subitems": [],
            "title": "",
            "visible": true,
            "z_index_offset": 0
          }
        },
        "41d11c9eb7f745f7be789b14cf895f8f": {
          "model_module": "jupyter-leaflet",
          "model_name": "LeafletMarkerModel",
          "model_module_version": "^0.19",
          "state": {
            "_model_module": "jupyter-leaflet",
            "_model_module_version": "^0.19",
            "_model_name": "LeafletMarkerModel",
            "_view_count": null,
            "_view_module": "jupyter-leaflet",
            "_view_module_version": "^0.19",
            "_view_name": "LeafletMarkerView",
            "alt": "",
            "base": false,
            "bottom": false,
            "draggable": true,
            "icon": "IPY_MODEL_743f9bee4fa24e19b757187e8b7783af",
            "keyboard": true,
            "location": [
              4.7265948923872525,
              -7.771379673979067
            ],
            "name": "",
            "opacity": 1,
            "options": [
              "alt",
              "draggable",
              "keyboard",
              "rise_offset",
              "rise_on_hover",
              "rotation_angle",
              "rotation_origin",
              "title",
              "z_index_offset"
            ],
            "pane": "",
            "popup": null,
            "popup_max_height": null,
            "popup_max_width": 300,
            "popup_min_width": 50,
            "rise_offset": 250,
            "rise_on_hover": false,
            "rotation_angle": 0,
            "rotation_origin": "",
            "subitems": [],
            "title": "",
            "visible": true,
            "z_index_offset": 0
          }
        },
        "81968b020c5445ab8b88dcb12a7cac4a": {
          "model_module": "jupyter-leaflet",
          "model_name": "LeafletMarkerModel",
          "model_module_version": "^0.19",
          "state": {
            "_model_module": "jupyter-leaflet",
            "_model_module_version": "^0.19",
            "_model_name": "LeafletMarkerModel",
            "_view_count": null,
            "_view_module": "jupyter-leaflet",
            "_view_module_version": "^0.19",
            "_view_name": "LeafletMarkerView",
            "alt": "",
            "base": false,
            "bottom": false,
            "draggable": true,
            "icon": "IPY_MODEL_062c2400556340c3a5daa6016a696010",
            "keyboard": true,
            "location": [
              6.516032383346049,
              -10.599774617652512
            ],
            "name": "",
            "opacity": 1,
            "options": [
              "alt",
              "draggable",
              "keyboard",
              "rise_offset",
              "rise_on_hover",
              "rotation_angle",
              "rotation_origin",
              "title",
              "z_index_offset"
            ],
            "pane": "",
            "popup": null,
            "popup_max_height": null,
            "popup_max_width": 300,
            "popup_min_width": 50,
            "rise_offset": 250,
            "rise_on_hover": false,
            "rotation_angle": 0,
            "rotation_origin": "",
            "subitems": [],
            "title": "",
            "visible": true,
            "z_index_offset": 0
          }
        },
        "14f6d4d99d584901a7688a2df659bba2": {
          "model_module": "jupyter-leaflet",
          "model_name": "LeafletMarkerModel",
          "model_module_version": "^0.19",
          "state": {
            "_model_module": "jupyter-leaflet",
            "_model_module_version": "^0.19",
            "_model_name": "LeafletMarkerModel",
            "_view_count": null,
            "_view_module": "jupyter-leaflet",
            "_view_module_version": "^0.19",
            "_view_name": "LeafletMarkerView",
            "alt": "",
            "base": false,
            "bottom": false,
            "draggable": true,
            "icon": "IPY_MODEL_07d6a133f2f448839225674a4fbada11",
            "keyboard": true,
            "location": [
              6.8168560583501945,
              -8.770553095046049
            ],
            "name": "",
            "opacity": 1,
            "options": [
              "alt",
              "draggable",
              "keyboard",
              "rise_offset",
              "rise_on_hover",
              "rotation_angle",
              "rotation_origin",
              "title",
              "z_index_offset"
            ],
            "pane": "",
            "popup": null,
            "popup_max_height": null,
            "popup_max_width": 300,
            "popup_min_width": 50,
            "rise_offset": 250,
            "rise_on_hover": false,
            "rotation_angle": 0,
            "rotation_origin": "",
            "subitems": [],
            "title": "",
            "visible": true,
            "z_index_offset": 0
          }
        },
        "0df519f843104aac92172be2d59ae509": {
          "model_module": "jupyter-leaflet",
          "model_name": "LeafletMarkerModel",
          "model_module_version": "^0.19",
          "state": {
            "_model_module": "jupyter-leaflet",
            "_model_module_version": "^0.19",
            "_model_name": "LeafletMarkerModel",
            "_view_count": null,
            "_view_module": "jupyter-leaflet",
            "_view_module_version": "^0.19",
            "_view_name": "LeafletMarkerView",
            "alt": "",
            "base": false,
            "bottom": false,
            "draggable": true,
            "icon": "IPY_MODEL_621b6a298d814083b6b4111157215f05",
            "keyboard": true,
            "location": [
              5.8597076493440925,
              -9.376111630410085
            ],
            "name": "",
            "opacity": 1,
            "options": [
              "alt",
              "draggable",
              "keyboard",
              "rise_offset",
              "rise_on_hover",
              "rotation_angle",
              "rotation_origin",
              "title",
              "z_index_offset"
            ],
            "pane": "",
            "popup": null,
            "popup_max_height": null,
            "popup_max_width": 300,
            "popup_min_width": 50,
            "rise_offset": 250,
            "rise_on_hover": false,
            "rotation_angle": 0,
            "rotation_origin": "",
            "subitems": [],
            "title": "",
            "visible": true,
            "z_index_offset": 0
          }
        },
        "0d585525be8446a9aaaca2898a89e442": {
          "model_module": "jupyter-leaflet",
          "model_name": "LeafletMarkerModel",
          "model_module_version": "^0.19",
          "state": {
            "_model_module": "jupyter-leaflet",
            "_model_module_version": "^0.19",
            "_model_name": "LeafletMarkerModel",
            "_view_count": null,
            "_view_module": "jupyter-leaflet",
            "_view_module_version": "^0.19",
            "_view_name": "LeafletMarkerView",
            "alt": "",
            "base": false,
            "bottom": false,
            "draggable": true,
            "icon": "IPY_MODEL_ee4b1bef770a4a46856ccb26351a9b3b",
            "keyboard": true,
            "location": [
              5.345171192015699,
              -8.758418222653438
            ],
            "name": "",
            "opacity": 1,
            "options": [
              "alt",
              "draggable",
              "keyboard",
              "rise_offset",
              "rise_on_hover",
              "rotation_angle",
              "rotation_origin",
              "title",
              "z_index_offset"
            ],
            "pane": "",
            "popup": null,
            "popup_max_height": null,
            "popup_max_width": 300,
            "popup_min_width": 50,
            "rise_offset": 250,
            "rise_on_hover": false,
            "rotation_angle": 0,
            "rotation_origin": "",
            "subitems": [],
            "title": "",
            "visible": true,
            "z_index_offset": 0
          }
        },
        "8977f673663e412cbb5427297b451836": {
          "model_module": "jupyter-leaflet",
          "model_name": "LeafletMarkerModel",
          "model_module_version": "^0.19",
          "state": {
            "_model_module": "jupyter-leaflet",
            "_model_module_version": "^0.19",
            "_model_name": "LeafletMarkerModel",
            "_view_count": null,
            "_view_module": "jupyter-leaflet",
            "_view_module_version": "^0.19",
            "_view_name": "LeafletMarkerView",
            "alt": "",
            "base": false,
            "bottom": false,
            "draggable": true,
            "icon": "IPY_MODEL_89d7d638fd554e418ab66c8f22eaac29",
            "keyboard": true,
            "location": [
              6.446116651575274,
              -9.30729708708129
            ],
            "name": "",
            "opacity": 1,
            "options": [
              "alt",
              "draggable",
              "keyboard",
              "rise_offset",
              "rise_on_hover",
              "rotation_angle",
              "rotation_origin",
              "title",
              "z_index_offset"
            ],
            "pane": "",
            "popup": null,
            "popup_max_height": null,
            "popup_max_width": 300,
            "popup_min_width": 50,
            "rise_offset": 250,
            "rise_on_hover": false,
            "rotation_angle": 0,
            "rotation_origin": "",
            "subitems": [],
            "title": "",
            "visible": true,
            "z_index_offset": 0
          }
        },
        "b45f2b95faa24bf7972f1d9756042e1d": {
          "model_module": "@jupyter-widgets/controls",
          "model_name": "ToggleButtonModel",
          "model_module_version": "1.5.0",
          "state": {
            "_dom_classes": [],
            "_model_module": "@jupyter-widgets/controls",
            "_model_module_version": "1.5.0",
            "_model_name": "ToggleButtonModel",
            "_view_count": null,
            "_view_module": "@jupyter-widgets/controls",
            "_view_module_version": "1.5.0",
            "_view_name": "ToggleButtonView",
            "button_style": "",
            "description": "",
            "description_tooltip": null,
            "disabled": false,
            "icon": "globe",
            "layout": "IPY_MODEL_58a616694b0f4ca4841c73251c506387",
            "style": "IPY_MODEL_52b88a340c484bceb60cbb8269d3c0c5",
            "tooltip": "Search location/data",
            "value": false
          }
        },
        "a0154569fa1048cf987be37a835d6dbf": {
          "model_module": "@jupyter-widgets/base",
          "model_name": "LayoutModel",
          "model_module_version": "1.2.0",
          "state": {
            "_model_module": "@jupyter-widgets/base",
            "_model_module_version": "1.2.0",
            "_model_name": "LayoutModel",
            "_view_count": null,
            "_view_module": "@jupyter-widgets/base",
            "_view_module_version": "1.2.0",
            "_view_name": "LayoutView",
            "align_content": null,
            "align_items": null,
            "align_self": null,
            "border": null,
            "bottom": null,
            "display": null,
            "flex": null,
            "flex_flow": null,
            "grid_area": null,
            "grid_auto_columns": null,
            "grid_auto_flow": null,
            "grid_auto_rows": null,
            "grid_column": null,
            "grid_gap": null,
            "grid_row": null,
            "grid_template_areas": null,
            "grid_template_columns": null,
            "grid_template_rows": null,
            "height": null,
            "justify_content": null,
            "justify_items": null,
            "left": null,
            "margin": null,
            "max_height": null,
            "max_width": null,
            "min_height": null,
            "min_width": null,
            "object_fit": null,
            "object_position": null,
            "order": null,
            "overflow": null,
            "overflow_x": null,
            "overflow_y": null,
            "padding": null,
            "right": null,
            "top": null,
            "visibility": null,
            "width": null
          }
        },
        "a9c34985d19941159395ca845733085d": {
          "model_module": "@jupyter-widgets/controls",
          "model_name": "ToggleButtonModel",
          "model_module_version": "1.5.0",
          "state": {
            "_dom_classes": [],
            "_model_module": "@jupyter-widgets/controls",
            "_model_module_version": "1.5.0",
            "_model_name": "ToggleButtonModel",
            "_view_count": null,
            "_view_module": "@jupyter-widgets/controls",
            "_view_module_version": "1.5.0",
            "_view_name": "ToggleButtonView",
            "button_style": "",
            "description": "",
            "description_tooltip": null,
            "disabled": false,
            "icon": "wrench",
            "layout": "IPY_MODEL_50f3fcd63a8741eaa1b7d58d41ada95b",
            "style": "IPY_MODEL_aba7e91b8e214532ad69ed16eb5c80af",
            "tooltip": "Toolbar",
            "value": false
          }
        },
        "445cd9a4f1ba48c183b26435f424dff0": {
          "model_module": "@jupyter-widgets/base",
          "model_name": "LayoutModel",
          "model_module_version": "1.2.0",
          "state": {
            "_model_module": "@jupyter-widgets/base",
            "_model_module_version": "1.2.0",
            "_model_name": "LayoutModel",
            "_view_count": null,
            "_view_module": "@jupyter-widgets/base",
            "_view_module_version": "1.2.0",
            "_view_name": "LayoutView",
            "align_content": null,
            "align_items": null,
            "align_self": null,
            "border": null,
            "bottom": null,
            "display": null,
            "flex": null,
            "flex_flow": null,
            "grid_area": null,
            "grid_auto_columns": null,
            "grid_auto_flow": null,
            "grid_auto_rows": null,
            "grid_column": null,
            "grid_gap": null,
            "grid_row": null,
            "grid_template_areas": null,
            "grid_template_columns": null,
            "grid_template_rows": null,
            "height": null,
            "justify_content": null,
            "justify_items": null,
            "left": null,
            "margin": null,
            "max_height": null,
            "max_width": null,
            "min_height": null,
            "min_width": null,
            "object_fit": null,
            "object_position": null,
            "order": null,
            "overflow": null,
            "overflow_x": null,
            "overflow_y": null,
            "padding": null,
            "right": null,
            "top": null,
            "visibility": null,
            "width": null
          }
        },
        "94b8d15743f542d9af2acca93255f0e8": {
          "model_module": "jupyter-leaflet",
          "model_name": "LeafletDivIconModel",
          "model_module_version": "^0.19",
          "state": {
            "_model_module": "jupyter-leaflet",
            "_model_module_version": "^0.19",
            "_model_name": "LeafletDivIconModel",
            "_view_count": null,
            "_view_module": "jupyter-leaflet",
            "_view_module_version": "^0.19",
            "_view_name": "LeafletDivIconView",
            "base": false,
            "bg_pos": [
              0,
              0
            ],
            "bottom": false,
            "html": "<div style=\"font-size: 7pt;color:white;font-family:arial;font-weight: normal\">Grand Gedeh</div>",
            "icon_anchor": [
              7,
              7
            ],
            "icon_size": [
              1,
              1
            ],
            "name": "",
            "options": [
              "bg_pos",
              "html",
              "icon_anchor",
              "icon_size",
              "popup_anchor"
            ],
            "pane": "",
            "popup": null,
            "popup_anchor": [
              0,
              0
            ],
            "popup_max_height": null,
            "popup_max_width": 300,
            "popup_min_width": 50,
            "subitems": []
          }
        },
        "eda4073996cf44bea9afadbca9dbf9f1": {
          "model_module": "jupyter-leaflet",
          "model_name": "LeafletDivIconModel",
          "model_module_version": "^0.19",
          "state": {
            "_model_module": "jupyter-leaflet",
            "_model_module_version": "^0.19",
            "_model_name": "LeafletDivIconModel",
            "_view_count": null,
            "_view_module": "jupyter-leaflet",
            "_view_module_version": "^0.19",
            "_view_name": "LeafletDivIconView",
            "base": false,
            "bg_pos": [
              0,
              0
            ],
            "bottom": false,
            "html": "<div style=\"font-size: 7pt;color:white;font-family:arial;font-weight: normal\">River Gee</div>",
            "icon_anchor": [
              7,
              7
            ],
            "icon_size": [
              1,
              1
            ],
            "name": "",
            "options": [
              "bg_pos",
              "html",
              "icon_anchor",
              "icon_size",
              "popup_anchor"
            ],
            "pane": "",
            "popup": null,
            "popup_anchor": [
              0,
              0
            ],
            "popup_max_height": null,
            "popup_max_width": 300,
            "popup_min_width": 50,
            "subitems": []
          }
        },
        "d3961cac7b6f45be828f9df620202642": {
          "model_module": "jupyter-leaflet",
          "model_name": "LeafletDivIconModel",
          "model_module_version": "^0.19",
          "state": {
            "_model_module": "jupyter-leaflet",
            "_model_module_version": "^0.19",
            "_model_name": "LeafletDivIconModel",
            "_view_count": null,
            "_view_module": "jupyter-leaflet",
            "_view_module_version": "^0.19",
            "_view_name": "LeafletDivIconView",
            "base": false,
            "bg_pos": [
              0,
              0
            ],
            "bottom": false,
            "html": "<div style=\"font-size: 7pt;color:white;font-family:arial;font-weight: normal\">Gbarpolu</div>",
            "icon_anchor": [
              7,
              7
            ],
            "icon_size": [
              1,
              1
            ],
            "name": "",
            "options": [
              "bg_pos",
              "html",
              "icon_anchor",
              "icon_size",
              "popup_anchor"
            ],
            "pane": "",
            "popup": null,
            "popup_anchor": [
              0,
              0
            ],
            "popup_max_height": null,
            "popup_max_width": 300,
            "popup_min_width": 50,
            "subitems": []
          }
        },
        "b42276fa629a4837aecd80004732464f": {
          "model_module": "jupyter-leaflet",
          "model_name": "LeafletDivIconModel",
          "model_module_version": "^0.19",
          "state": {
            "_model_module": "jupyter-leaflet",
            "_model_module_version": "^0.19",
            "_model_name": "LeafletDivIconModel",
            "_view_count": null,
            "_view_module": "jupyter-leaflet",
            "_view_module_version": "^0.19",
            "_view_name": "LeafletDivIconView",
            "base": false,
            "bg_pos": [
              0,
              0
            ],
            "bottom": false,
            "html": "<div style=\"font-size: 7pt;color:white;font-family:arial;font-weight: normal\">Lofa</div>",
            "icon_anchor": [
              7,
              7
            ],
            "icon_size": [
              1,
              1
            ],
            "name": "",
            "options": [
              "bg_pos",
              "html",
              "icon_anchor",
              "icon_size",
              "popup_anchor"
            ],
            "pane": "",
            "popup": null,
            "popup_anchor": [
              0,
              0
            ],
            "popup_max_height": null,
            "popup_max_width": 300,
            "popup_min_width": 50,
            "subitems": []
          }
        },
        "215189199f284e21957e5dfaf717ff75": {
          "model_module": "jupyter-leaflet",
          "model_name": "LeafletDivIconModel",
          "model_module_version": "^0.19",
          "state": {
            "_model_module": "jupyter-leaflet",
            "_model_module_version": "^0.19",
            "_model_name": "LeafletDivIconModel",
            "_view_count": null,
            "_view_module": "jupyter-leaflet",
            "_view_module_version": "^0.19",
            "_view_name": "LeafletDivIconView",
            "base": false,
            "bg_pos": [
              0,
              0
            ],
            "bottom": false,
            "html": "<div style=\"font-size: 7pt;color:white;font-family:arial;font-weight: normal\">Bomi</div>",
            "icon_anchor": [
              7,
              7
            ],
            "icon_size": [
              1,
              1
            ],
            "name": "",
            "options": [
              "bg_pos",
              "html",
              "icon_anchor",
              "icon_size",
              "popup_anchor"
            ],
            "pane": "",
            "popup": null,
            "popup_anchor": [
              0,
              0
            ],
            "popup_max_height": null,
            "popup_max_width": 300,
            "popup_min_width": 50,
            "subitems": []
          }
        },
        "013ade72c6e148ea87aa6fadb8f39f9f": {
          "model_module": "jupyter-leaflet",
          "model_name": "LeafletDivIconModel",
          "model_module_version": "^0.19",
          "state": {
            "_model_module": "jupyter-leaflet",
            "_model_module_version": "^0.19",
            "_model_name": "LeafletDivIconModel",
            "_view_count": null,
            "_view_module": "jupyter-leaflet",
            "_view_module_version": "^0.19",
            "_view_name": "LeafletDivIconView",
            "base": false,
            "bg_pos": [
              0,
              0
            ],
            "bottom": false,
            "html": "<div style=\"font-size: 7pt;color:white;font-family:arial;font-weight: normal\">Bong</div>",
            "icon_anchor": [
              7,
              7
            ],
            "icon_size": [
              1,
              1
            ],
            "name": "",
            "options": [
              "bg_pos",
              "html",
              "icon_anchor",
              "icon_size",
              "popup_anchor"
            ],
            "pane": "",
            "popup": null,
            "popup_anchor": [
              0,
              0
            ],
            "popup_max_height": null,
            "popup_max_width": 300,
            "popup_min_width": 50,
            "subitems": []
          }
        },
        "fe4219f03fe5463dac8bfacfb87e378d": {
          "model_module": "jupyter-leaflet",
          "model_name": "LeafletDivIconModel",
          "model_module_version": "^0.19",
          "state": {
            "_model_module": "jupyter-leaflet",
            "_model_module_version": "^0.19",
            "_model_name": "LeafletDivIconModel",
            "_view_count": null,
            "_view_module": "jupyter-leaflet",
            "_view_module_version": "^0.19",
            "_view_name": "LeafletDivIconView",
            "base": false,
            "bg_pos": [
              0,
              0
            ],
            "bottom": false,
            "html": "<div style=\"font-size: 7pt;color:white;font-family:arial;font-weight: normal\">Grand Bassa</div>",
            "icon_anchor": [
              7,
              7
            ],
            "icon_size": [
              1,
              1
            ],
            "name": "",
            "options": [
              "bg_pos",
              "html",
              "icon_anchor",
              "icon_size",
              "popup_anchor"
            ],
            "pane": "",
            "popup": null,
            "popup_anchor": [
              0,
              0
            ],
            "popup_max_height": null,
            "popup_max_width": 300,
            "popup_min_width": 50,
            "subitems": []
          }
        },
        "88f6658f799b4547a209ddd15f1bbbfe": {
          "model_module": "jupyter-leaflet",
          "model_name": "LeafletDivIconModel",
          "model_module_version": "^0.19",
          "state": {
            "_model_module": "jupyter-leaflet",
            "_model_module_version": "^0.19",
            "_model_name": "LeafletDivIconModel",
            "_view_count": null,
            "_view_module": "jupyter-leaflet",
            "_view_module_version": "^0.19",
            "_view_name": "LeafletDivIconView",
            "base": false,
            "bg_pos": [
              0,
              0
            ],
            "bottom": false,
            "html": "<div style=\"font-size: 7pt;color:white;font-family:arial;font-weight: normal\">Grand Cape Mount</div>",
            "icon_anchor": [
              7,
              7
            ],
            "icon_size": [
              1,
              1
            ],
            "name": "",
            "options": [
              "bg_pos",
              "html",
              "icon_anchor",
              "icon_size",
              "popup_anchor"
            ],
            "pane": "",
            "popup": null,
            "popup_anchor": [
              0,
              0
            ],
            "popup_max_height": null,
            "popup_max_width": 300,
            "popup_min_width": 50,
            "subitems": []
          }
        },
        "d3ab5e77fab94dfab6a1ad6aa30179a4": {
          "model_module": "jupyter-leaflet",
          "model_name": "LeafletDivIconModel",
          "model_module_version": "^0.19",
          "state": {
            "_model_module": "jupyter-leaflet",
            "_model_module_version": "^0.19",
            "_model_name": "LeafletDivIconModel",
            "_view_count": null,
            "_view_module": "jupyter-leaflet",
            "_view_module_version": "^0.19",
            "_view_name": "LeafletDivIconView",
            "base": false,
            "bg_pos": [
              0,
              0
            ],
            "bottom": false,
            "html": "<div style=\"font-size: 7pt;color:white;font-family:arial;font-weight: normal\">Grand Kru</div>",
            "icon_anchor": [
              7,
              7
            ],
            "icon_size": [
              1,
              1
            ],
            "name": "",
            "options": [
              "bg_pos",
              "html",
              "icon_anchor",
              "icon_size",
              "popup_anchor"
            ],
            "pane": "",
            "popup": null,
            "popup_anchor": [
              0,
              0
            ],
            "popup_max_height": null,
            "popup_max_width": 300,
            "popup_min_width": 50,
            "subitems": []
          }
        },
        "a0984cc41589491ebafa5fd73c7630c8": {
          "model_module": "jupyter-leaflet",
          "model_name": "LeafletDivIconModel",
          "model_module_version": "^0.19",
          "state": {
            "_model_module": "jupyter-leaflet",
            "_model_module_version": "^0.19",
            "_model_name": "LeafletDivIconModel",
            "_view_count": null,
            "_view_module": "jupyter-leaflet",
            "_view_module_version": "^0.19",
            "_view_name": "LeafletDivIconView",
            "base": false,
            "bg_pos": [
              0,
              0
            ],
            "bottom": false,
            "html": "<div style=\"font-size: 7pt;color:white;font-family:arial;font-weight: normal\">Margibi</div>",
            "icon_anchor": [
              7,
              7
            ],
            "icon_size": [
              1,
              1
            ],
            "name": "",
            "options": [
              "bg_pos",
              "html",
              "icon_anchor",
              "icon_size",
              "popup_anchor"
            ],
            "pane": "",
            "popup": null,
            "popup_anchor": [
              0,
              0
            ],
            "popup_max_height": null,
            "popup_max_width": 300,
            "popup_min_width": 50,
            "subitems": []
          }
        },
        "743f9bee4fa24e19b757187e8b7783af": {
          "model_module": "jupyter-leaflet",
          "model_name": "LeafletDivIconModel",
          "model_module_version": "^0.19",
          "state": {
            "_model_module": "jupyter-leaflet",
            "_model_module_version": "^0.19",
            "_model_name": "LeafletDivIconModel",
            "_view_count": null,
            "_view_module": "jupyter-leaflet",
            "_view_module_version": "^0.19",
            "_view_name": "LeafletDivIconView",
            "base": false,
            "bg_pos": [
              0,
              0
            ],
            "bottom": false,
            "html": "<div style=\"font-size: 7pt;color:white;font-family:arial;font-weight: normal\">Maryland</div>",
            "icon_anchor": [
              7,
              7
            ],
            "icon_size": [
              1,
              1
            ],
            "name": "",
            "options": [
              "bg_pos",
              "html",
              "icon_anchor",
              "icon_size",
              "popup_anchor"
            ],
            "pane": "",
            "popup": null,
            "popup_anchor": [
              0,
              0
            ],
            "popup_max_height": null,
            "popup_max_width": 300,
            "popup_min_width": 50,
            "subitems": []
          }
        },
        "062c2400556340c3a5daa6016a696010": {
          "model_module": "jupyter-leaflet",
          "model_name": "LeafletDivIconModel",
          "model_module_version": "^0.19",
          "state": {
            "_model_module": "jupyter-leaflet",
            "_model_module_version": "^0.19",
            "_model_name": "LeafletDivIconModel",
            "_view_count": null,
            "_view_module": "jupyter-leaflet",
            "_view_module_version": "^0.19",
            "_view_name": "LeafletDivIconView",
            "base": false,
            "bg_pos": [
              0,
              0
            ],
            "bottom": false,
            "html": "<div style=\"font-size: 7pt;color:white;font-family:arial;font-weight: normal\">Montserrado</div>",
            "icon_anchor": [
              7,
              7
            ],
            "icon_size": [
              1,
              1
            ],
            "name": "",
            "options": [
              "bg_pos",
              "html",
              "icon_anchor",
              "icon_size",
              "popup_anchor"
            ],
            "pane": "",
            "popup": null,
            "popup_anchor": [
              0,
              0
            ],
            "popup_max_height": null,
            "popup_max_width": 300,
            "popup_min_width": 50,
            "subitems": []
          }
        },
        "07d6a133f2f448839225674a4fbada11": {
          "model_module": "jupyter-leaflet",
          "model_name": "LeafletDivIconModel",
          "model_module_version": "^0.19",
          "state": {
            "_model_module": "jupyter-leaflet",
            "_model_module_version": "^0.19",
            "_model_name": "LeafletDivIconModel",
            "_view_count": null,
            "_view_module": "jupyter-leaflet",
            "_view_module_version": "^0.19",
            "_view_name": "LeafletDivIconView",
            "base": false,
            "bg_pos": [
              0,
              0
            ],
            "bottom": false,
            "html": "<div style=\"font-size: 7pt;color:white;font-family:arial;font-weight: normal\">Nimba</div>",
            "icon_anchor": [
              7,
              7
            ],
            "icon_size": [
              1,
              1
            ],
            "name": "",
            "options": [
              "bg_pos",
              "html",
              "icon_anchor",
              "icon_size",
              "popup_anchor"
            ],
            "pane": "",
            "popup": null,
            "popup_anchor": [
              0,
              0
            ],
            "popup_max_height": null,
            "popup_max_width": 300,
            "popup_min_width": 50,
            "subitems": []
          }
        },
        "621b6a298d814083b6b4111157215f05": {
          "model_module": "jupyter-leaflet",
          "model_name": "LeafletDivIconModel",
          "model_module_version": "^0.19",
          "state": {
            "_model_module": "jupyter-leaflet",
            "_model_module_version": "^0.19",
            "_model_name": "LeafletDivIconModel",
            "_view_count": null,
            "_view_module": "jupyter-leaflet",
            "_view_module_version": "^0.19",
            "_view_name": "LeafletDivIconView",
            "base": false,
            "bg_pos": [
              0,
              0
            ],
            "bottom": false,
            "html": "<div style=\"font-size: 7pt;color:white;font-family:arial;font-weight: normal\">Rivercess</div>",
            "icon_anchor": [
              7,
              7
            ],
            "icon_size": [
              1,
              1
            ],
            "name": "",
            "options": [
              "bg_pos",
              "html",
              "icon_anchor",
              "icon_size",
              "popup_anchor"
            ],
            "pane": "",
            "popup": null,
            "popup_anchor": [
              0,
              0
            ],
            "popup_max_height": null,
            "popup_max_width": 300,
            "popup_min_width": 50,
            "subitems": []
          }
        },
        "ee4b1bef770a4a46856ccb26351a9b3b": {
          "model_module": "jupyter-leaflet",
          "model_name": "LeafletDivIconModel",
          "model_module_version": "^0.19",
          "state": {
            "_model_module": "jupyter-leaflet",
            "_model_module_version": "^0.19",
            "_model_name": "LeafletDivIconModel",
            "_view_count": null,
            "_view_module": "jupyter-leaflet",
            "_view_module_version": "^0.19",
            "_view_name": "LeafletDivIconView",
            "base": false,
            "bg_pos": [
              0,
              0
            ],
            "bottom": false,
            "html": "<div style=\"font-size: 7pt;color:white;font-family:arial;font-weight: normal\">Sinoe</div>",
            "icon_anchor": [
              7,
              7
            ],
            "icon_size": [
              1,
              1
            ],
            "name": "",
            "options": [
              "bg_pos",
              "html",
              "icon_anchor",
              "icon_size",
              "popup_anchor"
            ],
            "pane": "",
            "popup": null,
            "popup_anchor": [
              0,
              0
            ],
            "popup_max_height": null,
            "popup_max_width": 300,
            "popup_min_width": 50,
            "subitems": []
          }
        },
        "89d7d638fd554e418ab66c8f22eaac29": {
          "model_module": "jupyter-leaflet",
          "model_name": "LeafletDivIconModel",
          "model_module_version": "^0.19",
          "state": {
            "_model_module": "jupyter-leaflet",
            "_model_module_version": "^0.19",
            "_model_name": "LeafletDivIconModel",
            "_view_count": null,
            "_view_module": "jupyter-leaflet",
            "_view_module_version": "^0.19",
            "_view_name": "LeafletDivIconView",
            "base": false,
            "bg_pos": [
              0,
              0
            ],
            "bottom": false,
            "html": "<div style=\"font-size: 12pt;color:white;font-family:arial;font-weight: normal\">Liberia</div>",
            "icon_anchor": [
              12,
              12
            ],
            "icon_size": [
              1,
              1
            ],
            "name": "",
            "options": [
              "bg_pos",
              "html",
              "icon_anchor",
              "icon_size",
              "popup_anchor"
            ],
            "pane": "",
            "popup": null,
            "popup_anchor": [
              0,
              0
            ],
            "popup_max_height": null,
            "popup_max_width": 300,
            "popup_min_width": 50,
            "subitems": []
          }
        },
        "58a616694b0f4ca4841c73251c506387": {
          "model_module": "@jupyter-widgets/base",
          "model_name": "LayoutModel",
          "model_module_version": "1.2.0",
          "state": {
            "_model_module": "@jupyter-widgets/base",
            "_model_module_version": "1.2.0",
            "_model_name": "LayoutModel",
            "_view_count": null,
            "_view_module": "@jupyter-widgets/base",
            "_view_module_version": "1.2.0",
            "_view_name": "LayoutView",
            "align_content": null,
            "align_items": null,
            "align_self": null,
            "border": null,
            "bottom": null,
            "display": null,
            "flex": null,
            "flex_flow": null,
            "grid_area": null,
            "grid_auto_columns": null,
            "grid_auto_flow": null,
            "grid_auto_rows": null,
            "grid_column": null,
            "grid_gap": null,
            "grid_row": null,
            "grid_template_areas": null,
            "grid_template_columns": null,
            "grid_template_rows": null,
            "height": "28px",
            "justify_content": null,
            "justify_items": null,
            "left": null,
            "margin": null,
            "max_height": null,
            "max_width": null,
            "min_height": null,
            "min_width": null,
            "object_fit": null,
            "object_position": null,
            "order": null,
            "overflow": null,
            "overflow_x": null,
            "overflow_y": null,
            "padding": "0px 0px 0px 4px",
            "right": null,
            "top": null,
            "visibility": null,
            "width": "28px"
          }
        },
        "52b88a340c484bceb60cbb8269d3c0c5": {
          "model_module": "@jupyter-widgets/controls",
          "model_name": "DescriptionStyleModel",
          "model_module_version": "1.5.0",
          "state": {
            "_model_module": "@jupyter-widgets/controls",
            "_model_module_version": "1.5.0",
            "_model_name": "DescriptionStyleModel",
            "_view_count": null,
            "_view_module": "@jupyter-widgets/base",
            "_view_module_version": "1.2.0",
            "_view_name": "StyleView",
            "description_width": ""
          }
        },
        "50f3fcd63a8741eaa1b7d58d41ada95b": {
          "model_module": "@jupyter-widgets/base",
          "model_name": "LayoutModel",
          "model_module_version": "1.2.0",
          "state": {
            "_model_module": "@jupyter-widgets/base",
            "_model_module_version": "1.2.0",
            "_model_name": "LayoutModel",
            "_view_count": null,
            "_view_module": "@jupyter-widgets/base",
            "_view_module_version": "1.2.0",
            "_view_name": "LayoutView",
            "align_content": null,
            "align_items": null,
            "align_self": null,
            "border": null,
            "bottom": null,
            "display": null,
            "flex": null,
            "flex_flow": null,
            "grid_area": null,
            "grid_auto_columns": null,
            "grid_auto_flow": null,
            "grid_auto_rows": null,
            "grid_column": null,
            "grid_gap": null,
            "grid_row": null,
            "grid_template_areas": null,
            "grid_template_columns": null,
            "grid_template_rows": null,
            "height": "28px",
            "justify_content": null,
            "justify_items": null,
            "left": null,
            "margin": null,
            "max_height": null,
            "max_width": null,
            "min_height": null,
            "min_width": null,
            "object_fit": null,
            "object_position": null,
            "order": null,
            "overflow": null,
            "overflow_x": null,
            "overflow_y": null,
            "padding": "0px 0px 0px 4px",
            "right": null,
            "top": null,
            "visibility": null,
            "width": "28px"
          }
        },
        "aba7e91b8e214532ad69ed16eb5c80af": {
          "model_module": "@jupyter-widgets/controls",
          "model_name": "DescriptionStyleModel",
          "model_module_version": "1.5.0",
          "state": {
            "_model_module": "@jupyter-widgets/controls",
            "_model_module_version": "1.5.0",
            "_model_name": "DescriptionStyleModel",
            "_view_count": null,
            "_view_module": "@jupyter-widgets/base",
            "_view_module_version": "1.2.0",
            "_view_name": "StyleView",
            "description_width": ""
          }
        },
        "99411a713030400b9ba0f82961442fb2": {
          "model_module": "jupyter-leaflet",
          "model_name": "LeafletMapModel",
          "model_module_version": "^0.19",
          "state": {
            "_dom_classes": [],
            "_model_module": "jupyter-leaflet",
            "_model_module_version": "^0.19",
            "_model_name": "LeafletMapModel",
            "_view_count": null,
            "_view_module": "jupyter-leaflet",
            "_view_module_version": "^0.19",
            "_view_name": "LeafletMapView",
            "bottom": 125863,
            "bounce_at_zoom_limits": true,
            "box_zoom": true,
            "center": [
              7.544144814296237,
              -10.758250676400191
            ],
            "close_popup_on_click": true,
            "controls": [
              "IPY_MODEL_8786ba3347a942c89682eb863479ea88",
              "IPY_MODEL_ed1f044e04c1497d8b7ddfa05aa1e88f",
              "IPY_MODEL_1c29f50d077f4655b8b60b2f03962597",
              "IPY_MODEL_21e6b0974c934b79814175986362326c",
              "IPY_MODEL_95972c2e4ba7448fbb39ce85b0eed84a",
              "IPY_MODEL_33f09020fd3b49a1aa84742f7cd29075",
              "IPY_MODEL_d971f54a93314797b56d47c39ed994b5",
              "IPY_MODEL_e87a729381054a6bab233dc41b3194e5"
            ],
            "crs": {
              "name": "EPSG3857",
              "custom": false
            },
            "default_style": "IPY_MODEL_3d8d09ea1821447ca72f77a8a2ac42a2",
            "double_click_zoom": true,
            "dragging": true,
            "dragging_style": "IPY_MODEL_fc95da7c3dbb4909bde637b4af639a32",
            "east": -10.143127441406252,
            "fullscreen": false,
            "inertia": true,
            "inertia_deceleration": 3000,
            "inertia_max_speed": 1500,
            "interpolation": "bilinear",
            "keyboard": true,
            "keyboard_pan_offset": 80,
            "keyboard_zoom_offset": 1,
            "layers": [
              "IPY_MODEL_dac14517467d4be3be153c22f30e0825",
              "IPY_MODEL_3907d836b3ca46178a1aadb55643a236",
              "IPY_MODEL_1be32bde82d444b6ae7fbd5365f63a0c",
              "IPY_MODEL_9c588c7caa2341c8adc6dc34ba50719a",
              "IPY_MODEL_6573e2f5d96c4fa7a8e23f2f825666c4"
            ],
            "layout": "IPY_MODEL_f24f0070b7aa48b7beba3b4a9abbb5d7",
            "left": 122791,
            "max_zoom": 24,
            "min_zoom": null,
            "modisdate": "2025-01-24",
            "north": 7.951796923838764,
            "options": [
              "bounce_at_zoom_limits",
              "box_zoom",
              "center",
              "close_popup_on_click",
              "double_click_zoom",
              "dragging",
              "fullscreen",
              "inertia",
              "inertia_deceleration",
              "inertia_max_speed",
              "interpolation",
              "keyboard",
              "keyboard_pan_offset",
              "keyboard_zoom_offset",
              "max_zoom",
              "min_zoom",
              "prefer_canvas",
              "scroll_wheel_zoom",
              "tap",
              "tap_tolerance",
              "touch_zoom",
              "world_copy_jump",
              "zoom",
              "zoom_animation_threshold",
              "zoom_delta",
              "zoom_snap"
            ],
            "panes": {},
            "prefer_canvas": false,
            "right": 123686,
            "scroll_wheel_zoom": true,
            "south": 7.134960352110821,
            "style": "IPY_MODEL_f4ab09c6f0b84c499b61d07bb199827d",
            "tap": true,
            "tap_tolerance": 15,
            "top": 125263,
            "touch_zoom": true,
            "west": -11.372222900390625,
            "window_url": "https://i4gupzig9js-496ff2e9c6d22116-0-colab.googleusercontent.com/outputframe.html?vrz=colab_20250123-060139_RC00_718795096",
            "world_copy_jump": false,
            "zoom": 10,
            "zoom_animation_threshold": 4,
            "zoom_delta": 1,
            "zoom_snap": 1
          }
        },
        "8786ba3347a942c89682eb863479ea88": {
          "model_module": "jupyter-leaflet",
          "model_name": "LeafletWidgetControlModel",
          "model_module_version": "^0.19",
          "state": {
            "_model_module": "jupyter-leaflet",
            "_model_module_version": "^0.19",
            "_model_name": "LeafletWidgetControlModel",
            "_view_count": null,
            "_view_module": "jupyter-leaflet",
            "_view_module_version": "^0.19",
            "_view_name": "LeafletWidgetControlView",
            "max_height": null,
            "max_width": null,
            "min_height": null,
            "min_width": null,
            "options": [
              "position",
              "transparent_bg"
            ],
            "position": "topleft",
            "transparent_bg": false,
            "widget": "IPY_MODEL_34711cbaab444b42821aa9c112bc3753"
          }
        },
        "ed1f044e04c1497d8b7ddfa05aa1e88f": {
          "model_module": "jupyter-leaflet",
          "model_name": "LeafletZoomControlModel",
          "model_module_version": "^0.19",
          "state": {
            "_model_module": "jupyter-leaflet",
            "_model_module_version": "^0.19",
            "_model_name": "LeafletZoomControlModel",
            "_view_count": null,
            "_view_module": "jupyter-leaflet",
            "_view_module_version": "^0.19",
            "_view_name": "LeafletZoomControlView",
            "options": [
              "position",
              "zoom_in_text",
              "zoom_in_title",
              "zoom_out_text",
              "zoom_out_title"
            ],
            "position": "topleft",
            "zoom_in_text": "+",
            "zoom_in_title": "Zoom in",
            "zoom_out_text": "-",
            "zoom_out_title": "Zoom out"
          }
        },
        "1c29f50d077f4655b8b60b2f03962597": {
          "model_module": "jupyter-leaflet",
          "model_name": "LeafletScaleControlModel",
          "model_module_version": "^0.19",
          "state": {
            "_model_module": "jupyter-leaflet",
            "_model_module_version": "^0.19",
            "_model_name": "LeafletScaleControlModel",
            "_view_count": null,
            "_view_module": "jupyter-leaflet",
            "_view_module_version": "^0.19",
            "_view_name": "LeafletScaleControlView",
            "imperial": true,
            "max_width": 100,
            "metric": true,
            "options": [
              "imperial",
              "max_width",
              "metric",
              "position",
              "update_when_idle"
            ],
            "position": "bottomleft",
            "update_when_idle": false
          }
        },
        "21e6b0974c934b79814175986362326c": {
          "model_module": "jupyter-leaflet",
          "model_name": "LeafletFullScreenControlModel",
          "model_module_version": "^0.19",
          "state": {
            "_model_module": "jupyter-leaflet",
            "_model_module_version": "^0.19",
            "_model_name": "LeafletFullScreenControlModel",
            "_view_count": null,
            "_view_module": "jupyter-leaflet",
            "_view_module_version": "^0.19",
            "_view_name": "LeafletFullScreenControlView",
            "options": [
              "position"
            ],
            "position": "topleft"
          }
        },
        "95972c2e4ba7448fbb39ce85b0eed84a": {
          "model_module": "jupyter-leaflet",
          "model_name": "LeafletMeasureControlModel",
          "model_module_version": "^0.19",
          "state": {
            "_custom_units": {},
            "_model_module": "jupyter-leaflet",
            "_model_module_version": "^0.19",
            "_model_name": "LeafletMeasureControlModel",
            "_view_count": null,
            "_view_module": "jupyter-leaflet",
            "_view_module_version": "^0.19",
            "_view_name": "LeafletMeasureControlView",
            "active_color": "orange",
            "capture_z_index": 10000,
            "completed_color": "#C8F2BE",
            "options": [
              "active_color",
              "capture_z_index",
              "completed_color",
              "popup_options",
              "position",
              "primary_area_unit",
              "primary_length_unit",
              "secondary_area_unit",
              "secondary_length_unit"
            ],
            "popup_options": {
              "className": "leaflet-measure-resultpopup",
              "autoPanPadding": [
                10,
                10
              ]
            },
            "position": "bottomleft",
            "primary_area_unit": "acres",
            "primary_length_unit": "kilometers",
            "secondary_area_unit": null,
            "secondary_length_unit": null
          }
        },
        "33f09020fd3b49a1aa84742f7cd29075": {
          "model_module": "jupyter-leaflet",
          "model_name": "LeafletAttributionControlModel",
          "model_module_version": "^0.19",
          "state": {
            "_model_module": "jupyter-leaflet",
            "_model_module_version": "^0.19",
            "_model_name": "LeafletAttributionControlModel",
            "_view_count": null,
            "_view_module": "jupyter-leaflet",
            "_view_module_version": "^0.19",
            "_view_name": "LeafletAttributionControlView",
            "options": [
              "position",
              "prefix"
            ],
            "position": "bottomright",
            "prefix": "ipyleaflet"
          }
        },
        "d971f54a93314797b56d47c39ed994b5": {
          "model_module": "jupyter-leaflet",
          "model_name": "LeafletDrawControlModel",
          "model_module_version": "^0.19",
          "state": {
            "_model_module": "jupyter-leaflet",
            "_model_module_version": "^0.19",
            "_model_name": "LeafletDrawControlModel",
            "_view_count": null,
            "_view_module": "jupyter-leaflet",
            "_view_module_version": "^0.19",
            "_view_name": "LeafletDrawControlView",
            "circle": {
              "shapeOptions": {
                "color": "#3388ff"
              }
            },
            "circlemarker": {},
            "data": [],
            "edit": true,
            "marker": {
              "shapeOptions": {
                "color": "#3388ff"
              }
            },
            "options": [
              "position"
            ],
            "polygon": {
              "shapeOptions": {}
            },
            "polyline": {
              "shapeOptions": {}
            },
            "position": "topleft",
            "rectangle": {
              "shapeOptions": {
                "color": "#3388ff"
              }
            },
            "remove": true
          }
        },
        "e87a729381054a6bab233dc41b3194e5": {
          "model_module": "jupyter-leaflet",
          "model_name": "LeafletWidgetControlModel",
          "model_module_version": "^0.19",
          "state": {
            "_model_module": "jupyter-leaflet",
            "_model_module_version": "^0.19",
            "_model_name": "LeafletWidgetControlModel",
            "_view_count": null,
            "_view_module": "jupyter-leaflet",
            "_view_module_version": "^0.19",
            "_view_name": "LeafletWidgetControlView",
            "max_height": null,
            "max_width": null,
            "min_height": null,
            "min_width": null,
            "options": [
              "position",
              "transparent_bg"
            ],
            "position": "topright",
            "transparent_bg": false,
            "widget": "IPY_MODEL_2fe1b7540e69436fb225da41e16e2d7b"
          }
        },
        "3d8d09ea1821447ca72f77a8a2ac42a2": {
          "model_module": "jupyter-leaflet",
          "model_name": "LeafletMapStyleModel",
          "model_module_version": "^0.19",
          "state": {
            "_model_module": "jupyter-leaflet",
            "_model_module_version": "^0.19",
            "_model_name": "LeafletMapStyleModel",
            "_view_count": null,
            "_view_module": "@jupyter-widgets/base",
            "_view_module_version": "1.2.0",
            "_view_name": "StyleView",
            "cursor": "grab"
          }
        },
        "fc95da7c3dbb4909bde637b4af639a32": {
          "model_module": "jupyter-leaflet",
          "model_name": "LeafletMapStyleModel",
          "model_module_version": "^0.19",
          "state": {
            "_model_module": "jupyter-leaflet",
            "_model_module_version": "^0.19",
            "_model_name": "LeafletMapStyleModel",
            "_view_count": null,
            "_view_module": "@jupyter-widgets/base",
            "_view_module_version": "1.2.0",
            "_view_name": "StyleView",
            "cursor": "move"
          }
        },
        "dac14517467d4be3be153c22f30e0825": {
          "model_module": "jupyter-leaflet",
          "model_name": "LeafletTileLayerModel",
          "model_module_version": "^0.19",
          "state": {
            "_model_module": "jupyter-leaflet",
            "_model_module_version": "^0.19",
            "_model_name": "LeafletTileLayerModel",
            "_view_count": null,
            "_view_module": "jupyter-leaflet",
            "_view_module_version": "^0.19",
            "_view_name": "LeafletTileLayerView",
            "attribution": "&copy; <a href=\"https://www.openstreetmap.org/copyright\">OpenStreetMap</a> contributors",
            "base": true,
            "bottom": true,
            "bounds": null,
            "detect_retina": false,
            "loading": false,
            "max_native_zoom": null,
            "max_zoom": 19,
            "min_native_zoom": null,
            "min_zoom": 1,
            "name": "OpenStreetMap.Mapnik",
            "no_wrap": false,
            "opacity": 1,
            "options": [
              "attribution",
              "bounds",
              "detect_retina",
              "max_native_zoom",
              "max_zoom",
              "min_native_zoom",
              "min_zoom",
              "no_wrap",
              "tile_size",
              "tms",
              "zoom_offset"
            ],
            "pane": "",
            "popup": null,
            "popup_max_height": null,
            "popup_max_width": 300,
            "popup_min_width": 50,
            "show_loading": false,
            "subitems": [],
            "tile_size": 256,
            "tms": false,
            "url": "https://tile.openstreetmap.org/{z}/{x}/{y}.png",
            "visible": true,
            "zoom_offset": 0
          }
        },
        "9c588c7caa2341c8adc6dc34ba50719a": {
          "model_module": "jupyter-leaflet",
          "model_name": "LeafletTileLayerModel",
          "model_module_version": "^0.19",
          "state": {
            "_model_module": "jupyter-leaflet",
            "_model_module_version": "^0.19",
            "_model_name": "LeafletTileLayerModel",
            "_view_count": null,
            "_view_module": "jupyter-leaflet",
            "_view_module_version": "^0.19",
            "_view_name": "LeafletTileLayerView",
            "attribution": "Google Earth Engine",
            "base": false,
            "bottom": true,
            "bounds": null,
            "detect_retina": false,
            "loading": false,
            "max_native_zoom": null,
            "max_zoom": 24,
            "min_native_zoom": null,
            "min_zoom": 0,
            "name": "AOI",
            "no_wrap": false,
            "opacity": 1,
            "options": [
              "attribution",
              "bounds",
              "detect_retina",
              "max_native_zoom",
              "max_zoom",
              "min_native_zoom",
              "min_zoom",
              "no_wrap",
              "tile_size",
              "tms",
              "zoom_offset"
            ],
            "pane": "",
            "popup": null,
            "popup_max_height": null,
            "popup_max_width": 300,
            "popup_min_width": 50,
            "show_loading": false,
            "subitems": [],
            "tile_size": 256,
            "tms": false,
            "url": "https://earthengine.googleapis.com/v1/projects/murphys-deforisk/maps/d29d554c2cd6166878b07210e923b137-96054db611c9807fdb506124478315c6/tiles/{z}/{x}/{y}",
            "visible": true,
            "zoom_offset": 0
          }
        },
        "6573e2f5d96c4fa7a8e23f2f825666c4": {
          "model_module": "jupyter-leaflet",
          "model_name": "LeafletLayerGroupModel",
          "model_module_version": "^0.19",
          "state": {
            "_model_module": "jupyter-leaflet",
            "_model_module_version": "^0.19",
            "_model_name": "LeafletLayerGroupModel",
            "_view_count": null,
            "_view_module": "jupyter-leaflet",
            "_view_module_version": "^0.19",
            "_view_name": "LeafletLayerGroupView",
            "base": false,
            "bottom": false,
            "layers": [
              "IPY_MODEL_48d7a192892648b6b19b6a765f5030b7",
              "IPY_MODEL_fb66739e2d36469d8517417a0c45a39f",
              "IPY_MODEL_d8419a681b94436d9e24e2718589d507"
            ],
            "name": "Labels",
            "options": [],
            "pane": "",
            "popup": null,
            "popup_max_height": null,
            "popup_max_width": 300,
            "popup_min_width": 50,
            "subitems": []
          }
        },
        "f24f0070b7aa48b7beba3b4a9abbb5d7": {
          "model_module": "@jupyter-widgets/base",
          "model_name": "LayoutModel",
          "model_module_version": "1.2.0",
          "state": {
            "_model_module": "@jupyter-widgets/base",
            "_model_module_version": "1.2.0",
            "_model_name": "LayoutModel",
            "_view_count": null,
            "_view_module": "@jupyter-widgets/base",
            "_view_module_version": "1.2.0",
            "_view_name": "LayoutView",
            "align_content": null,
            "align_items": null,
            "align_self": null,
            "border": null,
            "bottom": null,
            "display": null,
            "flex": null,
            "flex_flow": null,
            "grid_area": null,
            "grid_auto_columns": null,
            "grid_auto_flow": null,
            "grid_auto_rows": null,
            "grid_column": null,
            "grid_gap": null,
            "grid_row": null,
            "grid_template_areas": null,
            "grid_template_columns": null,
            "grid_template_rows": null,
            "height": "600px",
            "justify_content": null,
            "justify_items": null,
            "left": null,
            "margin": null,
            "max_height": null,
            "max_width": null,
            "min_height": null,
            "min_width": null,
            "object_fit": null,
            "object_position": null,
            "order": null,
            "overflow": null,
            "overflow_x": null,
            "overflow_y": null,
            "padding": null,
            "right": null,
            "top": null,
            "visibility": null,
            "width": null
          }
        },
        "f4ab09c6f0b84c499b61d07bb199827d": {
          "model_module": "jupyter-leaflet",
          "model_name": "LeafletMapStyleModel",
          "model_module_version": "^0.19",
          "state": {
            "_model_module": "jupyter-leaflet",
            "_model_module_version": "^0.19",
            "_model_name": "LeafletMapStyleModel",
            "_view_count": null,
            "_view_module": "@jupyter-widgets/base",
            "_view_module_version": "1.2.0",
            "_view_name": "StyleView",
            "cursor": "grab"
          }
        },
        "34711cbaab444b42821aa9c112bc3753": {
          "model_module": "@jupyter-widgets/controls",
          "model_name": "HBoxModel",
          "model_module_version": "1.5.0",
          "state": {
            "_dom_classes": [],
            "_model_module": "@jupyter-widgets/controls",
            "_model_module_version": "1.5.0",
            "_model_name": "HBoxModel",
            "_view_count": null,
            "_view_module": "@jupyter-widgets/controls",
            "_view_module_version": "1.5.0",
            "_view_name": "HBoxView",
            "box_style": "",
            "children": [
              "IPY_MODEL_79be16d3950f4b5d9172ef290cd54b2f"
            ],
            "layout": "IPY_MODEL_e41be4c06bc246438ebd99660a50d300"
          }
        },
        "2fe1b7540e69436fb225da41e16e2d7b": {
          "model_module": "@jupyter-widgets/controls",
          "model_name": "VBoxModel",
          "model_module_version": "1.5.0",
          "state": {
            "_dom_classes": [],
            "_model_module": "@jupyter-widgets/controls",
            "_model_module_version": "1.5.0",
            "_model_name": "VBoxModel",
            "_view_count": null,
            "_view_module": "@jupyter-widgets/controls",
            "_view_module_version": "1.5.0",
            "_view_name": "VBoxView",
            "box_style": "",
            "children": [
              "IPY_MODEL_f3116adb6bfa4e0d991313487d103947"
            ],
            "layout": "IPY_MODEL_60eac637dcdb4021a8f0e768f328baf4"
          }
        },
        "48d7a192892648b6b19b6a765f5030b7": {
          "model_module": "jupyter-leaflet",
          "model_name": "LeafletMarkerModel",
          "model_module_version": "^0.19",
          "state": {
            "_model_module": "jupyter-leaflet",
            "_model_module_version": "^0.19",
            "_model_name": "LeafletMarkerModel",
            "_view_count": null,
            "_view_module": "jupyter-leaflet",
            "_view_module_version": "^0.19",
            "_view_name": "LeafletMarkerView",
            "alt": "",
            "base": false,
            "bottom": false,
            "draggable": true,
            "icon": "IPY_MODEL_35c24f019bb64b119063cfd9616e4714",
            "keyboard": true,
            "location": [
              7.481450278116816,
              -10.820652688085236
            ],
            "name": "",
            "opacity": 1,
            "options": [
              "alt",
              "draggable",
              "keyboard",
              "rise_offset",
              "rise_on_hover",
              "rotation_angle",
              "rotation_origin",
              "title",
              "z_index_offset"
            ],
            "pane": "",
            "popup": null,
            "popup_max_height": null,
            "popup_max_width": 300,
            "popup_min_width": 50,
            "rise_offset": 250,
            "rise_on_hover": false,
            "rotation_angle": 0,
            "rotation_origin": "",
            "subitems": [],
            "title": "",
            "visible": true,
            "z_index_offset": 0
          }
        },
        "fb66739e2d36469d8517417a0c45a39f": {
          "model_module": "jupyter-leaflet",
          "model_name": "LeafletMarkerModel",
          "model_module_version": "^0.19",
          "state": {
            "_model_module": "jupyter-leaflet",
            "_model_module_version": "^0.19",
            "_model_name": "LeafletMarkerModel",
            "_view_count": null,
            "_view_module": "jupyter-leaflet",
            "_view_module_version": "^0.19",
            "_view_name": "LeafletMarkerView",
            "alt": "",
            "base": false,
            "bottom": false,
            "draggable": true,
            "icon": "IPY_MODEL_b3be739ce176477d95071a2c39fed696",
            "keyboard": true,
            "location": [
              7.670119443690406,
              -10.59071362437815
            ],
            "name": "",
            "opacity": 1,
            "options": [
              "alt",
              "draggable",
              "keyboard",
              "rise_offset",
              "rise_on_hover",
              "rotation_angle",
              "rotation_origin",
              "title",
              "z_index_offset"
            ],
            "pane": "",
            "popup": null,
            "popup_max_height": null,
            "popup_max_width": 300,
            "popup_min_width": 50,
            "rise_offset": 250,
            "rise_on_hover": false,
            "rotation_angle": 0,
            "rotation_origin": "",
            "subitems": [],
            "title": "",
            "visible": true,
            "z_index_offset": 0
          }
        },
        "d8419a681b94436d9e24e2718589d507": {
          "model_module": "jupyter-leaflet",
          "model_name": "LeafletMarkerModel",
          "model_module_version": "^0.19",
          "state": {
            "_model_module": "jupyter-leaflet",
            "_model_module_version": "^0.19",
            "_model_name": "LeafletMarkerModel",
            "_view_count": null,
            "_view_module": "jupyter-leaflet",
            "_view_module_version": "^0.19",
            "_view_name": "LeafletMarkerView",
            "alt": "",
            "base": false,
            "bottom": false,
            "draggable": true,
            "icon": "IPY_MODEL_80ce631495f64734abe1f796c43ebd8d",
            "keyboard": true,
            "location": [
              7.797196380515737,
              -10.573157831793349
            ],
            "name": "",
            "opacity": 1,
            "options": [
              "alt",
              "draggable",
              "keyboard",
              "rise_offset",
              "rise_on_hover",
              "rotation_angle",
              "rotation_origin",
              "title",
              "z_index_offset"
            ],
            "pane": "",
            "popup": null,
            "popup_max_height": null,
            "popup_max_width": 300,
            "popup_min_width": 50,
            "rise_offset": 250,
            "rise_on_hover": false,
            "rotation_angle": 0,
            "rotation_origin": "",
            "subitems": [],
            "title": "",
            "visible": true,
            "z_index_offset": 0
          }
        },
        "79be16d3950f4b5d9172ef290cd54b2f": {
          "model_module": "@jupyter-widgets/controls",
          "model_name": "ToggleButtonModel",
          "model_module_version": "1.5.0",
          "state": {
            "_dom_classes": [],
            "_model_module": "@jupyter-widgets/controls",
            "_model_module_version": "1.5.0",
            "_model_name": "ToggleButtonModel",
            "_view_count": null,
            "_view_module": "@jupyter-widgets/controls",
            "_view_module_version": "1.5.0",
            "_view_name": "ToggleButtonView",
            "button_style": "",
            "description": "",
            "description_tooltip": null,
            "disabled": false,
            "icon": "globe",
            "layout": "IPY_MODEL_5a53aa1e0f124de3b39da53ac163710a",
            "style": "IPY_MODEL_44c966d8b1264fa4aced2473d08dec77",
            "tooltip": "Search location/data",
            "value": false
          }
        },
        "e41be4c06bc246438ebd99660a50d300": {
          "model_module": "@jupyter-widgets/base",
          "model_name": "LayoutModel",
          "model_module_version": "1.2.0",
          "state": {
            "_model_module": "@jupyter-widgets/base",
            "_model_module_version": "1.2.0",
            "_model_name": "LayoutModel",
            "_view_count": null,
            "_view_module": "@jupyter-widgets/base",
            "_view_module_version": "1.2.0",
            "_view_name": "LayoutView",
            "align_content": null,
            "align_items": null,
            "align_self": null,
            "border": null,
            "bottom": null,
            "display": null,
            "flex": null,
            "flex_flow": null,
            "grid_area": null,
            "grid_auto_columns": null,
            "grid_auto_flow": null,
            "grid_auto_rows": null,
            "grid_column": null,
            "grid_gap": null,
            "grid_row": null,
            "grid_template_areas": null,
            "grid_template_columns": null,
            "grid_template_rows": null,
            "height": null,
            "justify_content": null,
            "justify_items": null,
            "left": null,
            "margin": null,
            "max_height": null,
            "max_width": null,
            "min_height": null,
            "min_width": null,
            "object_fit": null,
            "object_position": null,
            "order": null,
            "overflow": null,
            "overflow_x": null,
            "overflow_y": null,
            "padding": null,
            "right": null,
            "top": null,
            "visibility": null,
            "width": null
          }
        },
        "f3116adb6bfa4e0d991313487d103947": {
          "model_module": "@jupyter-widgets/controls",
          "model_name": "ToggleButtonModel",
          "model_module_version": "1.5.0",
          "state": {
            "_dom_classes": [],
            "_model_module": "@jupyter-widgets/controls",
            "_model_module_version": "1.5.0",
            "_model_name": "ToggleButtonModel",
            "_view_count": null,
            "_view_module": "@jupyter-widgets/controls",
            "_view_module_version": "1.5.0",
            "_view_name": "ToggleButtonView",
            "button_style": "",
            "description": "",
            "description_tooltip": null,
            "disabled": false,
            "icon": "wrench",
            "layout": "IPY_MODEL_622cc2f4347c4ac69900142da69172d6",
            "style": "IPY_MODEL_9a26c73efb15480cbf6f6011d4caab8a",
            "tooltip": "Toolbar",
            "value": false
          }
        },
        "60eac637dcdb4021a8f0e768f328baf4": {
          "model_module": "@jupyter-widgets/base",
          "model_name": "LayoutModel",
          "model_module_version": "1.2.0",
          "state": {
            "_model_module": "@jupyter-widgets/base",
            "_model_module_version": "1.2.0",
            "_model_name": "LayoutModel",
            "_view_count": null,
            "_view_module": "@jupyter-widgets/base",
            "_view_module_version": "1.2.0",
            "_view_name": "LayoutView",
            "align_content": null,
            "align_items": null,
            "align_self": null,
            "border": null,
            "bottom": null,
            "display": null,
            "flex": null,
            "flex_flow": null,
            "grid_area": null,
            "grid_auto_columns": null,
            "grid_auto_flow": null,
            "grid_auto_rows": null,
            "grid_column": null,
            "grid_gap": null,
            "grid_row": null,
            "grid_template_areas": null,
            "grid_template_columns": null,
            "grid_template_rows": null,
            "height": null,
            "justify_content": null,
            "justify_items": null,
            "left": null,
            "margin": null,
            "max_height": null,
            "max_width": null,
            "min_height": null,
            "min_width": null,
            "object_fit": null,
            "object_position": null,
            "order": null,
            "overflow": null,
            "overflow_x": null,
            "overflow_y": null,
            "padding": null,
            "right": null,
            "top": null,
            "visibility": null,
            "width": null
          }
        },
        "35c24f019bb64b119063cfd9616e4714": {
          "model_module": "jupyter-leaflet",
          "model_name": "LeafletDivIconModel",
          "model_module_version": "^0.19",
          "state": {
            "_model_module": "jupyter-leaflet",
            "_model_module_version": "^0.19",
            "_model_name": "LeafletDivIconModel",
            "_view_count": null,
            "_view_module": "jupyter-leaflet",
            "_view_module_version": "^0.19",
            "_view_name": "LeafletDivIconView",
            "base": false,
            "bg_pos": [
              0,
              0
            ],
            "bottom": false,
            "html": "<div style=\"font-size: 9pt;color:red;font-family:arial;font-weight: bold\">Gola Forest National Park</div>",
            "icon_anchor": [
              9,
              9
            ],
            "icon_size": [
              1,
              1
            ],
            "name": "",
            "options": [
              "bg_pos",
              "html",
              "icon_anchor",
              "icon_size",
              "popup_anchor"
            ],
            "pane": "",
            "popup": null,
            "popup_anchor": [
              0,
              0
            ],
            "popup_max_height": null,
            "popup_max_width": 300,
            "popup_min_width": 50,
            "subitems": []
          }
        },
        "b3be739ce176477d95071a2c39fed696": {
          "model_module": "jupyter-leaflet",
          "model_name": "LeafletDivIconModel",
          "model_module_version": "^0.19",
          "state": {
            "_model_module": "jupyter-leaflet",
            "_model_module_version": "^0.19",
            "_model_name": "LeafletDivIconModel",
            "_view_count": null,
            "_view_module": "jupyter-leaflet",
            "_view_module_version": "^0.19",
            "_view_name": "LeafletDivIconView",
            "base": false,
            "bg_pos": [
              0,
              0
            ],
            "bottom": false,
            "html": "<div style=\"font-size: 9pt;color:red;font-family:arial;font-weight: bold\">Tonglay</div>",
            "icon_anchor": [
              9,
              9
            ],
            "icon_size": [
              1,
              1
            ],
            "name": "",
            "options": [
              "bg_pos",
              "html",
              "icon_anchor",
              "icon_size",
              "popup_anchor"
            ],
            "pane": "",
            "popup": null,
            "popup_anchor": [
              0,
              0
            ],
            "popup_max_height": null,
            "popup_max_width": 300,
            "popup_min_width": 50,
            "subitems": []
          }
        },
        "80ce631495f64734abe1f796c43ebd8d": {
          "model_module": "jupyter-leaflet",
          "model_name": "LeafletDivIconModel",
          "model_module_version": "^0.19",
          "state": {
            "_model_module": "jupyter-leaflet",
            "_model_module_version": "^0.19",
            "_model_name": "LeafletDivIconModel",
            "_view_count": null,
            "_view_module": "jupyter-leaflet",
            "_view_module_version": "^0.19",
            "_view_name": "LeafletDivIconView",
            "base": false,
            "bg_pos": [
              0,
              0
            ],
            "bottom": false,
            "html": "<div style=\"font-size: 9pt;color:red;font-family:arial;font-weight: bold\">Norman</div>",
            "icon_anchor": [
              9,
              9
            ],
            "icon_size": [
              1,
              1
            ],
            "name": "",
            "options": [
              "bg_pos",
              "html",
              "icon_anchor",
              "icon_size",
              "popup_anchor"
            ],
            "pane": "",
            "popup": null,
            "popup_anchor": [
              0,
              0
            ],
            "popup_max_height": null,
            "popup_max_width": 300,
            "popup_min_width": 50,
            "subitems": []
          }
        },
        "5a53aa1e0f124de3b39da53ac163710a": {
          "model_module": "@jupyter-widgets/base",
          "model_name": "LayoutModel",
          "model_module_version": "1.2.0",
          "state": {
            "_model_module": "@jupyter-widgets/base",
            "_model_module_version": "1.2.0",
            "_model_name": "LayoutModel",
            "_view_count": null,
            "_view_module": "@jupyter-widgets/base",
            "_view_module_version": "1.2.0",
            "_view_name": "LayoutView",
            "align_content": null,
            "align_items": null,
            "align_self": null,
            "border": null,
            "bottom": null,
            "display": null,
            "flex": null,
            "flex_flow": null,
            "grid_area": null,
            "grid_auto_columns": null,
            "grid_auto_flow": null,
            "grid_auto_rows": null,
            "grid_column": null,
            "grid_gap": null,
            "grid_row": null,
            "grid_template_areas": null,
            "grid_template_columns": null,
            "grid_template_rows": null,
            "height": "28px",
            "justify_content": null,
            "justify_items": null,
            "left": null,
            "margin": null,
            "max_height": null,
            "max_width": null,
            "min_height": null,
            "min_width": null,
            "object_fit": null,
            "object_position": null,
            "order": null,
            "overflow": null,
            "overflow_x": null,
            "overflow_y": null,
            "padding": "0px 0px 0px 4px",
            "right": null,
            "top": null,
            "visibility": null,
            "width": "28px"
          }
        },
        "44c966d8b1264fa4aced2473d08dec77": {
          "model_module": "@jupyter-widgets/controls",
          "model_name": "DescriptionStyleModel",
          "model_module_version": "1.5.0",
          "state": {
            "_model_module": "@jupyter-widgets/controls",
            "_model_module_version": "1.5.0",
            "_model_name": "DescriptionStyleModel",
            "_view_count": null,
            "_view_module": "@jupyter-widgets/base",
            "_view_module_version": "1.2.0",
            "_view_name": "StyleView",
            "description_width": ""
          }
        },
        "622cc2f4347c4ac69900142da69172d6": {
          "model_module": "@jupyter-widgets/base",
          "model_name": "LayoutModel",
          "model_module_version": "1.2.0",
          "state": {
            "_model_module": "@jupyter-widgets/base",
            "_model_module_version": "1.2.0",
            "_model_name": "LayoutModel",
            "_view_count": null,
            "_view_module": "@jupyter-widgets/base",
            "_view_module_version": "1.2.0",
            "_view_name": "LayoutView",
            "align_content": null,
            "align_items": null,
            "align_self": null,
            "border": null,
            "bottom": null,
            "display": null,
            "flex": null,
            "flex_flow": null,
            "grid_area": null,
            "grid_auto_columns": null,
            "grid_auto_flow": null,
            "grid_auto_rows": null,
            "grid_column": null,
            "grid_gap": null,
            "grid_row": null,
            "grid_template_areas": null,
            "grid_template_columns": null,
            "grid_template_rows": null,
            "height": "28px",
            "justify_content": null,
            "justify_items": null,
            "left": null,
            "margin": null,
            "max_height": null,
            "max_width": null,
            "min_height": null,
            "min_width": null,
            "object_fit": null,
            "object_position": null,
            "order": null,
            "overflow": null,
            "overflow_x": null,
            "overflow_y": null,
            "padding": "0px 0px 0px 4px",
            "right": null,
            "top": null,
            "visibility": null,
            "width": "28px"
          }
        },
        "9a26c73efb15480cbf6f6011d4caab8a": {
          "model_module": "@jupyter-widgets/controls",
          "model_name": "DescriptionStyleModel",
          "model_module_version": "1.5.0",
          "state": {
            "_model_module": "@jupyter-widgets/controls",
            "_model_module_version": "1.5.0",
            "_model_name": "DescriptionStyleModel",
            "_view_count": null,
            "_view_module": "@jupyter-widgets/base",
            "_view_module_version": "1.2.0",
            "_view_name": "StyleView",
            "description_width": ""
          }
        },
        "5edb5699ab874e82aa88bbea7e720149": {
          "model_module": "jupyter-leaflet",
          "model_name": "LeafletMapModel",
          "model_module_version": "^0.19",
          "state": {
            "_dom_classes": [],
            "_model_module": "jupyter-leaflet",
            "_model_module_version": "^0.19",
            "_model_name": "LeafletMapModel",
            "_view_count": null,
            "_view_module": "jupyter-leaflet",
            "_view_module_version": "^0.19",
            "_view_name": "LeafletMapView",
            "bottom": 251575,
            "bounce_at_zoom_limits": true,
            "box_zoom": true,
            "center": [
              7.442130121842058,
              -10.766357279710046
            ],
            "close_popup_on_click": true,
            "controls": [
              "IPY_MODEL_8e4513338c90418ba907545ffc8d1f6c",
              "IPY_MODEL_dcd36ba865ae41f6b819c248d27c1010",
              "IPY_MODEL_af6b2e52a27547868972b9ecbfeca8ed",
              "IPY_MODEL_afe7b4b783f04e6887e78aab4b3eb5e0",
              "IPY_MODEL_57a2c5dbdc9e4fbeb39b06ac9e3554ca",
              "IPY_MODEL_c8668603cda943cfaede575186ef4cf8",
              "IPY_MODEL_581e797e25ad40b68f647353662ec863",
              "IPY_MODEL_cae51b51c7f04142b439ad5638f5b0ae",
              "IPY_MODEL_099beef77bb54e7f9810ee20a3d66bc5"
            ],
            "crs": {
              "name": "EPSG3857",
              "custom": false
            },
            "default_style": "IPY_MODEL_1f110acaaccf4b9697fa96c12c349ee3",
            "double_click_zoom": true,
            "dragging": true,
            "dragging_style": "IPY_MODEL_3ea817ad9d8e4b93b3781919ea3eed3c",
            "east": -10.458984375000002,
            "fullscreen": false,
            "inertia": true,
            "inertia_deceleration": 3000,
            "inertia_max_speed": 1500,
            "interpolation": "bilinear",
            "keyboard": true,
            "keyboard_pan_offset": 80,
            "keyboard_zoom_offset": 1,
            "layers": [
              "IPY_MODEL_2b4351d099244961b15da00231c4df65",
              "IPY_MODEL_3907d836b3ca46178a1aadb55643a236",
              "IPY_MODEL_1be32bde82d444b6ae7fbd5365f63a0c",
              "IPY_MODEL_e10207b65ade4bc8b489fc71ab28cd2b",
              "IPY_MODEL_761dccf1220745ebb399e10f2be77156",
              "IPY_MODEL_4e76f1c703a94c84b29ff799e459d575",
              "IPY_MODEL_efaacb3b0a1f4830aefc133bdd37194a"
            ],
            "layout": "IPY_MODEL_b1a9751db0384de3a32636f39353bde9",
            "left": 246017,
            "max_zoom": 24,
            "min_zoom": null,
            "modisdate": "2025-01-24",
            "north": 7.646345264052151,
            "options": [
              "bounce_at_zoom_limits",
              "box_zoom",
              "center",
              "close_popup_on_click",
              "double_click_zoom",
              "dragging",
              "fullscreen",
              "inertia",
              "inertia_deceleration",
              "inertia_max_speed",
              "interpolation",
              "keyboard",
              "keyboard_pan_offset",
              "keyboard_zoom_offset",
              "max_zoom",
              "min_zoom",
              "prefer_canvas",
              "scroll_wheel_zoom",
              "tap",
              "tap_tolerance",
              "touch_zoom",
              "world_copy_jump",
              "zoom",
              "zoom_animation_threshold",
              "zoom_delta",
              "zoom_snap"
            ],
            "panes": {},
            "prefer_canvas": false,
            "right": 246912,
            "scroll_wheel_zoom": true,
            "south": 7.237829317214922,
            "style": "IPY_MODEL_1f110acaaccf4b9697fa96c12c349ee3",
            "tap": true,
            "tap_tolerance": 15,
            "top": 250975,
            "touch_zoom": true,
            "west": -11.07353210449219,
            "window_url": "https://i4gupzig9js-496ff2e9c6d22116-0-colab.googleusercontent.com/outputframe.html?vrz=colab_20250123-060139_RC00_718795096",
            "world_copy_jump": false,
            "zoom": 11,
            "zoom_animation_threshold": 4,
            "zoom_delta": 1,
            "zoom_snap": 1
          }
        },
        "8e4513338c90418ba907545ffc8d1f6c": {
          "model_module": "jupyter-leaflet",
          "model_name": "LeafletWidgetControlModel",
          "model_module_version": "^0.19",
          "state": {
            "_model_module": "jupyter-leaflet",
            "_model_module_version": "^0.19",
            "_model_name": "LeafletWidgetControlModel",
            "_view_count": null,
            "_view_module": "jupyter-leaflet",
            "_view_module_version": "^0.19",
            "_view_name": "LeafletWidgetControlView",
            "max_height": null,
            "max_width": null,
            "min_height": null,
            "min_width": null,
            "options": [
              "position",
              "transparent_bg"
            ],
            "position": "topleft",
            "transparent_bg": false,
            "widget": "IPY_MODEL_19ebd7062a834df6a5c7fd9b690cdc3a"
          }
        },
        "dcd36ba865ae41f6b819c248d27c1010": {
          "model_module": "jupyter-leaflet",
          "model_name": "LeafletZoomControlModel",
          "model_module_version": "^0.19",
          "state": {
            "_model_module": "jupyter-leaflet",
            "_model_module_version": "^0.19",
            "_model_name": "LeafletZoomControlModel",
            "_view_count": null,
            "_view_module": "jupyter-leaflet",
            "_view_module_version": "^0.19",
            "_view_name": "LeafletZoomControlView",
            "options": [
              "position",
              "zoom_in_text",
              "zoom_in_title",
              "zoom_out_text",
              "zoom_out_title"
            ],
            "position": "topleft",
            "zoom_in_text": "+",
            "zoom_in_title": "Zoom in",
            "zoom_out_text": "-",
            "zoom_out_title": "Zoom out"
          }
        },
        "af6b2e52a27547868972b9ecbfeca8ed": {
          "model_module": "jupyter-leaflet",
          "model_name": "LeafletScaleControlModel",
          "model_module_version": "^0.19",
          "state": {
            "_model_module": "jupyter-leaflet",
            "_model_module_version": "^0.19",
            "_model_name": "LeafletScaleControlModel",
            "_view_count": null,
            "_view_module": "jupyter-leaflet",
            "_view_module_version": "^0.19",
            "_view_name": "LeafletScaleControlView",
            "imperial": true,
            "max_width": 100,
            "metric": true,
            "options": [
              "imperial",
              "max_width",
              "metric",
              "position",
              "update_when_idle"
            ],
            "position": "bottomleft",
            "update_when_idle": false
          }
        },
        "afe7b4b783f04e6887e78aab4b3eb5e0": {
          "model_module": "jupyter-leaflet",
          "model_name": "LeafletFullScreenControlModel",
          "model_module_version": "^0.19",
          "state": {
            "_model_module": "jupyter-leaflet",
            "_model_module_version": "^0.19",
            "_model_name": "LeafletFullScreenControlModel",
            "_view_count": null,
            "_view_module": "jupyter-leaflet",
            "_view_module_version": "^0.19",
            "_view_name": "LeafletFullScreenControlView",
            "options": [
              "position"
            ],
            "position": "topleft"
          }
        },
        "57a2c5dbdc9e4fbeb39b06ac9e3554ca": {
          "model_module": "jupyter-leaflet",
          "model_name": "LeafletMeasureControlModel",
          "model_module_version": "^0.19",
          "state": {
            "_custom_units": {},
            "_model_module": "jupyter-leaflet",
            "_model_module_version": "^0.19",
            "_model_name": "LeafletMeasureControlModel",
            "_view_count": null,
            "_view_module": "jupyter-leaflet",
            "_view_module_version": "^0.19",
            "_view_name": "LeafletMeasureControlView",
            "active_color": "orange",
            "capture_z_index": 10000,
            "completed_color": "#C8F2BE",
            "options": [
              "active_color",
              "capture_z_index",
              "completed_color",
              "popup_options",
              "position",
              "primary_area_unit",
              "primary_length_unit",
              "secondary_area_unit",
              "secondary_length_unit"
            ],
            "popup_options": {
              "className": "leaflet-measure-resultpopup",
              "autoPanPadding": [
                10,
                10
              ]
            },
            "position": "bottomleft",
            "primary_area_unit": "acres",
            "primary_length_unit": "kilometers",
            "secondary_area_unit": null,
            "secondary_length_unit": null
          }
        },
        "c8668603cda943cfaede575186ef4cf8": {
          "model_module": "jupyter-leaflet",
          "model_name": "LeafletAttributionControlModel",
          "model_module_version": "^0.19",
          "state": {
            "_model_module": "jupyter-leaflet",
            "_model_module_version": "^0.19",
            "_model_name": "LeafletAttributionControlModel",
            "_view_count": null,
            "_view_module": "jupyter-leaflet",
            "_view_module_version": "^0.19",
            "_view_name": "LeafletAttributionControlView",
            "options": [
              "position",
              "prefix"
            ],
            "position": "bottomright",
            "prefix": "ipyleaflet"
          }
        },
        "581e797e25ad40b68f647353662ec863": {
          "model_module": "jupyter-leaflet",
          "model_name": "LeafletDrawControlModel",
          "model_module_version": "^0.19",
          "state": {
            "_model_module": "jupyter-leaflet",
            "_model_module_version": "^0.19",
            "_model_name": "LeafletDrawControlModel",
            "_view_count": null,
            "_view_module": "jupyter-leaflet",
            "_view_module_version": "^0.19",
            "_view_name": "LeafletDrawControlView",
            "circle": {
              "shapeOptions": {
                "color": "#3388ff"
              }
            },
            "circlemarker": {},
            "data": [],
            "edit": true,
            "marker": {
              "shapeOptions": {
                "color": "#3388ff"
              }
            },
            "options": [
              "position"
            ],
            "polygon": {
              "shapeOptions": {}
            },
            "polyline": {
              "shapeOptions": {}
            },
            "position": "topleft",
            "rectangle": {
              "shapeOptions": {
                "color": "#3388ff"
              }
            },
            "remove": true
          }
        },
        "cae51b51c7f04142b439ad5638f5b0ae": {
          "model_module": "jupyter-leaflet",
          "model_name": "LeafletWidgetControlModel",
          "model_module_version": "^0.19",
          "state": {
            "_model_module": "jupyter-leaflet",
            "_model_module_version": "^0.19",
            "_model_name": "LeafletWidgetControlModel",
            "_view_count": null,
            "_view_module": "jupyter-leaflet",
            "_view_module_version": "^0.19",
            "_view_name": "LeafletWidgetControlView",
            "max_height": null,
            "max_width": null,
            "min_height": null,
            "min_width": null,
            "options": [
              "position",
              "transparent_bg"
            ],
            "position": "topright",
            "transparent_bg": false,
            "widget": "IPY_MODEL_8160a7892d754f4d8def6a3bfd5cb844"
          }
        },
        "099beef77bb54e7f9810ee20a3d66bc5": {
          "model_module": "jupyter-leaflet",
          "model_name": "LeafletWidgetControlModel",
          "model_module_version": "^0.19",
          "state": {
            "_model_module": "jupyter-leaflet",
            "_model_module_version": "^0.19",
            "_model_name": "LeafletWidgetControlModel",
            "_view_count": null,
            "_view_module": "jupyter-leaflet",
            "_view_module_version": "^0.19",
            "_view_name": "LeafletWidgetControlView",
            "max_height": null,
            "max_width": null,
            "min_height": null,
            "min_width": null,
            "options": [
              "position",
              "transparent_bg"
            ],
            "position": "bottomright",
            "transparent_bg": false,
            "widget": "IPY_MODEL_420d7315ff6e4da5a7e53db0adec2f72"
          }
        },
        "1f110acaaccf4b9697fa96c12c349ee3": {
          "model_module": "jupyter-leaflet",
          "model_name": "LeafletMapStyleModel",
          "model_module_version": "^0.19",
          "state": {
            "_model_module": "jupyter-leaflet",
            "_model_module_version": "^0.19",
            "_model_name": "LeafletMapStyleModel",
            "_view_count": null,
            "_view_module": "@jupyter-widgets/base",
            "_view_module_version": "1.2.0",
            "_view_name": "StyleView",
            "cursor": "grab"
          }
        },
        "3ea817ad9d8e4b93b3781919ea3eed3c": {
          "model_module": "jupyter-leaflet",
          "model_name": "LeafletMapStyleModel",
          "model_module_version": "^0.19",
          "state": {
            "_model_module": "jupyter-leaflet",
            "_model_module_version": "^0.19",
            "_model_name": "LeafletMapStyleModel",
            "_view_count": null,
            "_view_module": "@jupyter-widgets/base",
            "_view_module_version": "1.2.0",
            "_view_name": "StyleView",
            "cursor": "move"
          }
        },
        "2b4351d099244961b15da00231c4df65": {
          "model_module": "jupyter-leaflet",
          "model_name": "LeafletTileLayerModel",
          "model_module_version": "^0.19",
          "state": {
            "_model_module": "jupyter-leaflet",
            "_model_module_version": "^0.19",
            "_model_name": "LeafletTileLayerModel",
            "_view_count": null,
            "_view_module": "jupyter-leaflet",
            "_view_module_version": "^0.19",
            "_view_name": "LeafletTileLayerView",
            "attribution": "&copy; <a href=\"https://www.openstreetmap.org/copyright\">OpenStreetMap</a> contributors",
            "base": true,
            "bottom": true,
            "bounds": null,
            "detect_retina": false,
            "loading": false,
            "max_native_zoom": null,
            "max_zoom": 19,
            "min_native_zoom": null,
            "min_zoom": 1,
            "name": "OpenStreetMap.Mapnik",
            "no_wrap": false,
            "opacity": 1,
            "options": [
              "attribution",
              "bounds",
              "detect_retina",
              "max_native_zoom",
              "max_zoom",
              "min_native_zoom",
              "min_zoom",
              "no_wrap",
              "tile_size",
              "tms",
              "zoom_offset"
            ],
            "pane": "",
            "popup": null,
            "popup_max_height": null,
            "popup_max_width": 300,
            "popup_min_width": 50,
            "show_loading": false,
            "subitems": [],
            "tile_size": 256,
            "tms": false,
            "url": "https://tile.openstreetmap.org/{z}/{x}/{y}.png",
            "visible": true,
            "zoom_offset": 0
          }
        },
        "e10207b65ade4bc8b489fc71ab28cd2b": {
          "model_module": "jupyter-leaflet",
          "model_name": "LeafletTileLayerModel",
          "model_module_version": "^0.19",
          "state": {
            "_model_module": "jupyter-leaflet",
            "_model_module_version": "^0.19",
            "_model_name": "LeafletTileLayerModel",
            "_view_count": null,
            "_view_module": "jupyter-leaflet",
            "_view_module_version": "^0.19",
            "_view_name": "LeafletTileLayerView",
            "attribution": "Google Earth Engine",
            "base": false,
            "bottom": true,
            "bounds": null,
            "detect_retina": false,
            "loading": false,
            "max_native_zoom": null,
            "max_zoom": 24,
            "min_native_zoom": null,
            "min_zoom": 0,
            "name": "Land Cover 2015",
            "no_wrap": false,
            "opacity": 1,
            "options": [
              "attribution",
              "bounds",
              "detect_retina",
              "max_native_zoom",
              "max_zoom",
              "min_native_zoom",
              "min_zoom",
              "no_wrap",
              "tile_size",
              "tms",
              "zoom_offset"
            ],
            "pane": "",
            "popup": null,
            "popup_max_height": null,
            "popup_max_width": 300,
            "popup_min_width": 50,
            "show_loading": false,
            "subitems": [],
            "tile_size": 256,
            "tms": false,
            "url": "https://earthengine.googleapis.com/v1/projects/murphys-deforisk/maps/412aa465304546b4f910a5baa95596bb-8c3740492571076cb939f3a0c0211df4/tiles/{z}/{x}/{y}",
            "visible": true,
            "zoom_offset": 0
          }
        },
        "761dccf1220745ebb399e10f2be77156": {
          "model_module": "jupyter-leaflet",
          "model_name": "LeafletTileLayerModel",
          "model_module_version": "^0.19",
          "state": {
            "_model_module": "jupyter-leaflet",
            "_model_module_version": "^0.19",
            "_model_name": "LeafletTileLayerModel",
            "_view_count": null,
            "_view_module": "jupyter-leaflet",
            "_view_module_version": "^0.19",
            "_view_name": "LeafletTileLayerView",
            "attribution": "Google Earth Engine",
            "base": false,
            "bottom": true,
            "bounds": null,
            "detect_retina": false,
            "loading": false,
            "max_native_zoom": null,
            "max_zoom": 24,
            "min_native_zoom": null,
            "min_zoom": 0,
            "name": "Land Cover 2019",
            "no_wrap": false,
            "opacity": 1,
            "options": [
              "attribution",
              "bounds",
              "detect_retina",
              "max_native_zoom",
              "max_zoom",
              "min_native_zoom",
              "min_zoom",
              "no_wrap",
              "tile_size",
              "tms",
              "zoom_offset"
            ],
            "pane": "",
            "popup": null,
            "popup_max_height": null,
            "popup_max_width": 300,
            "popup_min_width": 50,
            "show_loading": false,
            "subitems": [],
            "tile_size": 256,
            "tms": false,
            "url": "https://earthengine.googleapis.com/v1/projects/murphys-deforisk/maps/29b1d5b18fc589e2a495a0c13948eed1-403bd0ca0f9d163ab0f08418201934a7/tiles/{z}/{x}/{y}",
            "visible": true,
            "zoom_offset": 0
          }
        },
        "4e76f1c703a94c84b29ff799e459d575": {
          "model_module": "jupyter-leaflet",
          "model_name": "LeafletTileLayerModel",
          "model_module_version": "^0.19",
          "state": {
            "_model_module": "jupyter-leaflet",
            "_model_module_version": "^0.19",
            "_model_name": "LeafletTileLayerModel",
            "_view_count": null,
            "_view_module": "jupyter-leaflet",
            "_view_module_version": "^0.19",
            "_view_name": "LeafletTileLayerView",
            "attribution": "Google Earth Engine",
            "base": false,
            "bottom": true,
            "bounds": null,
            "detect_retina": false,
            "loading": false,
            "max_native_zoom": null,
            "max_zoom": 24,
            "min_native_zoom": null,
            "min_zoom": 0,
            "name": "Land Cover 2024",
            "no_wrap": false,
            "opacity": 1,
            "options": [
              "attribution",
              "bounds",
              "detect_retina",
              "max_native_zoom",
              "max_zoom",
              "min_native_zoom",
              "min_zoom",
              "no_wrap",
              "tile_size",
              "tms",
              "zoom_offset"
            ],
            "pane": "",
            "popup": null,
            "popup_max_height": null,
            "popup_max_width": 300,
            "popup_min_width": 50,
            "show_loading": false,
            "subitems": [],
            "tile_size": 256,
            "tms": false,
            "url": "https://earthengine.googleapis.com/v1/projects/murphys-deforisk/maps/c8911f48e22edc36c3baffd4ffd901d3-13973b117b62f9117d9aac8385452544/tiles/{z}/{x}/{y}",
            "visible": true,
            "zoom_offset": 0
          }
        },
        "efaacb3b0a1f4830aefc133bdd37194a": {
          "model_module": "jupyter-leaflet",
          "model_name": "LeafletTileLayerModel",
          "model_module_version": "^0.19",
          "state": {
            "_model_module": "jupyter-leaflet",
            "_model_module_version": "^0.19",
            "_model_name": "LeafletTileLayerModel",
            "_view_count": null,
            "_view_module": "jupyter-leaflet",
            "_view_module_version": "^0.19",
            "_view_name": "LeafletTileLayerView",
            "attribution": "Google Earth Engine",
            "base": false,
            "bottom": true,
            "bounds": null,
            "detect_retina": false,
            "loading": false,
            "max_native_zoom": null,
            "max_zoom": 24,
            "min_native_zoom": null,
            "min_zoom": 0,
            "name": "AOI",
            "no_wrap": false,
            "opacity": 1,
            "options": [
              "attribution",
              "bounds",
              "detect_retina",
              "max_native_zoom",
              "max_zoom",
              "min_native_zoom",
              "min_zoom",
              "no_wrap",
              "tile_size",
              "tms",
              "zoom_offset"
            ],
            "pane": "",
            "popup": null,
            "popup_max_height": null,
            "popup_max_width": 300,
            "popup_min_width": 50,
            "show_loading": false,
            "subitems": [],
            "tile_size": 256,
            "tms": false,
            "url": "https://earthengine.googleapis.com/v1/projects/murphys-deforisk/maps/d29d554c2cd6166878b07210e923b137-e29491a7acae4dcc8e33296a98932f42/tiles/{z}/{x}/{y}",
            "visible": true,
            "zoom_offset": 0
          }
        },
        "b1a9751db0384de3a32636f39353bde9": {
          "model_module": "@jupyter-widgets/base",
          "model_name": "LayoutModel",
          "model_module_version": "1.2.0",
          "state": {
            "_model_module": "@jupyter-widgets/base",
            "_model_module_version": "1.2.0",
            "_model_name": "LayoutModel",
            "_view_count": null,
            "_view_module": "@jupyter-widgets/base",
            "_view_module_version": "1.2.0",
            "_view_name": "LayoutView",
            "align_content": null,
            "align_items": null,
            "align_self": null,
            "border": null,
            "bottom": null,
            "display": null,
            "flex": null,
            "flex_flow": null,
            "grid_area": null,
            "grid_auto_columns": null,
            "grid_auto_flow": null,
            "grid_auto_rows": null,
            "grid_column": null,
            "grid_gap": null,
            "grid_row": null,
            "grid_template_areas": null,
            "grid_template_columns": null,
            "grid_template_rows": null,
            "height": "600px",
            "justify_content": null,
            "justify_items": null,
            "left": null,
            "margin": null,
            "max_height": null,
            "max_width": null,
            "min_height": null,
            "min_width": null,
            "object_fit": null,
            "object_position": null,
            "order": null,
            "overflow": null,
            "overflow_x": null,
            "overflow_y": null,
            "padding": null,
            "right": null,
            "top": null,
            "visibility": null,
            "width": null
          }
        },
        "a9db315ab636492cb50ee78a0455938d": {
          "model_module": "jupyter-leaflet",
          "model_name": "LeafletMapStyleModel",
          "model_module_version": "^0.19",
          "state": {
            "_model_module": "jupyter-leaflet",
            "_model_module_version": "^0.19",
            "_model_name": "LeafletMapStyleModel",
            "_view_count": null,
            "_view_module": "@jupyter-widgets/base",
            "_view_module_version": "1.2.0",
            "_view_name": "StyleView",
            "cursor": "grab"
          }
        },
        "19ebd7062a834df6a5c7fd9b690cdc3a": {
          "model_module": "@jupyter-widgets/controls",
          "model_name": "HBoxModel",
          "model_module_version": "1.5.0",
          "state": {
            "_dom_classes": [],
            "_model_module": "@jupyter-widgets/controls",
            "_model_module_version": "1.5.0",
            "_model_name": "HBoxModel",
            "_view_count": null,
            "_view_module": "@jupyter-widgets/controls",
            "_view_module_version": "1.5.0",
            "_view_name": "HBoxView",
            "box_style": "",
            "children": [
              "IPY_MODEL_0c8bea13b558483bb612b8008819709f"
            ],
            "layout": "IPY_MODEL_47e526dfa8ee461ea03d3846587c8224"
          }
        },
        "8160a7892d754f4d8def6a3bfd5cb844": {
          "model_module": "@jupyter-widgets/controls",
          "model_name": "VBoxModel",
          "model_module_version": "1.5.0",
          "state": {
            "_dom_classes": [],
            "_model_module": "@jupyter-widgets/controls",
            "_model_module_version": "1.5.0",
            "_model_name": "VBoxModel",
            "_view_count": null,
            "_view_module": "@jupyter-widgets/controls",
            "_view_module_version": "1.5.0",
            "_view_name": "VBoxView",
            "box_style": "",
            "children": [
              "IPY_MODEL_b4f0c8651b2644d38f0360288aace9a5"
            ],
            "layout": "IPY_MODEL_1fbb1ad3a50042e6a0d037205d2b7e95"
          }
        },
        "420d7315ff6e4da5a7e53db0adec2f72": {
          "model_module": "@jupyter-widgets/output",
          "model_name": "OutputModel",
          "model_module_version": "1.0.0",
          "state": {
            "_dom_classes": [],
            "_model_module": "@jupyter-widgets/output",
            "_model_module_version": "1.0.0",
            "_model_name": "OutputModel",
            "_view_count": null,
            "_view_module": "@jupyter-widgets/output",
            "_view_module_version": "1.0.0",
            "_view_name": "OutputView",
            "layout": "IPY_MODEL_2a703b1cfe9c4ad6b6e10ecdb1f30bb8",
            "msg_id": "",
            "outputs": [
              {
                "output_type": "display_data",
                "data": {
                  "text/plain": "HTML(value=\"<html>\\n<body>\\n  <div class='my-legend'>\\n  <div class='legend-title'>Legend</div>\\n  <div class=…",
                  "application/vnd.jupyter.widget-view+json": {
                    "version_major": 2,
                    "version_minor": 0,
                    "model_id": "89e4c85264d24fb7ba33c8c736ca3bd2"
                  }
                },
                "metadata": {
                  "application/vnd.jupyter.widget-view+json": {
                    "colab": {
                      "custom_widget_manager": {
                        "url": "https://ssl.gstatic.com/colaboratory-static/widgets/colab-cdn-widget-manager/2b70e893a8ba7c0f/manager.min.js"
                      }
                    }
                  }
                }
              }
            ]
          }
        },
        "0c8bea13b558483bb612b8008819709f": {
          "model_module": "@jupyter-widgets/controls",
          "model_name": "ToggleButtonModel",
          "model_module_version": "1.5.0",
          "state": {
            "_dom_classes": [],
            "_model_module": "@jupyter-widgets/controls",
            "_model_module_version": "1.5.0",
            "_model_name": "ToggleButtonModel",
            "_view_count": null,
            "_view_module": "@jupyter-widgets/controls",
            "_view_module_version": "1.5.0",
            "_view_name": "ToggleButtonView",
            "button_style": "",
            "description": "",
            "description_tooltip": null,
            "disabled": false,
            "icon": "globe",
            "layout": "IPY_MODEL_deacc920da9c40d0a983eb15a238b0fc",
            "style": "IPY_MODEL_7e05414bd49d4856bf3f64b59fd343f8",
            "tooltip": "Search location/data",
            "value": false
          }
        },
        "47e526dfa8ee461ea03d3846587c8224": {
          "model_module": "@jupyter-widgets/base",
          "model_name": "LayoutModel",
          "model_module_version": "1.2.0",
          "state": {
            "_model_module": "@jupyter-widgets/base",
            "_model_module_version": "1.2.0",
            "_model_name": "LayoutModel",
            "_view_count": null,
            "_view_module": "@jupyter-widgets/base",
            "_view_module_version": "1.2.0",
            "_view_name": "LayoutView",
            "align_content": null,
            "align_items": null,
            "align_self": null,
            "border": null,
            "bottom": null,
            "display": null,
            "flex": null,
            "flex_flow": null,
            "grid_area": null,
            "grid_auto_columns": null,
            "grid_auto_flow": null,
            "grid_auto_rows": null,
            "grid_column": null,
            "grid_gap": null,
            "grid_row": null,
            "grid_template_areas": null,
            "grid_template_columns": null,
            "grid_template_rows": null,
            "height": null,
            "justify_content": null,
            "justify_items": null,
            "left": null,
            "margin": null,
            "max_height": null,
            "max_width": null,
            "min_height": null,
            "min_width": null,
            "object_fit": null,
            "object_position": null,
            "order": null,
            "overflow": null,
            "overflow_x": null,
            "overflow_y": null,
            "padding": null,
            "right": null,
            "top": null,
            "visibility": null,
            "width": null
          }
        },
        "b4f0c8651b2644d38f0360288aace9a5": {
          "model_module": "@jupyter-widgets/controls",
          "model_name": "ToggleButtonModel",
          "model_module_version": "1.5.0",
          "state": {
            "_dom_classes": [],
            "_model_module": "@jupyter-widgets/controls",
            "_model_module_version": "1.5.0",
            "_model_name": "ToggleButtonModel",
            "_view_count": null,
            "_view_module": "@jupyter-widgets/controls",
            "_view_module_version": "1.5.0",
            "_view_name": "ToggleButtonView",
            "button_style": "",
            "description": "",
            "description_tooltip": null,
            "disabled": false,
            "icon": "wrench",
            "layout": "IPY_MODEL_650b539044f04c5cb9954a6017083375",
            "style": "IPY_MODEL_e3709563288c48c8a5256f12a7fea8a5",
            "tooltip": "Toolbar",
            "value": false
          }
        },
        "1fbb1ad3a50042e6a0d037205d2b7e95": {
          "model_module": "@jupyter-widgets/base",
          "model_name": "LayoutModel",
          "model_module_version": "1.2.0",
          "state": {
            "_model_module": "@jupyter-widgets/base",
            "_model_module_version": "1.2.0",
            "_model_name": "LayoutModel",
            "_view_count": null,
            "_view_module": "@jupyter-widgets/base",
            "_view_module_version": "1.2.0",
            "_view_name": "LayoutView",
            "align_content": null,
            "align_items": null,
            "align_self": null,
            "border": null,
            "bottom": null,
            "display": null,
            "flex": null,
            "flex_flow": null,
            "grid_area": null,
            "grid_auto_columns": null,
            "grid_auto_flow": null,
            "grid_auto_rows": null,
            "grid_column": null,
            "grid_gap": null,
            "grid_row": null,
            "grid_template_areas": null,
            "grid_template_columns": null,
            "grid_template_rows": null,
            "height": null,
            "justify_content": null,
            "justify_items": null,
            "left": null,
            "margin": null,
            "max_height": null,
            "max_width": null,
            "min_height": null,
            "min_width": null,
            "object_fit": null,
            "object_position": null,
            "order": null,
            "overflow": null,
            "overflow_x": null,
            "overflow_y": null,
            "padding": null,
            "right": null,
            "top": null,
            "visibility": null,
            "width": null
          }
        },
        "2a703b1cfe9c4ad6b6e10ecdb1f30bb8": {
          "model_module": "@jupyter-widgets/base",
          "model_name": "LayoutModel",
          "model_module_version": "1.2.0",
          "state": {
            "_model_module": "@jupyter-widgets/base",
            "_model_module_version": "1.2.0",
            "_model_name": "LayoutModel",
            "_view_count": null,
            "_view_module": "@jupyter-widgets/base",
            "_view_module_version": "1.2.0",
            "_view_name": "LayoutView",
            "align_content": null,
            "align_items": null,
            "align_self": null,
            "border": null,
            "bottom": null,
            "display": null,
            "flex": null,
            "flex_flow": null,
            "grid_area": null,
            "grid_auto_columns": null,
            "grid_auto_flow": null,
            "grid_auto_rows": null,
            "grid_column": null,
            "grid_gap": null,
            "grid_row": null,
            "grid_template_areas": null,
            "grid_template_columns": null,
            "grid_template_rows": null,
            "height": null,
            "justify_content": null,
            "justify_items": null,
            "left": null,
            "margin": null,
            "max_height": "400px",
            "max_width": "300px",
            "min_height": null,
            "min_width": null,
            "object_fit": null,
            "object_position": null,
            "order": null,
            "overflow": "scroll",
            "overflow_x": null,
            "overflow_y": null,
            "padding": null,
            "right": null,
            "top": null,
            "visibility": null,
            "width": null
          }
        },
        "deacc920da9c40d0a983eb15a238b0fc": {
          "model_module": "@jupyter-widgets/base",
          "model_name": "LayoutModel",
          "model_module_version": "1.2.0",
          "state": {
            "_model_module": "@jupyter-widgets/base",
            "_model_module_version": "1.2.0",
            "_model_name": "LayoutModel",
            "_view_count": null,
            "_view_module": "@jupyter-widgets/base",
            "_view_module_version": "1.2.0",
            "_view_name": "LayoutView",
            "align_content": null,
            "align_items": null,
            "align_self": null,
            "border": null,
            "bottom": null,
            "display": null,
            "flex": null,
            "flex_flow": null,
            "grid_area": null,
            "grid_auto_columns": null,
            "grid_auto_flow": null,
            "grid_auto_rows": null,
            "grid_column": null,
            "grid_gap": null,
            "grid_row": null,
            "grid_template_areas": null,
            "grid_template_columns": null,
            "grid_template_rows": null,
            "height": "28px",
            "justify_content": null,
            "justify_items": null,
            "left": null,
            "margin": null,
            "max_height": null,
            "max_width": null,
            "min_height": null,
            "min_width": null,
            "object_fit": null,
            "object_position": null,
            "order": null,
            "overflow": null,
            "overflow_x": null,
            "overflow_y": null,
            "padding": "0px 0px 0px 4px",
            "right": null,
            "top": null,
            "visibility": null,
            "width": "28px"
          }
        },
        "7e05414bd49d4856bf3f64b59fd343f8": {
          "model_module": "@jupyter-widgets/controls",
          "model_name": "DescriptionStyleModel",
          "model_module_version": "1.5.0",
          "state": {
            "_model_module": "@jupyter-widgets/controls",
            "_model_module_version": "1.5.0",
            "_model_name": "DescriptionStyleModel",
            "_view_count": null,
            "_view_module": "@jupyter-widgets/base",
            "_view_module_version": "1.2.0",
            "_view_name": "StyleView",
            "description_width": ""
          }
        },
        "650b539044f04c5cb9954a6017083375": {
          "model_module": "@jupyter-widgets/base",
          "model_name": "LayoutModel",
          "model_module_version": "1.2.0",
          "state": {
            "_model_module": "@jupyter-widgets/base",
            "_model_module_version": "1.2.0",
            "_model_name": "LayoutModel",
            "_view_count": null,
            "_view_module": "@jupyter-widgets/base",
            "_view_module_version": "1.2.0",
            "_view_name": "LayoutView",
            "align_content": null,
            "align_items": null,
            "align_self": null,
            "border": null,
            "bottom": null,
            "display": null,
            "flex": null,
            "flex_flow": null,
            "grid_area": null,
            "grid_auto_columns": null,
            "grid_auto_flow": null,
            "grid_auto_rows": null,
            "grid_column": null,
            "grid_gap": null,
            "grid_row": null,
            "grid_template_areas": null,
            "grid_template_columns": null,
            "grid_template_rows": null,
            "height": "28px",
            "justify_content": null,
            "justify_items": null,
            "left": null,
            "margin": null,
            "max_height": null,
            "max_width": null,
            "min_height": null,
            "min_width": null,
            "object_fit": null,
            "object_position": null,
            "order": null,
            "overflow": null,
            "overflow_x": null,
            "overflow_y": null,
            "padding": "0px 0px 0px 4px",
            "right": null,
            "top": null,
            "visibility": null,
            "width": "28px"
          }
        },
        "e3709563288c48c8a5256f12a7fea8a5": {
          "model_module": "@jupyter-widgets/controls",
          "model_name": "DescriptionStyleModel",
          "model_module_version": "1.5.0",
          "state": {
            "_model_module": "@jupyter-widgets/controls",
            "_model_module_version": "1.5.0",
            "_model_name": "DescriptionStyleModel",
            "_view_count": null,
            "_view_module": "@jupyter-widgets/base",
            "_view_module_version": "1.2.0",
            "_view_name": "StyleView",
            "description_width": ""
          }
        },
        "89e4c85264d24fb7ba33c8c736ca3bd2": {
          "model_module": "@jupyter-widgets/controls",
          "model_name": "HTMLModel",
          "model_module_version": "1.5.0",
          "state": {
            "_dom_classes": [],
            "_model_module": "@jupyter-widgets/controls",
            "_model_module_version": "1.5.0",
            "_model_name": "HTMLModel",
            "_view_count": null,
            "_view_module": "@jupyter-widgets/controls",
            "_view_module_version": "1.5.0",
            "_view_name": "HTMLView",
            "description": "",
            "description_tooltip": null,
            "layout": "IPY_MODEL_92e79a2cd83b405280798e659c835b1f",
            "placeholder": "​",
            "style": "IPY_MODEL_eb0e2e68dcdc461eaf6b74fc1d156539",
            "value": "<html>\n<body>\n  <div class='my-legend'>\n  <div class='legend-title'>Legend</div>\n  <div class='legend-scale'>\n    <ul class='legend-labels'>\n      <li><span style='background:#419bdf;'></span>Water</li>\n      <li><span style='background:#397d49;'></span>Trees</li>\n      <li><span style='background:#88b053;'></span>Grass</li>\n      <li><span style='background:#7a87c6;'></span>Flooded Vegetation</li>\n      <li><span style='background:#e49635;'></span>Crops</li>\n      <li><span style='background:#dfc35a;'></span>Shrub and Scrub</li>\n      <li><span style='background:#c4281b;'></span>Built</li>\n      <li><span style='background:#a59b8f;'></span>Bare</li>\n      <li><span style='background:#b39fe1;'></span>Snow and Ice</li>\n    </ul>\n  </div>\n  </div>\n\n  <style type='text/css'>\n    .my-legend .legend-title {\n      text-align: left;\n      margin-bottom: 2px;\n      margin-left: 2px;\n      font-weight: bold;\n      font-size: 90%;\n      }\n    .my-legend .legend-scale ul {\n      margin: 0;\n      margin-bottom: 5px;\n      padding: 0;\n      float: left;\n      list-style: none;\n      }\n    .my-legend .legend-scale ul li {\n      font-size: 80%;\n      list-style: none;\n      margin-left: 1px;\n      line-height: 18px;\n      margin-bottom: 2px;\n      }\n    .my-legend ul.legend-labels li span {\n      display: block;\n      float: left;\n      height: 16px;\n      width: 30px;\n      margin-right: 5px;\n      margin-left: 2px;\n      border: 1px solid #999;\n      }\n    .my-legend .legend-source {\n      font-size: 70%;\n      color: #999;\n      clear: both;\n      }\n    .my-legend a {\n      color: #777;\n      }\n  </style>\n</body>\n</html>\n"
          }
        },
        "92e79a2cd83b405280798e659c835b1f": {
          "model_module": "@jupyter-widgets/base",
          "model_name": "LayoutModel",
          "model_module_version": "1.2.0",
          "state": {
            "_model_module": "@jupyter-widgets/base",
            "_model_module_version": "1.2.0",
            "_model_name": "LayoutModel",
            "_view_count": null,
            "_view_module": "@jupyter-widgets/base",
            "_view_module_version": "1.2.0",
            "_view_name": "LayoutView",
            "align_content": null,
            "align_items": null,
            "align_self": null,
            "border": null,
            "bottom": null,
            "display": null,
            "flex": null,
            "flex_flow": null,
            "grid_area": null,
            "grid_auto_columns": null,
            "grid_auto_flow": null,
            "grid_auto_rows": null,
            "grid_column": null,
            "grid_gap": null,
            "grid_row": null,
            "grid_template_areas": null,
            "grid_template_columns": null,
            "grid_template_rows": null,
            "height": null,
            "justify_content": null,
            "justify_items": null,
            "left": null,
            "margin": null,
            "max_height": null,
            "max_width": null,
            "min_height": null,
            "min_width": null,
            "object_fit": null,
            "object_position": null,
            "order": null,
            "overflow": null,
            "overflow_x": null,
            "overflow_y": null,
            "padding": null,
            "right": null,
            "top": null,
            "visibility": null,
            "width": null
          }
        },
        "eb0e2e68dcdc461eaf6b74fc1d156539": {
          "model_module": "@jupyter-widgets/controls",
          "model_name": "DescriptionStyleModel",
          "model_module_version": "1.5.0",
          "state": {
            "_model_module": "@jupyter-widgets/controls",
            "_model_module_version": "1.5.0",
            "_model_name": "DescriptionStyleModel",
            "_view_count": null,
            "_view_module": "@jupyter-widgets/base",
            "_view_module_version": "1.2.0",
            "_view_name": "StyleView",
            "description_width": ""
          }
        }
      }
    }
  },
  "cells": [
    {
      "cell_type": "markdown",
      "metadata": {
        "id": "view-in-github",
        "colab_type": "text"
      },
      "source": [
        "<a href=\"https://colab.research.google.com/github/seamusrobertmurphy/01-data-processing/blob/main/02_global_data_processing.ipynb\" target=\"_parent\"><img src=\"https://colab.research.google.com/assets/colab-badge.svg\" alt=\"Open In Colab\"/></a>"
      ]
    },
    {
      "cell_type": "markdown",
      "source": [
        "### Environment setup"
      ],
      "metadata": {
        "id": "Zs-XkMfnTPG8"
      }
    },
    {
      "cell_type": "code",
      "execution_count": null,
      "metadata": {
        "id": "8MIGUKfTznMD",
        "collapsed": true
      },
      "outputs": [],
      "source": [
        "!pip install leafmap geemap==0.16.4 geopandas numpy session_info\n",
        "import ee, json, geemap, ipyleaflet, os, numpy, backports, session_info\n",
        "from google.colab import drive\n",
        "from google.colab import files\n",
        "!drive.mount('/content/drive')"
      ]
    },
    {
      "cell_type": "markdown",
      "source": [
        "\n",
        "\n",
        "### Activate Earth Engine"
      ],
      "metadata": {
        "id": "myJzbBrc2NH4"
      }
    },
    {
      "cell_type": "code",
      "source": [
        "#!ee.Authenticate() # deprecated in certain Colab environments\n",
        "!earthengine authenticate\n",
        "ee.Initialize(project = \"murphys-deforisk\")"
      ],
      "metadata": {
        "collapsed": true,
        "id": "KJyaBbBmWoEj"
      },
      "execution_count": null,
      "outputs": []
    },
    {
      "cell_type": "markdown",
      "source": [
        "### Jurisidictional boundaries"
      ],
      "metadata": {
        "id": "a8jVqmt2TJch"
      }
    },
    {
      "cell_type": "code",
      "source": [
        "country = ee.FeatureCollection('FAO/GAUL/2015/level1').filter(\n",
        "    ee.Filter.equals(\"ADM0_NAME\", \"Liberia\"))\n",
        "state = ee.FeatureCollection('FAO/GAUL/2015/level1').filter(\n",
        "    ee.Filter.equals(\"ADM0_NAME\", \"Liberia\"))\n",
        "state_list = country.aggregate_array('ADM1_NAME').distinct().getInfo()\n",
        "state_list"
      ],
      "metadata": {
        "id": "GgtmLpgrakJa",
        "colab": {
          "base_uri": "https://localhost:8080/"
        },
        "outputId": "28f6dd89-f6e0-4c50-dd1e-bf3e9588f088",
        "collapsed": true
      },
      "execution_count": 4,
      "outputs": [
        {
          "output_type": "execute_result",
          "data": {
            "text/plain": [
              "['Grand Gedeh',\n",
              " 'River Gee',\n",
              " 'Gbarpolu',\n",
              " 'Lofa',\n",
              " 'Bomi',\n",
              " 'Bong',\n",
              " 'Grand Bassa',\n",
              " 'Grand Cape Mount',\n",
              " 'Grand Kru',\n",
              " 'Margibi',\n",
              " 'Maryland',\n",
              " 'Montserrado',\n",
              " 'Nimba',\n",
              " 'Rivercess',\n",
              " 'Sinoe']"
            ]
          },
          "metadata": {},
          "execution_count": 4
        }
      ]
    },
    {
      "cell_type": "code",
      "source": [
        "red = {\"color\": \"red\", \"width\": 2, \"lineType\": \"solid\", \"fillColor\": \"00000000\"}\n",
        "white = {\"color\": \"white\", \"width\": 1, \"lineType\": \"solid\", \"fillColor\": \"00000000\"}\n",
        "country_label = ee.FeatureCollection([ee.Feature(\n",
        "    country.geometry().centroid(), {'country_name': country.first().get(\"ADM0_NAME\").getInfo()})])\n",
        "\n",
        "Map = geemap.Map()\n",
        "Map.centerObject(country, 6)\n",
        "Map.add_basemap('Esri.WorldImagery')\n",
        "Map.addLayer(country.style(**white), {}, \"Country\")\n",
        "Map.addLayer(state.style(**white), {}, \"States\")\n",
        "Map.add_labels(state,\"ADM1_NAME\",font_size=\"7pt\",font_color=\"white\",font_family=\"arial\",)\n",
        "Map.add_labels(country_label, \"country_name\", font_size=\"12pt\", font_color=\"white\", font_family=\"arial\",)\n",
        "Map"
      ],
      "metadata": {
        "colab": {
          "base_uri": "https://localhost:8080/",
          "height": 621,
          "referenced_widgets": [
            "ad5a84b3292742a59069f0f7af747f74",
            "c756f17293624e65bd6b6c9057bb30a3",
            "5b13ef5b70114a6db3168bb8b1548718",
            "7d5443a797d54d0c8c7447116a84d327",
            "75597cfd5d72470eb6a077be57ecb445",
            "6844b2a98ca2462ab19238cdaf1382b8",
            "9a5fa91fbd7f45f2af7078048d9ee5f2",
            "a87801df50054398bfd77f6a5ae342c1",
            "8e82a4963d56486b8b0409874c1a95a9",
            "567a34ab544b4e5ea8fdd7bb8806bc66",
            "d934d15e91e44b12b9e04ee4e5b4bdb8",
            "b8fd77f4dd284f4f8dca64f99200fb1d",
            "3907d836b3ca46178a1aadb55643a236",
            "1be32bde82d444b6ae7fbd5365f63a0c",
            "7aba77355f254dcda84e1e031d338cd1",
            "93011991cc62454084be06378acdedc3",
            "67e5fdacc7a748e480bebef5a266ce07",
            "48878f072c6f42e1b504dd4cfde8e2b8",
            "2dd31e089d174513809b2b74c2ab3ecc",
            "e40acad1471a411983db568fad7c9f42",
            "1fde9994896e46b9860c62c463545f0f",
            "58c39c2db7ad4a8abb4db7a82ec45c06",
            "be1a2fcbea1741e6ab56b395036fb027",
            "729ae2ac6bb54470b5ff3e871b33d1bc",
            "13aa1b0ec2c14a62b40f72d67d3e5880",
            "b01ef67faa8749d4a59dc5e930f76998",
            "9378b6da6f8046a18f6d8e0fdc0bd375",
            "dd8cf74335f544e891bf0b1a96c113b3",
            "7ab99f36a2294b7bb92090aed8ec0a6b",
            "43be806bd8664a678699667ceda3bc1e",
            "1a6dbd7abc9246e98316f5b7331a0512",
            "ccb0d9c2d0f44d55a6ddbad78e899fd5",
            "41d11c9eb7f745f7be789b14cf895f8f",
            "81968b020c5445ab8b88dcb12a7cac4a",
            "14f6d4d99d584901a7688a2df659bba2",
            "0df519f843104aac92172be2d59ae509",
            "0d585525be8446a9aaaca2898a89e442",
            "8977f673663e412cbb5427297b451836",
            "b45f2b95faa24bf7972f1d9756042e1d",
            "a0154569fa1048cf987be37a835d6dbf",
            "a9c34985d19941159395ca845733085d",
            "445cd9a4f1ba48c183b26435f424dff0",
            "94b8d15743f542d9af2acca93255f0e8",
            "eda4073996cf44bea9afadbca9dbf9f1",
            "d3961cac7b6f45be828f9df620202642",
            "b42276fa629a4837aecd80004732464f",
            "215189199f284e21957e5dfaf717ff75",
            "013ade72c6e148ea87aa6fadb8f39f9f",
            "fe4219f03fe5463dac8bfacfb87e378d",
            "88f6658f799b4547a209ddd15f1bbbfe",
            "d3ab5e77fab94dfab6a1ad6aa30179a4",
            "a0984cc41589491ebafa5fd73c7630c8",
            "743f9bee4fa24e19b757187e8b7783af",
            "062c2400556340c3a5daa6016a696010",
            "07d6a133f2f448839225674a4fbada11",
            "621b6a298d814083b6b4111157215f05",
            "ee4b1bef770a4a46856ccb26351a9b3b",
            "89d7d638fd554e418ab66c8f22eaac29",
            "58a616694b0f4ca4841c73251c506387",
            "52b88a340c484bceb60cbb8269d3c0c5",
            "50f3fcd63a8741eaa1b7d58d41ada95b",
            "aba7e91b8e214532ad69ed16eb5c80af"
          ]
        },
        "id": "6K7u7Ox57ZQb",
        "outputId": "213fc76d-f7b2-4419-fe9c-c2968811562f"
      },
      "execution_count": 36,
      "outputs": [
        {
          "output_type": "display_data",
          "data": {
            "text/plain": [
              "Map(center=[6.446116651575274, -9.30729708708129], controls=(WidgetControl(options=['position', 'transparent_b…"
            ],
            "application/vnd.jupyter.widget-view+json": {
              "version_major": 2,
              "version_minor": 0,
              "model_id": "ad5a84b3292742a59069f0f7af747f74"
            }
          },
          "metadata": {
            "application/vnd.jupyter.widget-view+json": {
              "colab": {
                "custom_widget_manager": {
                  "url": "https://ssl.gstatic.com/colaboratory-static/widgets/colab-cdn-widget-manager/2b70e893a8ba7c0f/manager.min.js"
                }
              }
            }
          }
        }
      ]
    },
    {
      "cell_type": "code",
      "source": [
        "import pandas as pd\n",
        "\n",
        "aoi = ee.FeatureCollection(geemap.shp_to_ee('/content/drive/MyDrive/Colab Notebooks/data/AllLandscapes_merge_v02.shp'))\n",
        "aoi = aoi.filter(ee.Filter.inList('Name', ['Gola Forest National Park', 'Norman', 'Tonglay']))\n",
        "aoi = aoi.select('Name')\n",
        "\n",
        "results = []\n",
        "for feature in aoi.toList(aoi.size()).getInfo():\n",
        "    name = feature['properties']['Name']\n",
        "    area_ha = ee.Feature(feature).geometry().area(10).divide(10000).getInfo()\n",
        "    results.append({'Name': name, 'area_ha': round(area_ha, 4)})  # Round to 4 decimal places\n",
        "\n",
        "df = pd.DataFrame(results)\n",
        "total_area = df['area_ha'].sum()\n",
        "df.loc['Total'] = pd.Series({'Name': 'Total', 'area_ha': total_area})\n",
        "print(df)\n",
        "\n",
        "Map = geemap.Map()\n",
        "Map.centerObject(aoi, 10)  # Center the map on the filtered AOI\n",
        "Map.add_basemap('Esri.WorldImagery')\n",
        "Map.addLayer(aoi.style(**white), {}, \"AOI\")\n",
        "Map.add_labels(aoi,\"Name\",font_size=\"9pt\",font_color=\"red\",font_family=\"arial\",font_weight=\"bold\",)\n",
        "Map\n"
      ],
      "metadata": {
        "colab": {
          "base_uri": "https://localhost:8080/",
          "height": 708,
          "referenced_widgets": [
            "99411a713030400b9ba0f82961442fb2",
            "8786ba3347a942c89682eb863479ea88",
            "ed1f044e04c1497d8b7ddfa05aa1e88f",
            "1c29f50d077f4655b8b60b2f03962597",
            "21e6b0974c934b79814175986362326c",
            "95972c2e4ba7448fbb39ce85b0eed84a",
            "33f09020fd3b49a1aa84742f7cd29075",
            "d971f54a93314797b56d47c39ed994b5",
            "e87a729381054a6bab233dc41b3194e5",
            "3d8d09ea1821447ca72f77a8a2ac42a2",
            "fc95da7c3dbb4909bde637b4af639a32",
            "dac14517467d4be3be153c22f30e0825",
            "3907d836b3ca46178a1aadb55643a236",
            "1be32bde82d444b6ae7fbd5365f63a0c",
            "9c588c7caa2341c8adc6dc34ba50719a",
            "6573e2f5d96c4fa7a8e23f2f825666c4",
            "f24f0070b7aa48b7beba3b4a9abbb5d7",
            "f4ab09c6f0b84c499b61d07bb199827d",
            "34711cbaab444b42821aa9c112bc3753",
            "2fe1b7540e69436fb225da41e16e2d7b",
            "48d7a192892648b6b19b6a765f5030b7",
            "fb66739e2d36469d8517417a0c45a39f",
            "d8419a681b94436d9e24e2718589d507",
            "79be16d3950f4b5d9172ef290cd54b2f",
            "e41be4c06bc246438ebd99660a50d300",
            "f3116adb6bfa4e0d991313487d103947",
            "60eac637dcdb4021a8f0e768f328baf4",
            "35c24f019bb64b119063cfd9616e4714",
            "b3be739ce176477d95071a2c39fed696",
            "80ce631495f64734abe1f796c43ebd8d",
            "5a53aa1e0f124de3b39da53ac163710a",
            "44c966d8b1264fa4aced2473d08dec77",
            "622cc2f4347c4ac69900142da69172d6",
            "9a26c73efb15480cbf6f6011d4caab8a"
          ]
        },
        "id": "HEBzxbP2yCz5",
        "outputId": "0fc34047-445a-4119-8a64-7b3664a8d44d"
      },
      "execution_count": 38,
      "outputs": [
        {
          "output_type": "stream",
          "name": "stdout",
          "text": [
            "                            Name      area_ha\n",
            "0      Gola Forest National Park   89411.6539\n",
            "1                        Tonglay   19676.8689\n",
            "2                         Norman   12350.6998\n",
            "Total                      Total  121439.2226\n"
          ]
        },
        {
          "output_type": "display_data",
          "data": {
            "text/plain": [
              "Map(center=[7.544144814296237, -10.758250676400191], controls=(WidgetControl(options=['position', 'transparent…"
            ],
            "application/vnd.jupyter.widget-view+json": {
              "version_major": 2,
              "version_minor": 0,
              "model_id": "99411a713030400b9ba0f82961442fb2"
            }
          },
          "metadata": {
            "application/vnd.jupyter.widget-view+json": {
              "colab": {
                "custom_widget_manager": {
                  "url": "https://ssl.gstatic.com/colaboratory-static/widgets/colab-cdn-widget-manager/2b70e893a8ba7c0f/manager.min.js"
                }
              }
            }
          }
        }
      ]
    },
    {
      "cell_type": "markdown",
      "source": [
        "The Dynamic World dataset provides near real-time (NRT) land cover classifications at a 10-meter resolution. It's important to note that this dataset's availability starts from June 27, 2015. Therefore, we can directly access data for 2019 and potentially 2024 (if data is available up to that year). However, for 2014, we'll need to use the closest available data.\n",
        "\n"
      ],
      "metadata": {
        "id": "bZw_9pqzTCXk"
      }
    },
    {
      "source": [
        "# Load the Dynamic World dataset\n",
        "dwCol = ee.ImageCollection(\"GOOGLE/DYNAMICWORLD/V1\")\n",
        "country_buff = country.geometry().buffer(20000)  # 10000 meters = 10 km\n",
        "\n",
        "# Filter data for 2019 and 2024\n",
        "dw2015 = dwCol.filterDate('2015-06-27', '2015-12-31').filterBounds(country_buff)  # Earliest year available\n",
        "dw2019 = dwCol.filterDate('2019-01-01', '2019-12-31').filterBounds(country_buff)\n",
        "dw2024 = dwCol.filterDate('2024-01-01', '2024-12-31').filterBounds(country_buff)\n",
        "\n",
        "\n",
        "# Create composites or mosaics for each year\n",
        "land_cover_2015 = dw2015.mode().select('label').clip(country_buff)\n",
        "land_cover_2019 = dw2019.mode().select('label').clip(country_buff)\n",
        "land_cover_2024 = dw2024.mode().select('label').clip(country_buff)  # Check if data is available\n",
        "\n",
        "# Define land cover class names (adjust if needed)\n",
        "land_cover_classes = {\n",
        "    0: 'Water',\n",
        "    1: 'Trees',\n",
        "    2: 'Grass',\n",
        "    3: 'Flooded Vegetation',\n",
        "    4: 'Crops',\n",
        "    5: 'Shrub and Scrub',\n",
        "    6: 'Built',\n",
        "    7: 'Bare',\n",
        "    8: 'Snow and Ice'\n",
        "}\n",
        "\n",
        "land_cover_colors = [\n",
        "    '#419bdf', '#397d49', '#88b053', '#7a87c6',\n",
        "    '#e49635', '#dfc35a', '#c4281b', '#a59b8f',\n",
        "    '#b39fe1'\n",
        "]\n",
        "\n",
        "vis_params = {\n",
        "    'min': 0,\n",
        "    'max': 8,\n",
        "    'palette': land_cover_colors\n",
        "}\n",
        "\n",
        "Map = geemap.Map()\n",
        "Map.centerObject(country, 6)\n",
        "Map.add_basemap('Esri.WorldImagery')\n",
        "Map.addLayer(land_cover_2015, vis_params, 'Land Cover 2015')\n",
        "Map.addLayer(land_cover_2019, vis_params, 'Land Cover 2019')\n",
        "Map.addLayer(land_cover_2024, vis_params, 'Land Cover 2024')\n",
        "legend_dict = {land_cover_classes[i]: land_cover_colors[i] for i in range(len(land_cover_classes))}\n",
        "Map.add_legend(legend_title=\"Land Cover Classes\", legend_dict=legend_dict)\n",
        "Map.addLayer(aoi.style(**white), {}, \"AOI\")\n",
        "Map"
      ],
      "cell_type": "code",
      "metadata": {
        "colab": {
          "base_uri": "https://localhost:8080/",
          "height": 621,
          "referenced_widgets": [
            "5edb5699ab874e82aa88bbea7e720149",
            "8e4513338c90418ba907545ffc8d1f6c",
            "dcd36ba865ae41f6b819c248d27c1010",
            "af6b2e52a27547868972b9ecbfeca8ed",
            "afe7b4b783f04e6887e78aab4b3eb5e0",
            "57a2c5dbdc9e4fbeb39b06ac9e3554ca",
            "c8668603cda943cfaede575186ef4cf8",
            "581e797e25ad40b68f647353662ec863",
            "cae51b51c7f04142b439ad5638f5b0ae",
            "099beef77bb54e7f9810ee20a3d66bc5",
            "1f110acaaccf4b9697fa96c12c349ee3",
            "3ea817ad9d8e4b93b3781919ea3eed3c",
            "2b4351d099244961b15da00231c4df65",
            "3907d836b3ca46178a1aadb55643a236",
            "1be32bde82d444b6ae7fbd5365f63a0c",
            "e10207b65ade4bc8b489fc71ab28cd2b",
            "761dccf1220745ebb399e10f2be77156",
            "4e76f1c703a94c84b29ff799e459d575",
            "efaacb3b0a1f4830aefc133bdd37194a",
            "b1a9751db0384de3a32636f39353bde9",
            "a9db315ab636492cb50ee78a0455938d",
            "19ebd7062a834df6a5c7fd9b690cdc3a",
            "8160a7892d754f4d8def6a3bfd5cb844",
            "420d7315ff6e4da5a7e53db0adec2f72",
            "0c8bea13b558483bb612b8008819709f",
            "47e526dfa8ee461ea03d3846587c8224",
            "b4f0c8651b2644d38f0360288aace9a5",
            "1fbb1ad3a50042e6a0d037205d2b7e95",
            "2a703b1cfe9c4ad6b6e10ecdb1f30bb8",
            "deacc920da9c40d0a983eb15a238b0fc",
            "7e05414bd49d4856bf3f64b59fd343f8",
            "650b539044f04c5cb9954a6017083375",
            "e3709563288c48c8a5256f12a7fea8a5",
            "89e4c85264d24fb7ba33c8c736ca3bd2",
            "92e79a2cd83b405280798e659c835b1f",
            "eb0e2e68dcdc461eaf6b74fc1d156539"
          ]
        },
        "id": "Qa1K0i17v8ea",
        "outputId": "e010a675-d770-47f9-d837-3b875ba26f97",
        "collapsed": true
      },
      "execution_count": 40,
      "outputs": [
        {
          "output_type": "display_data",
          "data": {
            "text/plain": [
              "Map(center=[6.446116651575274, -9.30729708708129], controls=(WidgetControl(options=['position', 'transparent_b…"
            ],
            "application/vnd.jupyter.widget-view+json": {
              "version_major": 2,
              "version_minor": 0,
              "model_id": "5edb5699ab874e82aa88bbea7e720149"
            }
          },
          "metadata": {
            "application/vnd.jupyter.widget-view+json": {
              "colab": {
                "custom_widget_manager": {
                  "url": "https://ssl.gstatic.com/colaboratory-static/widgets/colab-cdn-widget-manager/2b70e893a8ba7c0f/manager.min.js"
                }
              }
            }
          }
        }
      ]
    },
    {
      "cell_type": "code",
      "source": [
        "# Define the years of interest\n",
        "years = [2014, 2019, 2024]\n",
        "\n",
        "# Create an empty list to store the results\n",
        "all_results = []\n",
        "\n",
        "# Loop through the subzones\n",
        "for subzone_name in aoi.toList(aoi.size()).map(lambda f: ee.Feature(f).get('Name')).getInfo():\n",
        "    subzone_aoi = aoi.filter(ee.Filter.eq('Name', subzone_name))\n",
        "\n",
        "    # Calculate the total area of the subzone\n",
        "    total_area = subzone_aoi.geometry().area().divide(10000).getInfo()\n",
        "\n",
        "    # Store subzone results\n",
        "    subzone_results = {'Land Class': 'Total', 'Total (ha)': total_area}\n",
        "\n",
        "    # Loop through the years\n",
        "    for year in years:\n",
        "        # Get the Dynamic World land cover image for the year\n",
        "        if year == 2014:\n",
        "            # Use 2015 as a proxy for 2014\n",
        "            land_cover_image = dwCol.filterDate('2015-06-27', '2015-12-31').mode().select('label').clip(country)\n",
        "        else:\n",
        "            land_cover_image = dwCol.filterDate(f'{year}-01-01', f'{year}-12-31').mode().select('label').clip(country)\n",
        "\n",
        "        # Calculate area estimates for the current year\n",
        "        area_estimates = calculate_area_estimates(land_cover_image, subzone_aoi, year)\n",
        "\n",
        "        # Update subzone results with year-specific estimates\n",
        "        subzone_results[f'{year} (ha)'] = area_estimates.values()\n",
        "\n",
        "    all_results.append(subzone_results)"
      ],
      "metadata": {
        "id": "h0OV-I9D1dFm"
      },
      "execution_count": null,
      "outputs": []
    },
    {
      "cell_type": "markdown",
      "source": [
        "### Export to Drive\n",
        "\n",
        "Caution, running the following chunk will export 12GB of duplicate rasters to a drive folder."
      ],
      "metadata": {
        "id": "Y_Nl_o3vGd3Z"
      }
    },
    {
      "source": [
        "from datetime import datetime\n",
        "\n",
        "# extract pathrow and date from scene ID\n",
        "def get_pathrow_date(image_collection):\n",
        "  first_image = image_collection.first()\n",
        "  scene_id = first_image.get('system:index').getInfo()\n",
        "  parts = scene_id.split('_')\n",
        "  pathrow = parts[1]\n",
        "  date_str = parts[2]\n",
        "  date_obj = datetime.strptime(date_str, '%Y%m%d')\n",
        "  date = date_obj.strftime('%Y-%m-%d')\n",
        "  return pathrow, date\n",
        "\n",
        "# define export parameters\n",
        "def define_export_params(image, pathrow, date, band_name):\n",
        "  description = f'composite_{date}_{band_name if isinstance(band_name, str) else \"RGB\"}_export'[:100]\n",
        "  return {\n",
        "    'image': image.select(band_name),\n",
        "    'description': description,\n",
        "    'folder': 'VT0007-deforestation-map',\n",
        "    'fileNamePrefix': f'LANDSAT_TM-ETM-OLI_{pathrow}_{band_name if isinstance(band_name, str) else \"RGB\"}_{date}',\n",
        "    'scale': 30,\n",
        "    'region': state.geometry(),\n",
        "    'maxPixels': 1e13,\n",
        "    'fileFormat': 'GeoTIFF',\n",
        "    'formatOptions': {'cloudOptimized': True}\n",
        "  }\n",
        "\n",
        "# get pathrow and date for each collection\n",
        "pathrow_2014, date_2014 = get_pathrow_date(collection_2014)\n",
        "pathrow_2019, date_2019 = get_pathrow_date(collection_2019)\n",
        "pathrow_2024, date_2024 = get_pathrow_date(collection_2024)\n",
        "\n",
        "# get band names\n",
        "bandNames_2014 = composite_2014.bandNames().getInfo()\n",
        "bandNames_2019 = composite_2019.bandNames().getInfo()\n",
        "bandNames_2024 = composite_2024.bandNames().getInfo()\n",
        "\n",
        "# export to cloud bucket\n",
        "for band_name in bandNames_2014:\n",
        "    export_params_2014 = define_export_params(composite_2014, pathrow_2014, date_2014, band_name)\n",
        "    task_2014 = ee.batch.Export.image.toDrive(**export_params_2014)\n",
        "    task_2014.start()\n",
        "    print(f\"Exporting 2014 image for band {band_name}. Task ID: {task_2014.id}\")\n",
        "\n",
        "for band_name in bandNames_2019:\n",
        "    export_params_2019 = define_export_params(composite_2019, pathrow_2019, date_2019, band_name)\n",
        "    task_2019 = ee.batch.Export.image.toDrive(**export_params_2019)\n",
        "    task_2019.start()\n",
        "    print(f\"Exporting 2019 image for band {band_name}. Task ID: {task_2019.id}\")\n",
        "\n",
        "for band_name in bandNames_2024:\n",
        "    export_params_2024 = define_export_params(composite_2024, pathrow_2024, date_2024, band_name)\n",
        "    task_2024 = ee.batch.Export.image.toDrive(**export_params_2024)\n",
        "    task_2024.start()\n",
        "    print(f\"Exporting 2024 image for band {band_name}. Task ID: {task_2024.id}\")\n",
        "\n",
        "export_params_2014_rgb = define_export_params(composite_2014, pathrow_2014, date_2014, ['RED', 'GREEN', 'BLUE'])\n",
        "export_params_2014_rgb['image'] = composite_2014.visualize(**rgbVis)\n",
        "task_2014_rgb = ee.batch.Export.image.toDrive(**export_params_2014_rgb)\n",
        "task_2014_rgb.start()\n",
        "print(f\"Exporting 2014 RGB image. Task ID: {task_2014_rgb.id}\")\n",
        "\n",
        "export_params_2019_rgb = define_export_params(composite_2019, pathrow_2019, date_2019, ['RED', 'GREEN', 'BLUE'])\n",
        "export_params_2019_rgb['image'] = composite_2019.visualize(**rgbVis)\n",
        "task_2019_rgb = ee.batch.Export.image.toDrive(**export_params_2019_rgb)\n",
        "task_2019_rgb.start()\n",
        "print(f\"Exporting 2019 RGB image. Task ID: {task_2019_rgb.id}\")\n",
        "\n",
        "export_params_2024_rgb['image'] = composite_2024.visualize(**rgbVis)\n",
        "task_2024_rgb = ee.batch.Export.image.toDrive(**export_params_2024_rgb)\n",
        "task_2024_rgb.start()\n",
        "print(f\"Exporting 2024 RGB image. Task ID: {task_2024_rgb.id}\")"
      ],
      "cell_type": "code",
      "metadata": {
        "colab": {
          "base_uri": "https://localhost:8080/"
        },
        "id": "DfcF8OJk7Tcz",
        "outputId": "b480106f-22b6-4232-8fb3-b11714e188cd"
      },
      "execution_count": null,
      "outputs": [
        {
          "output_type": "stream",
          "name": "stdout",
          "text": [
            "Exporting 2014 RGB image. Task ID: IIMNP6IZ4ALUYMXEILXGCRND\n"
          ]
        }
      ]
    },
    {
      "cell_type": "code",
      "source": [
        "session_info.show()"
      ],
      "metadata": {
        "colab": {
          "base_uri": "https://localhost:8080/",
          "height": 34
        },
        "id": "Y63WMj73ZiZW",
        "outputId": "5493c6bc-4e8e-480a-8671-a40435bbea97"
      },
      "execution_count": null,
      "outputs": [
        {
          "output_type": "execute_result",
          "data": {
            "text/plain": [
              "<IPython.core.display.HTML object>"
            ],
            "text/html": [
              "<details>\n",
              "<summary>Click to view session information</summary>\n",
              "<pre>\n",
              "-----\n",
              "backports           NA\n",
              "ee                  1.4.3\n",
              "geemap              0.16.4\n",
              "google              NA\n",
              "ipyleaflet          0.19.2\n",
              "numpy               1.26.4\n",
              "session_info        1.0.0\n",
              "-----\n",
              "</pre>\n",
              "<details>\n",
              "<summary>Click to view modules imported as dependencies</summary>\n",
              "<pre>\n",
              "OpenSSL                     24.2.1\n",
              "PIL                         11.0.0\n",
              "anyio                       NA\n",
              "arrow                       1.3.0\n",
              "attr                        24.3.0\n",
              "attrs                       24.3.0\n",
              "babel                       2.16.0\n",
              "backcall                    0.2.0\n",
              "bottleneck                  1.4.2\n",
              "box                         7.3.0\n",
              "bqplot                      0.12.43\n",
              "branca                      0.8.1\n",
              "cachetools                  5.5.0\n",
              "certifi                     2024.12.14\n",
              "chardet                     5.2.0\n",
              "charset_normalizer          3.4.0\n",
              "cloudpickle                 3.1.0\n",
              "cryptography                43.0.3\n",
              "cycler                      0.12.1\n",
              "cython_runtime              NA\n",
              "dateutil                    2.8.2\n",
              "debugpy                     1.8.0\n",
              "decorator                   4.4.2\n",
              "defusedxml                  0.7.1\n",
              "entrypoints                 0.4\n",
              "fastjsonschema              NA\n",
              "folium                      0.19.2\n",
              "fqdn                        NA\n",
              "gi                          3.42.1\n",
              "gio                         NA\n",
              "glib                        NA\n",
              "gobject                     NA\n",
              "google_auth_httplib2        NA\n",
              "googleapiclient             NA\n",
              "gtk                         NA\n",
              "httplib2                    0.22.0\n",
              "idna                        3.10\n",
              "importlib_metadata          NA\n",
              "ipyevents                   2.0.1\n",
              "ipyfilechooser              0.6.0\n",
              "ipykernel                   5.5.6\n",
              "ipyparallel                 8.8.0\n",
              "ipython_genutils            0.2.0\n",
              "ipytree                     0.2.2\n",
              "ipywidgets                  7.7.1\n",
              "isoduration                 NA\n",
              "jaraco                      NA\n",
              "jinja2                      3.1.4\n",
              "json5                       0.10.0\n",
              "jsonpointer                 3.0.0\n",
              "jsonschema                  4.23.0\n",
              "jsonschema_specifications   NA\n",
              "jupyter_events              0.11.0\n",
              "jupyter_server              2.15.0\n",
              "jupyterlab_server           2.27.3\n",
              "kiwisolver                  1.4.7\n",
              "markupsafe                  3.0.2\n",
              "matplotlib                  3.8.0\n",
              "matplotlib_inline           0.1.7\n",
              "more_itertools              10.5.0\n",
              "mpl_toolkits                NA\n",
              "msgpack                     1.1.0\n",
              "nbformat                    5.10.4\n",
              "numexpr                     2.10.2\n",
              "oauth2client                4.1.3\n",
              "overrides                   NA\n",
              "packaging                   24.2\n",
              "pandas                      2.2.2\n",
              "pexpect                     4.9.0\n",
              "pickleshare                 0.7.5\n",
              "pkg_resources               NA\n",
              "platformdirs                4.3.6\n",
              "portpicker                  NA\n",
              "prometheus_client           NA\n",
              "prompt_toolkit              3.0.48\n",
              "psutil                      5.9.5\n",
              "ptyprocess                  0.7.0\n",
              "pyarrow                     17.0.0\n",
              "pyasn1                      0.6.1\n",
              "pyasn1_modules              0.4.1\n",
              "pydev_ipython               NA\n",
              "pydevconsole                NA\n",
              "pydevd                      2.9.5\n",
              "pydevd_file_utils           NA\n",
              "pydevd_plugins              NA\n",
              "pydevd_tracing              NA\n",
              "pygments                    2.18.0\n",
              "pyparsing                   3.2.0\n",
              "pythonjsonlogger            NA\n",
              "pytz                        2024.2\n",
              "referencing                 NA\n",
              "requests                    2.32.3\n",
              "rfc3339_validator           0.1.4\n",
              "rfc3986_validator           0.1.1\n",
              "rpds                        NA\n",
              "rsa                         4.9\n",
              "scooby                      0.10.0\n",
              "send2trash                  NA\n",
              "setuptools                  75.1.0\n",
              "sitecustomize               NA\n",
              "six                         1.17.0\n",
              "sniffio                     1.3.1\n",
              "socks                       1.7.1\n",
              "sphinxcontrib               NA\n",
              "storemagic                  NA\n",
              "toml                        0.10.2\n",
              "tomli                       2.2.1\n",
              "tornado                     6.3.3\n",
              "traitlets                   5.7.1\n",
              "traittypes                  0.2.1\n",
              "uri_template                NA\n",
              "uritemplate                 4.1.1\n",
              "urllib3                     2.2.3\n",
              "wcwidth                     0.2.13\n",
              "webcolors                   NA\n",
              "websocket                   1.8.0\n",
              "xyzservices                 2024.9.0\n",
              "yaml                        6.0.2\n",
              "zipp                        NA\n",
              "zmq                         24.0.1\n",
              "zoneinfo                    NA\n",
              "</pre>\n",
              "</details> <!-- seems like this ends pre, so might as well be explicit -->\n",
              "<pre>\n",
              "-----\n",
              "IPython             7.34.0\n",
              "jupyter_client      6.1.12\n",
              "jupyter_core        5.7.2\n",
              "jupyterlab          4.3.4\n",
              "notebook            6.5.5\n",
              "-----\n",
              "Python 3.10.12 (main, Nov  6 2024, 20:22:13) [GCC 11.4.0]\n",
              "Linux-6.1.85+-x86_64-with-glibc2.35\n",
              "-----\n",
              "Session information updated at 2024-12-29 13:58\n",
              "</pre>\n",
              "</details>"
            ]
          },
          "metadata": {},
          "execution_count": 13
        }
      ]
    }
  ]
}